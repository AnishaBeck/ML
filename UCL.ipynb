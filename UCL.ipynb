{
  "nbformat": 4,
  "nbformat_minor": 0,
  "metadata": {
    "colab": {
      "provenance": [],
      "collapsed_sections": [],
      "authorship_tag": "ABX9TyMWICXQjYNh3Eh1LbTekxBC",
      "include_colab_link": true
    },
    "kernelspec": {
      "name": "python3",
      "display_name": "Python 3"
    },
    "language_info": {
      "name": "python"
    }
  },
  "cells": [
    {
      "cell_type": "markdown",
      "metadata": {
        "id": "view-in-github",
        "colab_type": "text"
      },
      "source": [
        "<a href=\"https://colab.research.google.com/github/AnishaBeck/ML/blob/main/UCL.ipynb\" target=\"_parent\"><img src=\"https://colab.research.google.com/assets/colab-badge.svg\" alt=\"Open In Colab\"/></a>"
      ]
    },
    {
      "cell_type": "markdown",
      "source": [
        "## **About the Champions league and the datasets:**\n",
        "****\n",
        "The UEFA Champions League is an annual club football competition organised by the Union of European Football Associations and contested by top-division European clubs, deciding the competition winners through a round robin group stage to qualify for a double-legged knockout format, and a single leg final.\n",
        "\n",
        "This dataset contains all the player stats of UEFA Champions League season 2021-22 ."
      ],
      "metadata": {
        "id": "jNMIigE7G0Xd"
      }
    },
    {
      "cell_type": "markdown",
      "source": [
        "**Import libararies:**\n"
      ],
      "metadata": {
        "id": "k-PFayKCHXiP"
      }
    },
    {
      "cell_type": "code",
      "source": [
        "import numpy as np \n",
        "import pandas as pd \n",
        "import os\n",
        "import seaborn as sns\n",
        "import matplotlib.pyplot as plt\n",
        "from scipy import stats\n",
        "import sqlite3"
      ],
      "metadata": {
        "id": "-rI8u0uXHUn3"
      },
      "execution_count": null,
      "outputs": []
    },
    {
      "cell_type": "markdown",
      "source": [
        "**Load Data**"
      ],
      "metadata": {
        "id": "MwF6AX7fHvqW"
      }
    },
    {
      "cell_type": "code",
      "source": [
        "ks=pd.read_csv(\"/content/key_stats.csv\")\n",
        "gl=pd.read_csv(\"/content/goals.csv\")\n",
        "dfn=pd.read_csv(\"/content/defending.csv\")\n",
        "atkg=pd.read_csv(\"/content/attacking.csv\")\n",
        "gk=pd.read_csv(\"/content/goalkeeping.csv\")\n",
        "dsp=pd.read_csv(\"/content/disciplinary.csv\")\n",
        "atm=pd.read_csv(\"/content/attempts.csv\")\n",
        "dis=pd.read_csv(\"/content/distributon.csv\")"
      ],
      "metadata": {
        "id": "M6tIPNYTHpqE"
      },
      "execution_count": null,
      "outputs": []
    },
    {
      "cell_type": "markdown",
      "source": [
        "**KEY STATS ANALYSIS**"
      ],
      "metadata": {
        "id": "oBef9wkBINC3"
      }
    },
    {
      "cell_type": "code",
      "source": [
        "ks.head()"
      ],
      "metadata": {
        "colab": {
          "base_uri": "https://localhost:8080/",
          "height": 206
        },
        "id": "3Cho9XgiIINW",
        "outputId": "346fd68a-2597-4dfc-f9a2-0782a08dd90a"
      },
      "execution_count": null,
      "outputs": [
        {
          "output_type": "execute_result",
          "data": {
            "text/plain": [
              "       player_name         club    position  minutes_played  match_played  \\\n",
              "0         Courtois  Real Madrid  Goalkeeper            1230            13   \n",
              "1  Vinícius Júnior  Real Madrid     Forward            1199            13   \n",
              "2          Benzema  Real Madrid     Forward            1106            12   \n",
              "3           Modrić  Real Madrid  Midfielder            1077            13   \n",
              "4     Éder Militão  Real Madrid    Defender            1076            12   \n",
              "\n",
              "   goals  assists distance_covered  \n",
              "0      0        0             64.2  \n",
              "1      4        6            133.0  \n",
              "2     15        1            121.5  \n",
              "3      0        4            124.5  \n",
              "4      0        0            110.4  "
            ],
            "text/html": [
              "\n",
              "  <div id=\"df-40fa0dbd-102f-4ab1-b94b-1ff5814bd595\">\n",
              "    <div class=\"colab-df-container\">\n",
              "      <div>\n",
              "<style scoped>\n",
              "    .dataframe tbody tr th:only-of-type {\n",
              "        vertical-align: middle;\n",
              "    }\n",
              "\n",
              "    .dataframe tbody tr th {\n",
              "        vertical-align: top;\n",
              "    }\n",
              "\n",
              "    .dataframe thead th {\n",
              "        text-align: right;\n",
              "    }\n",
              "</style>\n",
              "<table border=\"1\" class=\"dataframe\">\n",
              "  <thead>\n",
              "    <tr style=\"text-align: right;\">\n",
              "      <th></th>\n",
              "      <th>player_name</th>\n",
              "      <th>club</th>\n",
              "      <th>position</th>\n",
              "      <th>minutes_played</th>\n",
              "      <th>match_played</th>\n",
              "      <th>goals</th>\n",
              "      <th>assists</th>\n",
              "      <th>distance_covered</th>\n",
              "    </tr>\n",
              "  </thead>\n",
              "  <tbody>\n",
              "    <tr>\n",
              "      <th>0</th>\n",
              "      <td>Courtois</td>\n",
              "      <td>Real Madrid</td>\n",
              "      <td>Goalkeeper</td>\n",
              "      <td>1230</td>\n",
              "      <td>13</td>\n",
              "      <td>0</td>\n",
              "      <td>0</td>\n",
              "      <td>64.2</td>\n",
              "    </tr>\n",
              "    <tr>\n",
              "      <th>1</th>\n",
              "      <td>Vinícius Júnior</td>\n",
              "      <td>Real Madrid</td>\n",
              "      <td>Forward</td>\n",
              "      <td>1199</td>\n",
              "      <td>13</td>\n",
              "      <td>4</td>\n",
              "      <td>6</td>\n",
              "      <td>133.0</td>\n",
              "    </tr>\n",
              "    <tr>\n",
              "      <th>2</th>\n",
              "      <td>Benzema</td>\n",
              "      <td>Real Madrid</td>\n",
              "      <td>Forward</td>\n",
              "      <td>1106</td>\n",
              "      <td>12</td>\n",
              "      <td>15</td>\n",
              "      <td>1</td>\n",
              "      <td>121.5</td>\n",
              "    </tr>\n",
              "    <tr>\n",
              "      <th>3</th>\n",
              "      <td>Modrić</td>\n",
              "      <td>Real Madrid</td>\n",
              "      <td>Midfielder</td>\n",
              "      <td>1077</td>\n",
              "      <td>13</td>\n",
              "      <td>0</td>\n",
              "      <td>4</td>\n",
              "      <td>124.5</td>\n",
              "    </tr>\n",
              "    <tr>\n",
              "      <th>4</th>\n",
              "      <td>Éder Militão</td>\n",
              "      <td>Real Madrid</td>\n",
              "      <td>Defender</td>\n",
              "      <td>1076</td>\n",
              "      <td>12</td>\n",
              "      <td>0</td>\n",
              "      <td>0</td>\n",
              "      <td>110.4</td>\n",
              "    </tr>\n",
              "  </tbody>\n",
              "</table>\n",
              "</div>\n",
              "      <button class=\"colab-df-convert\" onclick=\"convertToInteractive('df-40fa0dbd-102f-4ab1-b94b-1ff5814bd595')\"\n",
              "              title=\"Convert this dataframe to an interactive table.\"\n",
              "              style=\"display:none;\">\n",
              "        \n",
              "  <svg xmlns=\"http://www.w3.org/2000/svg\" height=\"24px\"viewBox=\"0 0 24 24\"\n",
              "       width=\"24px\">\n",
              "    <path d=\"M0 0h24v24H0V0z\" fill=\"none\"/>\n",
              "    <path d=\"M18.56 5.44l.94 2.06.94-2.06 2.06-.94-2.06-.94-.94-2.06-.94 2.06-2.06.94zm-11 1L8.5 8.5l.94-2.06 2.06-.94-2.06-.94L8.5 2.5l-.94 2.06-2.06.94zm10 10l.94 2.06.94-2.06 2.06-.94-2.06-.94-.94-2.06-.94 2.06-2.06.94z\"/><path d=\"M17.41 7.96l-1.37-1.37c-.4-.4-.92-.59-1.43-.59-.52 0-1.04.2-1.43.59L10.3 9.45l-7.72 7.72c-.78.78-.78 2.05 0 2.83L4 21.41c.39.39.9.59 1.41.59.51 0 1.02-.2 1.41-.59l7.78-7.78 2.81-2.81c.8-.78.8-2.07 0-2.86zM5.41 20L4 18.59l7.72-7.72 1.47 1.35L5.41 20z\"/>\n",
              "  </svg>\n",
              "      </button>\n",
              "      \n",
              "  <style>\n",
              "    .colab-df-container {\n",
              "      display:flex;\n",
              "      flex-wrap:wrap;\n",
              "      gap: 12px;\n",
              "    }\n",
              "\n",
              "    .colab-df-convert {\n",
              "      background-color: #E8F0FE;\n",
              "      border: none;\n",
              "      border-radius: 50%;\n",
              "      cursor: pointer;\n",
              "      display: none;\n",
              "      fill: #1967D2;\n",
              "      height: 32px;\n",
              "      padding: 0 0 0 0;\n",
              "      width: 32px;\n",
              "    }\n",
              "\n",
              "    .colab-df-convert:hover {\n",
              "      background-color: #E2EBFA;\n",
              "      box-shadow: 0px 1px 2px rgba(60, 64, 67, 0.3), 0px 1px 3px 1px rgba(60, 64, 67, 0.15);\n",
              "      fill: #174EA6;\n",
              "    }\n",
              "\n",
              "    [theme=dark] .colab-df-convert {\n",
              "      background-color: #3B4455;\n",
              "      fill: #D2E3FC;\n",
              "    }\n",
              "\n",
              "    [theme=dark] .colab-df-convert:hover {\n",
              "      background-color: #434B5C;\n",
              "      box-shadow: 0px 1px 3px 1px rgba(0, 0, 0, 0.15);\n",
              "      filter: drop-shadow(0px 1px 2px rgba(0, 0, 0, 0.3));\n",
              "      fill: #FFFFFF;\n",
              "    }\n",
              "  </style>\n",
              "\n",
              "      <script>\n",
              "        const buttonEl =\n",
              "          document.querySelector('#df-40fa0dbd-102f-4ab1-b94b-1ff5814bd595 button.colab-df-convert');\n",
              "        buttonEl.style.display =\n",
              "          google.colab.kernel.accessAllowed ? 'block' : 'none';\n",
              "\n",
              "        async function convertToInteractive(key) {\n",
              "          const element = document.querySelector('#df-40fa0dbd-102f-4ab1-b94b-1ff5814bd595');\n",
              "          const dataTable =\n",
              "            await google.colab.kernel.invokeFunction('convertToInteractive',\n",
              "                                                     [key], {});\n",
              "          if (!dataTable) return;\n",
              "\n",
              "          const docLinkHtml = 'Like what you see? Visit the ' +\n",
              "            '<a target=\"_blank\" href=https://colab.research.google.com/notebooks/data_table.ipynb>data table notebook</a>'\n",
              "            + ' to learn more about interactive tables.';\n",
              "          element.innerHTML = '';\n",
              "          dataTable['output_type'] = 'display_data';\n",
              "          await google.colab.output.renderOutput(dataTable, element);\n",
              "          const docLink = document.createElement('div');\n",
              "          docLink.innerHTML = docLinkHtml;\n",
              "          element.appendChild(docLink);\n",
              "        }\n",
              "      </script>\n",
              "    </div>\n",
              "  </div>\n",
              "  "
            ]
          },
          "metadata": {},
          "execution_count": 3
        }
      ]
    },
    {
      "cell_type": "code",
      "source": [
        "ks.columns"
      ],
      "metadata": {
        "colab": {
          "base_uri": "https://localhost:8080/"
        },
        "id": "rK19EPC2MlPy",
        "outputId": "700f9a66-38e1-4a8a-9b44-b6af1f1349e1"
      },
      "execution_count": null,
      "outputs": [
        {
          "output_type": "execute_result",
          "data": {
            "text/plain": [
              "Index(['player_name', 'club', 'position', 'minutes_played', 'match_played',\n",
              "       'goals', 'assists', 'distance_covered'],\n",
              "      dtype='object')"
            ]
          },
          "metadata": {},
          "execution_count": 4
        }
      ]
    },
    {
      "cell_type": "markdown",
      "source": [
        "We have player name, their club, playing position, minutes - matches played, goals, assists and the distance covered. Lets look at the stats.\n"
      ],
      "metadata": {
        "id": "ZTonu8_sIXnd"
      }
    },
    {
      "cell_type": "code",
      "source": [
        "ks.describe().T"
      ],
      "metadata": {
        "colab": {
          "base_uri": "https://localhost:8080/",
          "height": 175
        },
        "id": "mCPYlrf5IWTl",
        "outputId": "0b8e42e2-5033-4935-8b51-fc9e53c6ad02"
      },
      "execution_count": null,
      "outputs": [
        {
          "output_type": "execute_result",
          "data": {
            "text/plain": [
              "                count        mean         std  min    25%    50%    75%  \\\n",
              "minutes_played  747.0  331.611780  248.371930  1.0  116.0  301.0  492.0   \n",
              "match_played    747.0    5.089692    2.721425  1.0    3.0    5.0    7.0   \n",
              "goals           747.0    0.492637    1.313321  0.0    0.0    0.0    0.0   \n",
              "assists         747.0    0.376171    0.845502  0.0    0.0    0.0    0.0   \n",
              "\n",
              "                   max  \n",
              "minutes_played  1230.0  \n",
              "match_played      13.0  \n",
              "goals             15.0  \n",
              "assists            7.0  "
            ],
            "text/html": [
              "\n",
              "  <div id=\"df-44e011af-c728-4002-8f57-6d3c551a127a\">\n",
              "    <div class=\"colab-df-container\">\n",
              "      <div>\n",
              "<style scoped>\n",
              "    .dataframe tbody tr th:only-of-type {\n",
              "        vertical-align: middle;\n",
              "    }\n",
              "\n",
              "    .dataframe tbody tr th {\n",
              "        vertical-align: top;\n",
              "    }\n",
              "\n",
              "    .dataframe thead th {\n",
              "        text-align: right;\n",
              "    }\n",
              "</style>\n",
              "<table border=\"1\" class=\"dataframe\">\n",
              "  <thead>\n",
              "    <tr style=\"text-align: right;\">\n",
              "      <th></th>\n",
              "      <th>count</th>\n",
              "      <th>mean</th>\n",
              "      <th>std</th>\n",
              "      <th>min</th>\n",
              "      <th>25%</th>\n",
              "      <th>50%</th>\n",
              "      <th>75%</th>\n",
              "      <th>max</th>\n",
              "    </tr>\n",
              "  </thead>\n",
              "  <tbody>\n",
              "    <tr>\n",
              "      <th>minutes_played</th>\n",
              "      <td>747.0</td>\n",
              "      <td>331.611780</td>\n",
              "      <td>248.371930</td>\n",
              "      <td>1.0</td>\n",
              "      <td>116.0</td>\n",
              "      <td>301.0</td>\n",
              "      <td>492.0</td>\n",
              "      <td>1230.0</td>\n",
              "    </tr>\n",
              "    <tr>\n",
              "      <th>match_played</th>\n",
              "      <td>747.0</td>\n",
              "      <td>5.089692</td>\n",
              "      <td>2.721425</td>\n",
              "      <td>1.0</td>\n",
              "      <td>3.0</td>\n",
              "      <td>5.0</td>\n",
              "      <td>7.0</td>\n",
              "      <td>13.0</td>\n",
              "    </tr>\n",
              "    <tr>\n",
              "      <th>goals</th>\n",
              "      <td>747.0</td>\n",
              "      <td>0.492637</td>\n",
              "      <td>1.313321</td>\n",
              "      <td>0.0</td>\n",
              "      <td>0.0</td>\n",
              "      <td>0.0</td>\n",
              "      <td>0.0</td>\n",
              "      <td>15.0</td>\n",
              "    </tr>\n",
              "    <tr>\n",
              "      <th>assists</th>\n",
              "      <td>747.0</td>\n",
              "      <td>0.376171</td>\n",
              "      <td>0.845502</td>\n",
              "      <td>0.0</td>\n",
              "      <td>0.0</td>\n",
              "      <td>0.0</td>\n",
              "      <td>0.0</td>\n",
              "      <td>7.0</td>\n",
              "    </tr>\n",
              "  </tbody>\n",
              "</table>\n",
              "</div>\n",
              "      <button class=\"colab-df-convert\" onclick=\"convertToInteractive('df-44e011af-c728-4002-8f57-6d3c551a127a')\"\n",
              "              title=\"Convert this dataframe to an interactive table.\"\n",
              "              style=\"display:none;\">\n",
              "        \n",
              "  <svg xmlns=\"http://www.w3.org/2000/svg\" height=\"24px\"viewBox=\"0 0 24 24\"\n",
              "       width=\"24px\">\n",
              "    <path d=\"M0 0h24v24H0V0z\" fill=\"none\"/>\n",
              "    <path d=\"M18.56 5.44l.94 2.06.94-2.06 2.06-.94-2.06-.94-.94-2.06-.94 2.06-2.06.94zm-11 1L8.5 8.5l.94-2.06 2.06-.94-2.06-.94L8.5 2.5l-.94 2.06-2.06.94zm10 10l.94 2.06.94-2.06 2.06-.94-2.06-.94-.94-2.06-.94 2.06-2.06.94z\"/><path d=\"M17.41 7.96l-1.37-1.37c-.4-.4-.92-.59-1.43-.59-.52 0-1.04.2-1.43.59L10.3 9.45l-7.72 7.72c-.78.78-.78 2.05 0 2.83L4 21.41c.39.39.9.59 1.41.59.51 0 1.02-.2 1.41-.59l7.78-7.78 2.81-2.81c.8-.78.8-2.07 0-2.86zM5.41 20L4 18.59l7.72-7.72 1.47 1.35L5.41 20z\"/>\n",
              "  </svg>\n",
              "      </button>\n",
              "      \n",
              "  <style>\n",
              "    .colab-df-container {\n",
              "      display:flex;\n",
              "      flex-wrap:wrap;\n",
              "      gap: 12px;\n",
              "    }\n",
              "\n",
              "    .colab-df-convert {\n",
              "      background-color: #E8F0FE;\n",
              "      border: none;\n",
              "      border-radius: 50%;\n",
              "      cursor: pointer;\n",
              "      display: none;\n",
              "      fill: #1967D2;\n",
              "      height: 32px;\n",
              "      padding: 0 0 0 0;\n",
              "      width: 32px;\n",
              "    }\n",
              "\n",
              "    .colab-df-convert:hover {\n",
              "      background-color: #E2EBFA;\n",
              "      box-shadow: 0px 1px 2px rgba(60, 64, 67, 0.3), 0px 1px 3px 1px rgba(60, 64, 67, 0.15);\n",
              "      fill: #174EA6;\n",
              "    }\n",
              "\n",
              "    [theme=dark] .colab-df-convert {\n",
              "      background-color: #3B4455;\n",
              "      fill: #D2E3FC;\n",
              "    }\n",
              "\n",
              "    [theme=dark] .colab-df-convert:hover {\n",
              "      background-color: #434B5C;\n",
              "      box-shadow: 0px 1px 3px 1px rgba(0, 0, 0, 0.15);\n",
              "      filter: drop-shadow(0px 1px 2px rgba(0, 0, 0, 0.3));\n",
              "      fill: #FFFFFF;\n",
              "    }\n",
              "  </style>\n",
              "\n",
              "      <script>\n",
              "        const buttonEl =\n",
              "          document.querySelector('#df-44e011af-c728-4002-8f57-6d3c551a127a button.colab-df-convert');\n",
              "        buttonEl.style.display =\n",
              "          google.colab.kernel.accessAllowed ? 'block' : 'none';\n",
              "\n",
              "        async function convertToInteractive(key) {\n",
              "          const element = document.querySelector('#df-44e011af-c728-4002-8f57-6d3c551a127a');\n",
              "          const dataTable =\n",
              "            await google.colab.kernel.invokeFunction('convertToInteractive',\n",
              "                                                     [key], {});\n",
              "          if (!dataTable) return;\n",
              "\n",
              "          const docLinkHtml = 'Like what you see? Visit the ' +\n",
              "            '<a target=\"_blank\" href=https://colab.research.google.com/notebooks/data_table.ipynb>data table notebook</a>'\n",
              "            + ' to learn more about interactive tables.';\n",
              "          element.innerHTML = '';\n",
              "          dataTable['output_type'] = 'display_data';\n",
              "          await google.colab.output.renderOutput(dataTable, element);\n",
              "          const docLink = document.createElement('div');\n",
              "          docLink.innerHTML = docLinkHtml;\n",
              "          element.appendChild(docLink);\n",
              "        }\n",
              "      </script>\n",
              "    </div>\n",
              "  </div>\n",
              "  "
            ]
          },
          "metadata": {},
          "execution_count": 5
        }
      ]
    },
    {
      "cell_type": "markdown",
      "source": [
        "We have data of 747 players in total. Average laying time is 331 mins, about 5.5 hours."
      ],
      "metadata": {
        "id": "6J35gQ11IvNC"
      }
    },
    {
      "cell_type": "code",
      "source": [
        "ks.describe(include=['object']).T"
      ],
      "metadata": {
        "colab": {
          "base_uri": "https://localhost:8080/",
          "height": 175
        },
        "id": "AXR5Y7ACIoni",
        "outputId": "e41a01aa-d82e-4bbb-9c94-0d9638312a68"
      },
      "execution_count": null,
      "outputs": [
        {
          "output_type": "execute_result",
          "data": {
            "text/plain": [
              "                 count unique          top freq\n",
              "player_name        747    731     Martínez    3\n",
              "club               747     32  Man. United   31\n",
              "position           747      4   Midfielder  287\n",
              "distance_covered   747    514          3.6    5"
            ],
            "text/html": [
              "\n",
              "  <div id=\"df-45490baa-a055-4d2b-9154-00bc578fb03b\">\n",
              "    <div class=\"colab-df-container\">\n",
              "      <div>\n",
              "<style scoped>\n",
              "    .dataframe tbody tr th:only-of-type {\n",
              "        vertical-align: middle;\n",
              "    }\n",
              "\n",
              "    .dataframe tbody tr th {\n",
              "        vertical-align: top;\n",
              "    }\n",
              "\n",
              "    .dataframe thead th {\n",
              "        text-align: right;\n",
              "    }\n",
              "</style>\n",
              "<table border=\"1\" class=\"dataframe\">\n",
              "  <thead>\n",
              "    <tr style=\"text-align: right;\">\n",
              "      <th></th>\n",
              "      <th>count</th>\n",
              "      <th>unique</th>\n",
              "      <th>top</th>\n",
              "      <th>freq</th>\n",
              "    </tr>\n",
              "  </thead>\n",
              "  <tbody>\n",
              "    <tr>\n",
              "      <th>player_name</th>\n",
              "      <td>747</td>\n",
              "      <td>731</td>\n",
              "      <td>Martínez</td>\n",
              "      <td>3</td>\n",
              "    </tr>\n",
              "    <tr>\n",
              "      <th>club</th>\n",
              "      <td>747</td>\n",
              "      <td>32</td>\n",
              "      <td>Man. United</td>\n",
              "      <td>31</td>\n",
              "    </tr>\n",
              "    <tr>\n",
              "      <th>position</th>\n",
              "      <td>747</td>\n",
              "      <td>4</td>\n",
              "      <td>Midfielder</td>\n",
              "      <td>287</td>\n",
              "    </tr>\n",
              "    <tr>\n",
              "      <th>distance_covered</th>\n",
              "      <td>747</td>\n",
              "      <td>514</td>\n",
              "      <td>3.6</td>\n",
              "      <td>5</td>\n",
              "    </tr>\n",
              "  </tbody>\n",
              "</table>\n",
              "</div>\n",
              "      <button class=\"colab-df-convert\" onclick=\"convertToInteractive('df-45490baa-a055-4d2b-9154-00bc578fb03b')\"\n",
              "              title=\"Convert this dataframe to an interactive table.\"\n",
              "              style=\"display:none;\">\n",
              "        \n",
              "  <svg xmlns=\"http://www.w3.org/2000/svg\" height=\"24px\"viewBox=\"0 0 24 24\"\n",
              "       width=\"24px\">\n",
              "    <path d=\"M0 0h24v24H0V0z\" fill=\"none\"/>\n",
              "    <path d=\"M18.56 5.44l.94 2.06.94-2.06 2.06-.94-2.06-.94-.94-2.06-.94 2.06-2.06.94zm-11 1L8.5 8.5l.94-2.06 2.06-.94-2.06-.94L8.5 2.5l-.94 2.06-2.06.94zm10 10l.94 2.06.94-2.06 2.06-.94-2.06-.94-.94-2.06-.94 2.06-2.06.94z\"/><path d=\"M17.41 7.96l-1.37-1.37c-.4-.4-.92-.59-1.43-.59-.52 0-1.04.2-1.43.59L10.3 9.45l-7.72 7.72c-.78.78-.78 2.05 0 2.83L4 21.41c.39.39.9.59 1.41.59.51 0 1.02-.2 1.41-.59l7.78-7.78 2.81-2.81c.8-.78.8-2.07 0-2.86zM5.41 20L4 18.59l7.72-7.72 1.47 1.35L5.41 20z\"/>\n",
              "  </svg>\n",
              "      </button>\n",
              "      \n",
              "  <style>\n",
              "    .colab-df-container {\n",
              "      display:flex;\n",
              "      flex-wrap:wrap;\n",
              "      gap: 12px;\n",
              "    }\n",
              "\n",
              "    .colab-df-convert {\n",
              "      background-color: #E8F0FE;\n",
              "      border: none;\n",
              "      border-radius: 50%;\n",
              "      cursor: pointer;\n",
              "      display: none;\n",
              "      fill: #1967D2;\n",
              "      height: 32px;\n",
              "      padding: 0 0 0 0;\n",
              "      width: 32px;\n",
              "    }\n",
              "\n",
              "    .colab-df-convert:hover {\n",
              "      background-color: #E2EBFA;\n",
              "      box-shadow: 0px 1px 2px rgba(60, 64, 67, 0.3), 0px 1px 3px 1px rgba(60, 64, 67, 0.15);\n",
              "      fill: #174EA6;\n",
              "    }\n",
              "\n",
              "    [theme=dark] .colab-df-convert {\n",
              "      background-color: #3B4455;\n",
              "      fill: #D2E3FC;\n",
              "    }\n",
              "\n",
              "    [theme=dark] .colab-df-convert:hover {\n",
              "      background-color: #434B5C;\n",
              "      box-shadow: 0px 1px 3px 1px rgba(0, 0, 0, 0.15);\n",
              "      filter: drop-shadow(0px 1px 2px rgba(0, 0, 0, 0.3));\n",
              "      fill: #FFFFFF;\n",
              "    }\n",
              "  </style>\n",
              "\n",
              "      <script>\n",
              "        const buttonEl =\n",
              "          document.querySelector('#df-45490baa-a055-4d2b-9154-00bc578fb03b button.colab-df-convert');\n",
              "        buttonEl.style.display =\n",
              "          google.colab.kernel.accessAllowed ? 'block' : 'none';\n",
              "\n",
              "        async function convertToInteractive(key) {\n",
              "          const element = document.querySelector('#df-45490baa-a055-4d2b-9154-00bc578fb03b');\n",
              "          const dataTable =\n",
              "            await google.colab.kernel.invokeFunction('convertToInteractive',\n",
              "                                                     [key], {});\n",
              "          if (!dataTable) return;\n",
              "\n",
              "          const docLinkHtml = 'Like what you see? Visit the ' +\n",
              "            '<a target=\"_blank\" href=https://colab.research.google.com/notebooks/data_table.ipynb>data table notebook</a>'\n",
              "            + ' to learn more about interactive tables.';\n",
              "          element.innerHTML = '';\n",
              "          dataTable['output_type'] = 'display_data';\n",
              "          await google.colab.output.renderOutput(dataTable, element);\n",
              "          const docLink = document.createElement('div');\n",
              "          docLink.innerHTML = docLinkHtml;\n",
              "          element.appendChild(docLink);\n",
              "        }\n",
              "      </script>\n",
              "    </div>\n",
              "  </div>\n",
              "  "
            ]
          },
          "metadata": {},
          "execution_count": 6
        }
      ]
    },
    {
      "cell_type": "markdown",
      "source": [
        "Here we observe that most of the players are midfielders and Manchester United has maximum number of player that's 31."
      ],
      "metadata": {
        "id": "Ng-KIuszI9JH"
      }
    },
    {
      "cell_type": "markdown",
      "source": [
        "**Goal Analysis by club**"
      ],
      "metadata": {
        "id": "9XbVZFImJovk"
      }
    },
    {
      "cell_type": "code",
      "source": [
        "tks=ks.groupby('club',as_index = False)[\"goals\"].sum().sort_values(by='goals',ascending=False)\n",
        "sns.set(rc={'figure.figsize':(20,5)})\n",
        "plt.xticks(fontsize=12,rotation='vertical')\n",
        "p=sns.barplot(x=\"club\", y=\"goals\", data=tks,capsize=.2)\n",
        "p.axes.set_title(\"\\nTotal Goals scored\\n\",fontsize=20);"
      ],
      "metadata": {
        "colab": {
          "base_uri": "https://localhost:8080/",
          "height": 502
        },
        "id": "4bXIVM5YI4vv",
        "outputId": "a3209877-9890-4db6-db8c-64225f1f45cf"
      },
      "execution_count": null,
      "outputs": [
        {
          "output_type": "display_data",
          "data": {
            "text/plain": [
              "<Figure size 1440x360 with 1 Axes>"
            ],
            "image/png": "[encoded data removed]"
          },
          "metadata": {}
        }
      ]
    },
    {
      "cell_type": "markdown",
      "source": [
        "Top 3 goal scorer are:\n",
        "\n",
        "\n",
        "*   Bayern\n",
        "*   Real Madrid\n",
        "*   Manchester city\n"
      ],
      "metadata": {
        "id": "zfuG8D0PJze9"
      }
    },
    {
      "cell_type": "markdown",
      "source": [
        "**Dist Plot**"
      ],
      "metadata": {
        "id": "5uIeZ2AMjfYw"
      }
    },
    {
      "cell_type": "code",
      "source": [
        "import seaborn as sns\n",
        "sns.distplot(x = ks['minutes_played'], bins = 10)"
      ],
      "metadata": {
        "colab": {
          "base_uri": "https://localhost:8080/",
          "height": 394
        },
        "id": "EIrSNBEjgxIr",
        "outputId": "48d8ec3b-27d7-4010-dda3-76c393b0c0de"
      },
      "execution_count": null,
      "outputs": [
        {
          "output_type": "stream",
          "name": "stderr",
          "text": [
            "/usr/local/lib/python3.7/dist-packages/seaborn/distributions.py:2619: FutureWarning: `distplot` is a deprecated function and will be removed in a future version. Please adapt your code to use either `displot` (a figure-level function with similar flexibility) or `histplot` (an axes-level function for histograms).\n",
            "  warnings.warn(msg, FutureWarning)\n"
          ]
        },
        {
          "output_type": "execute_result",
          "data": {
            "text/plain": [
              "<matplotlib.axes._subplots.AxesSubplot at 0x7f86280b9490>"
            ]
          },
          "metadata": {},
          "execution_count": 10
        },
        {
          "output_type": "display_data",
          "data": {
            "text/plain": [
              "<Figure size 1440x360 with 1 Axes>"
            ],
            "image/png": "[encoded data removed]"
          },
          "metadata": {}
        }
      ]
    },
    {
      "cell_type": "markdown",
      "source": [
        "Most of the players have played in the range of 0 to 100 minutes."
      ],
      "metadata": {
        "id": "8R4Odkf_2vGJ"
      }
    },
    {
      "cell_type": "markdown",
      "source": [
        "**Joint plot**"
      ],
      "metadata": {
        "id": "oOQ-fdh8jbPO"
      }
    },
    {
      "cell_type": "code",
      "source": [
        "import pandas as pd\n",
        "import numpy as np\n",
        "import seaborn as sns\n",
        "\n",
        "ks = pd.read_csv(\"/content/goals.csv\")\n",
        "# For Plot\n",
        "sns.jointplot(x = ks['match_played'], y = ks['goals'], kind = 'scatter')"
      ],
      "metadata": {
        "colab": {
          "base_uri": "https://localhost:8080/",
          "height": 458
        },
        "id": "V8MKe7LRhYJR",
        "outputId": "2774ba33-55af-48f1-c385-a1188fe3a632"
      },
      "execution_count": null,
      "outputs": [
        {
          "output_type": "execute_result",
          "data": {
            "text/plain": [
              "<seaborn.axisgrid.JointGrid at 0x7f82aa28b1d0>"
            ]
          },
          "metadata": {},
          "execution_count": 2
        },
        {
          "output_type": "display_data",
          "data": {
            "text/plain": [
              "<Figure size 432x432 with 3 Axes>"
            ],
            "image/png": "[encoded data removed]"
          },
          "metadata": {
            "needs_background": "light"
          }
        }
      ]
    },
    {
      "cell_type": "markdown",
      "source": [
        "Match played is positively related to goals scored."
      ],
      "metadata": {
        "id": "MddrNE8Lf7uJ"
      }
    },
    {
      "cell_type": "markdown",
      "source": [
        "**Pair Plot**"
      ],
      "metadata": {
        "id": "jjpewZQ_hixQ"
      }
    },
    {
      "cell_type": "code",
      "source": [
        "sns.pairplot(ks)"
      ],
      "metadata": {
        "colab": {
          "base_uri": "https://localhost:8080/",
          "height": 742
        },
        "id": "LgEMgFdNhe1T",
        "outputId": "f6a5bade-3e2a-42f4-b2da-5820be28c0ac"
      },
      "execution_count": null,
      "outputs": [
        {
          "output_type": "execute_result",
          "data": {
            "text/plain": [
              "<seaborn.axisgrid.PairGrid at 0x7f8628174410>"
            ]
          },
          "metadata": {},
          "execution_count": 13
        },
        {
          "output_type": "display_data",
          "data": {
            "text/plain": [
              "<Figure size 720x720 with 20 Axes>"
            ],
            "image/png": "[encoded data removed]"
          },
          "metadata": {}
        }
      ]
    },
    {
      "cell_type": "markdown",
      "source": [
        "**Correlation:**"
      ],
      "metadata": {
        "id": "iv5SxZC4h_l-"
      }
    },
    {
      "cell_type": "code",
      "source": [
        "ks.corr()"
      ],
      "metadata": {
        "colab": {
          "base_uri": "https://localhost:8080/",
          "height": 175
        },
        "id": "9npbpnMkhzLH",
        "outputId": "72acbd0a-9432-40d6-e149-05d7669f437d"
      },
      "execution_count": null,
      "outputs": [
        {
          "output_type": "execute_result",
          "data": {
            "text/plain": [
              "                minutes_played  match_played     goals   assists\n",
              "minutes_played        1.000000      0.886601  0.338638  0.377284\n",
              "match_played          0.886601      1.000000  0.371301  0.401274\n",
              "goals                 0.338638      0.371301  1.000000  0.355601\n",
              "assists               0.377284      0.401274  0.355601  1.000000"
            ],
            "text/html": [
              "\n",
              "  <div id=\"df-930e7bcc-0df4-4ff7-b40e-38b9e01cf150\">\n",
              "    <div class=\"colab-df-container\">\n",
              "      <div>\n",
              "<style scoped>\n",
              "    .dataframe tbody tr th:only-of-type {\n",
              "        vertical-align: middle;\n",
              "    }\n",
              "\n",
              "    .dataframe tbody tr th {\n",
              "        vertical-align: top;\n",
              "    }\n",
              "\n",
              "    .dataframe thead th {\n",
              "        text-align: right;\n",
              "    }\n",
              "</style>\n",
              "<table border=\"1\" class=\"dataframe\">\n",
              "  <thead>\n",
              "    <tr style=\"text-align: right;\">\n",
              "      <th></th>\n",
              "      <th>minutes_played</th>\n",
              "      <th>match_played</th>\n",
              "      <th>goals</th>\n",
              "      <th>assists</th>\n",
              "    </tr>\n",
              "  </thead>\n",
              "  <tbody>\n",
              "    <tr>\n",
              "      <th>minutes_played</th>\n",
              "      <td>1.000000</td>\n",
              "      <td>0.886601</td>\n",
              "      <td>0.338638</td>\n",
              "      <td>0.377284</td>\n",
              "    </tr>\n",
              "    <tr>\n",
              "      <th>match_played</th>\n",
              "      <td>0.886601</td>\n",
              "      <td>1.000000</td>\n",
              "      <td>0.371301</td>\n",
              "      <td>0.401274</td>\n",
              "    </tr>\n",
              "    <tr>\n",
              "      <th>goals</th>\n",
              "      <td>0.338638</td>\n",
              "      <td>0.371301</td>\n",
              "      <td>1.000000</td>\n",
              "      <td>0.355601</td>\n",
              "    </tr>\n",
              "    <tr>\n",
              "      <th>assists</th>\n",
              "      <td>0.377284</td>\n",
              "      <td>0.401274</td>\n",
              "      <td>0.355601</td>\n",
              "      <td>1.000000</td>\n",
              "    </tr>\n",
              "  </tbody>\n",
              "</table>\n",
              "</div>\n",
              "      <button class=\"colab-df-convert\" onclick=\"convertToInteractive('df-930e7bcc-0df4-4ff7-b40e-38b9e01cf150')\"\n",
              "              title=\"Convert this dataframe to an interactive table.\"\n",
              "              style=\"display:none;\">\n",
              "        \n",
              "  <svg xmlns=\"http://www.w3.org/2000/svg\" height=\"24px\"viewBox=\"0 0 24 24\"\n",
              "       width=\"24px\">\n",
              "    <path d=\"M0 0h24v24H0V0z\" fill=\"none\"/>\n",
              "    <path d=\"M18.56 5.44l.94 2.06.94-2.06 2.06-.94-2.06-.94-.94-2.06-.94 2.06-2.06.94zm-11 1L8.5 8.5l.94-2.06 2.06-.94-2.06-.94L8.5 2.5l-.94 2.06-2.06.94zm10 10l.94 2.06.94-2.06 2.06-.94-2.06-.94-.94-2.06-.94 2.06-2.06.94z\"/><path d=\"M17.41 7.96l-1.37-1.37c-.4-.4-.92-.59-1.43-.59-.52 0-1.04.2-1.43.59L10.3 9.45l-7.72 7.72c-.78.78-.78 2.05 0 2.83L4 21.41c.39.39.9.59 1.41.59.51 0 1.02-.2 1.41-.59l7.78-7.78 2.81-2.81c.8-.78.8-2.07 0-2.86zM5.41 20L4 18.59l7.72-7.72 1.47 1.35L5.41 20z\"/>\n",
              "  </svg>\n",
              "      </button>\n",
              "      \n",
              "  <style>\n",
              "    .colab-df-container {\n",
              "      display:flex;\n",
              "      flex-wrap:wrap;\n",
              "      gap: 12px;\n",
              "    }\n",
              "\n",
              "    .colab-df-convert {\n",
              "      background-color: #E8F0FE;\n",
              "      border: none;\n",
              "      border-radius: 50%;\n",
              "      cursor: pointer;\n",
              "      display: none;\n",
              "      fill: #1967D2;\n",
              "      height: 32px;\n",
              "      padding: 0 0 0 0;\n",
              "      width: 32px;\n",
              "    }\n",
              "\n",
              "    .colab-df-convert:hover {\n",
              "      background-color: #E2EBFA;\n",
              "      box-shadow: 0px 1px 2px rgba(60, 64, 67, 0.3), 0px 1px 3px 1px rgba(60, 64, 67, 0.15);\n",
              "      fill: #174EA6;\n",
              "    }\n",
              "\n",
              "    [theme=dark] .colab-df-convert {\n",
              "      background-color: #3B4455;\n",
              "      fill: #D2E3FC;\n",
              "    }\n",
              "\n",
              "    [theme=dark] .colab-df-convert:hover {\n",
              "      background-color: #434B5C;\n",
              "      box-shadow: 0px 1px 3px 1px rgba(0, 0, 0, 0.15);\n",
              "      filter: drop-shadow(0px 1px 2px rgba(0, 0, 0, 0.3));\n",
              "      fill: #FFFFFF;\n",
              "    }\n",
              "  </style>\n",
              "\n",
              "      <script>\n",
              "        const buttonEl =\n",
              "          document.querySelector('#df-930e7bcc-0df4-4ff7-b40e-38b9e01cf150 button.colab-df-convert');\n",
              "        buttonEl.style.display =\n",
              "          google.colab.kernel.accessAllowed ? 'block' : 'none';\n",
              "\n",
              "        async function convertToInteractive(key) {\n",
              "          const element = document.querySelector('#df-930e7bcc-0df4-4ff7-b40e-38b9e01cf150');\n",
              "          const dataTable =\n",
              "            await google.colab.kernel.invokeFunction('convertToInteractive',\n",
              "                                                     [key], {});\n",
              "          if (!dataTable) return;\n",
              "\n",
              "          const docLinkHtml = 'Like what you see? Visit the ' +\n",
              "            '<a target=\"_blank\" href=https://colab.research.google.com/notebooks/data_table.ipynb>data table notebook</a>'\n",
              "            + ' to learn more about interactive tables.';\n",
              "          element.innerHTML = '';\n",
              "          dataTable['output_type'] = 'display_data';\n",
              "          await google.colab.output.renderOutput(dataTable, element);\n",
              "          const docLink = document.createElement('div');\n",
              "          docLink.innerHTML = docLinkHtml;\n",
              "          element.appendChild(docLink);\n",
              "        }\n",
              "      </script>\n",
              "    </div>\n",
              "  </div>\n",
              "  "
            ]
          },
          "metadata": {},
          "execution_count": 14
        }
      ]
    },
    {
      "cell_type": "markdown",
      "source": [
        "**Heatmap**"
      ],
      "metadata": {
        "id": "YW8JGZgriCs8"
      }
    },
    {
      "cell_type": "code",
      "source": [
        "sns.heatmap(ks.corr(), annot = True, cmap = 'viridis')"
      ],
      "metadata": {
        "colab": {
          "base_uri": "https://localhost:8080/",
          "height": 344
        },
        "id": "M89Utu_qh-9_",
        "outputId": "3fabe567-ab26-4b62-ca35-44171192f462"
      },
      "execution_count": null,
      "outputs": [
        {
          "output_type": "execute_result",
          "data": {
            "text/plain": [
              "<matplotlib.axes._subplots.AxesSubplot at 0x7f86251cdb50>"
            ]
          },
          "metadata": {},
          "execution_count": 15
        },
        {
          "output_type": "display_data",
          "data": {
            "text/plain": [
              "<Figure size 1440x360 with 2 Axes>"
            ],
            "image/png": "[encoded data removed]"
          },
          "metadata": {}
        }
      ]
    },
    {
      "cell_type": "markdown",
      "source": [
        "**BarPlot**"
      ],
      "metadata": {
        "id": "YeKFGuC3ilM9"
      }
    },
    {
      "cell_type": "code",
      "source": [
        "sns.barplot(x = ks['match_played'], y = ks['goals'])"
      ],
      "metadata": {
        "colab": {
          "base_uri": "https://localhost:8080/",
          "height": 356
        },
        "id": "C7pA1Pi2iogt",
        "outputId": "fb634cd8-995f-4852-a605-d26c87f8b90e"
      },
      "execution_count": null,
      "outputs": [
        {
          "output_type": "execute_result",
          "data": {
            "text/plain": [
              "<matplotlib.axes._subplots.AxesSubplot at 0x7f86238e50d0>"
            ]
          },
          "metadata": {},
          "execution_count": 16
        },
        {
          "output_type": "display_data",
          "data": {
            "text/plain": [
              "<Figure size 1440x360 with 1 Axes>"
            ],
            "image/png": "[encoded data removed]"
          },
          "metadata": {}
        }
      ]
    },
    {
      "cell_type": "markdown",
      "source": [
        "**Boxplot**"
      ],
      "metadata": {
        "id": "Ynp-Egaji1GU"
      }
    },
    {
      "cell_type": "code",
      "source": [
        "sns.boxplot(y=ks[\"match_played\"])"
      ],
      "metadata": {
        "colab": {
          "base_uri": "https://localhost:8080/",
          "height": 320
        },
        "id": "WR2g9Icdi5I5",
        "outputId": "98c6ff49-5197-4ae8-e7d5-cbbf6a6ca5eb"
      },
      "execution_count": null,
      "outputs": [
        {
          "output_type": "execute_result",
          "data": {
            "text/plain": [
              "<matplotlib.axes._subplots.AxesSubplot at 0x7f86238e5e90>"
            ]
          },
          "metadata": {},
          "execution_count": 17
        },
        {
          "output_type": "display_data",
          "data": {
            "text/plain": [
              "<Figure size 1440x360 with 1 Axes>"
            ],
            "image/png": "[encoded data removed]"
          },
          "metadata": {}
        }
      ]
    },
    {
      "cell_type": "markdown",
      "source": [
        "**Violin Plot**"
      ],
      "metadata": {
        "id": "7CC28HyEjIU2"
      }
    },
    {
      "cell_type": "code",
      "source": [
        "sns.violinplot(y=ks['match_played'], x=ks['goals'])"
      ],
      "metadata": {
        "colab": {
          "base_uri": "https://localhost:8080/",
          "height": 356
        },
        "id": "iMP9wlmljLoN",
        "outputId": "6f9984a8-0e3f-432a-96ff-0915abfc8357"
      },
      "execution_count": null,
      "outputs": [
        {
          "output_type": "execute_result",
          "data": {
            "text/plain": [
              "<matplotlib.axes._subplots.AxesSubplot at 0x7f86237537d0>"
            ]
          },
          "metadata": {},
          "execution_count": 18
        },
        {
          "output_type": "display_data",
          "data": {
            "text/plain": [
              "<Figure size 1440x360 with 1 Axes>"
            ],
            "image/png": "[encoded data removed]"
          },
          "metadata": {}
        }
      ]
    },
    {
      "cell_type": "markdown",
      "source": [
        "Violin plots have many of the same summary statistics as box plots:\n",
        "\n",
        "the white dot represents the median\n",
        "the thick gray bar in the center represents the interquartile range\n",
        "the thin gray line represents the rest of the distribution, except for points that are determined to be “outliers” using a method that is a function of the interquartile range."
      ],
      "metadata": {
        "id": "tJuWgWI1gpAH"
      }
    },
    {
      "cell_type": "markdown",
      "source": [
        "**Strip Plot**"
      ],
      "metadata": {
        "id": "CUGq9IVdjqJ_"
      }
    },
    {
      "cell_type": "code",
      "source": [
        "sns.stripplot(y = ks['match_played'], x=ks['goals'])"
      ],
      "metadata": {
        "colab": {
          "base_uri": "https://localhost:8080/",
          "height": 356
        },
        "id": "5dJkgIYyjtcT",
        "outputId": "7f04993a-e377-409e-e412-80da71f343a0"
      },
      "execution_count": null,
      "outputs": [
        {
          "output_type": "execute_result",
          "data": {
            "text/plain": [
              "<matplotlib.axes._subplots.AxesSubplot at 0x7f86236a17d0>"
            ]
          },
          "metadata": {},
          "execution_count": 19
        },
        {
          "output_type": "display_data",
          "data": {
            "text/plain": [
              "<Figure size 1440x360 with 1 Axes>"
            ],
            "image/png": "[encoded data removed]"
          },
          "metadata": {}
        }
      ]
    },
    {
      "cell_type": "code",
      "source": [
        "ks.isna().sum()"
      ],
      "metadata": {
        "colab": {
          "base_uri": "https://localhost:8080/"
        },
        "id": "bY_ccQyskkvg",
        "outputId": "9cfac48c-83c8-4865-d2d6-1f8a6432ee53"
      },
      "execution_count": null,
      "outputs": [
        {
          "output_type": "execute_result",
          "data": {
            "text/plain": [
              "player_name         0\n",
              "club                0\n",
              "position            0\n",
              "minutes_played      0\n",
              "match_played        0\n",
              "goals               0\n",
              "assists             0\n",
              "distance_covered    0\n",
              "dtype: int64"
            ]
          },
          "metadata": {},
          "execution_count": 20
        }
      ]
    },
    {
      "cell_type": "code",
      "source": [
        "gk.isna().sum()"
      ],
      "metadata": {
        "colab": {
          "base_uri": "https://localhost:8080/"
        },
        "id": "EnqtvgVuk04P",
        "outputId": "af011cc9-31bf-44cc-8b28-14e00d678d96"
      },
      "execution_count": null,
      "outputs": [
        {
          "output_type": "execute_result",
          "data": {
            "text/plain": [
              "serial             0\n",
              "player_name        0\n",
              "club               0\n",
              "position           0\n",
              "saved              0\n",
              "conceded           0\n",
              "saved_penalties    0\n",
              "cleansheets        0\n",
              "punches made       0\n",
              "match_played       0\n",
              "dtype: int64"
            ]
          },
          "metadata": {},
          "execution_count": 21
        }
      ]
    },
    {
      "cell_type": "code",
      "source": [
        "gl.isna().sum()"
      ],
      "metadata": {
        "colab": {
          "base_uri": "https://localhost:8080/"
        },
        "id": "KiC2vL7fk4t8",
        "outputId": "709c66be-537a-41df-ee76-4c7dc8edc3c1"
      },
      "execution_count": null,
      "outputs": [
        {
          "output_type": "execute_result",
          "data": {
            "text/plain": [
              "serial           0\n",
              "player_name      0\n",
              "club             0\n",
              "position         0\n",
              "goals            0\n",
              "right_foot       0\n",
              "left_foot        0\n",
              "headers          0\n",
              "others           0\n",
              "inside_area      0\n",
              "outside_areas    0\n",
              "penalties        0\n",
              "match_played     0\n",
              "dtype: int64"
            ]
          },
          "metadata": {},
          "execution_count": 22
        }
      ]
    },
    {
      "cell_type": "code",
      "source": [
        "atm.isna().sum()"
      ],
      "metadata": {
        "colab": {
          "base_uri": "https://localhost:8080/"
        },
        "id": "jgYMrNLSk8l0",
        "outputId": "67d854ee-7567-488b-e15e-daf40a2c5fcf"
      },
      "execution_count": null,
      "outputs": [
        {
          "output_type": "execute_result",
          "data": {
            "text/plain": [
              "serial            0\n",
              "player_name       0\n",
              "club              0\n",
              "position          0\n",
              "total_attempts    0\n",
              "on_target         0\n",
              "off_target        0\n",
              "blocked           0\n",
              "match_played      0\n",
              "dtype: int64"
            ]
          },
          "metadata": {},
          "execution_count": 23
        }
      ]
    },
    {
      "cell_type": "code",
      "source": [
        "dis.isna().sum()"
      ],
      "metadata": {
        "colab": {
          "base_uri": "https://localhost:8080/"
        },
        "id": "D_QoLSY5lBF_",
        "outputId": "a730680f-a28c-439c-95b9-0ff497fcd45e"
      },
      "execution_count": null,
      "outputs": [
        {
          "output_type": "execute_result",
          "data": {
            "text/plain": [
              "serial             0\n",
              "player_name        0\n",
              "club               0\n",
              "position           0\n",
              "pass_accuracy      0\n",
              "pass_attempted     0\n",
              "pass_completed     0\n",
              "cross_accuracy     0\n",
              "cross_attempted    0\n",
              "cross_complted     0\n",
              "freekicks_taken    0\n",
              "match_played       0\n",
              "dtype: int64"
            ]
          },
          "metadata": {},
          "execution_count": 24
        }
      ]
    },
    {
      "cell_type": "code",
      "source": [
        "dsp.isna().sum()"
      ],
      "metadata": {
        "colab": {
          "base_uri": "https://localhost:8080/"
        },
        "id": "DPiWHIjhmMtg",
        "outputId": "f72641a5-eeea-4e31-d8aa-48a117b1089a"
      },
      "execution_count": null,
      "outputs": [
        {
          "output_type": "execute_result",
          "data": {
            "text/plain": [
              "serial             0\n",
              "player_name        0\n",
              "club               0\n",
              "position           0\n",
              "fouls_committed    0\n",
              "fouls_suffered     0\n",
              "red                0\n",
              "yellow             0\n",
              "minutes_played     0\n",
              "match_played       0\n",
              "dtype: int64"
            ]
          },
          "metadata": {},
          "execution_count": 25
        }
      ]
    },
    {
      "cell_type": "code",
      "source": [
        "atkg.isna().sum()"
      ],
      "metadata": {
        "colab": {
          "base_uri": "https://localhost:8080/"
        },
        "id": "KjRGJKjomTCo",
        "outputId": "a8fca121-897f-4f3a-fb70-5fff88444260"
      },
      "execution_count": null,
      "outputs": [
        {
          "output_type": "execute_result",
          "data": {
            "text/plain": [
              "serial          0\n",
              "player_name     0\n",
              "club            0\n",
              "position        0\n",
              "assists         0\n",
              "corner_taken    0\n",
              "offsides        0\n",
              "dribbles        0\n",
              "match_played    0\n",
              "dtype: int64"
            ]
          },
          "metadata": {},
          "execution_count": 26
        }
      ]
    },
    {
      "cell_type": "code",
      "source": [
        "dfn.isna().sum()"
      ],
      "metadata": {
        "colab": {
          "base_uri": "https://localhost:8080/"
        },
        "id": "-6gv5H_AmS1y",
        "outputId": "d8921541-b188-4bf1-a7ed-7c08a683d190"
      },
      "execution_count": null,
      "outputs": [
        {
          "output_type": "execute_result",
          "data": {
            "text/plain": [
              "serial                 0\n",
              "player_name            0\n",
              "club                   0\n",
              "position               0\n",
              "balls_recoverd         0\n",
              "tackles                0\n",
              "t_won                  0\n",
              "t_lost                 0\n",
              "clearance_attempted    0\n",
              "match_played           0\n",
              "dtype: int64"
            ]
          },
          "metadata": {},
          "execution_count": 27
        }
      ]
    },
    {
      "cell_type": "code",
      "source": [],
      "metadata": {
        "id": "QR5I53qdmScR"
      },
      "execution_count": null,
      "outputs": []
    },
    {
      "cell_type": "markdown",
      "source": [
        "**SimpleImputer**"
      ],
      "metadata": {
        "id": "OZHRaisnlmcv"
      }
    },
    {
      "cell_type": "markdown",
      "source": [
        "No need to use SimpleImputer as therre are no null values in my datasets."
      ],
      "metadata": {
        "id": "zUxhBy6B9KRZ"
      }
    },
    {
      "cell_type": "code",
      "source": [
        "# from sklearn.impute import SimpleImputer\n",
        "# df = pd.read_csv('NaNDataset.csv')\n",
        "# imputer = SimpleImputer(strategy='mean', missing_values=np.nan)\n",
        "# imputer = imputer.fit(df[['B']])\n",
        "# df['B'] = imputer.transform(df[['B']])\n",
        "# df"
      ],
      "metadata": {
        "id": "ZfFrLxQXkICC"
      },
      "execution_count": null,
      "outputs": []
    },
    {
      "cell_type": "markdown",
      "source": [
        "### Goalkeepers Statistics:"
      ],
      "metadata": {
        "id": "kwyA35PlhLZr"
      }
    },
    {
      "cell_type": "code",
      "source": [
        "gk.head()"
      ],
      "metadata": {
        "colab": {
          "base_uri": "https://localhost:8080/",
          "height": 206
        },
        "id": "c3T9g-msLBnY",
        "outputId": "52a9e71b-9d8a-4bde-c3ea-bc987a321f1a"
      },
      "execution_count": null,
      "outputs": [
        {
          "output_type": "execute_result",
          "data": {
            "text/plain": [
              "   serial   player_name         club    position  saved  conceded  \\\n",
              "0       1      Courtois  Real Madrid  Goalkeeper     61        14   \n",
              "1       2         Rulli   Villarreal  Goalkeeper     41        16   \n",
              "2       3   Vlachodimos      Benfica  Goalkeeper     38        17   \n",
              "3       4  Athanasiadis      Sheriff  Goalkeeper     29         8   \n",
              "4       5      Mignolet  Club Brugge  Goalkeeper     28        20   \n",
              "\n",
              "   saved_penalties  cleansheets  punches made  match_played  \n",
              "0                1            5             4            13  \n",
              "1                0            3            12            12  \n",
              "2                1            5             5            10  \n",
              "3                0            1             2             5  \n",
              "4                0            0             1             6  "
            ],
            "text/html": [
              "\n",
              "  <div id=\"df-aa50cab8-0aab-4327-9939-29c218527038\">\n",
              "    <div class=\"colab-df-container\">\n",
              "      <div>\n",
              "<style scoped>\n",
              "    .dataframe tbody tr th:only-of-type {\n",
              "        vertical-align: middle;\n",
              "    }\n",
              "\n",
              "    .dataframe tbody tr th {\n",
              "        vertical-align: top;\n",
              "    }\n",
              "\n",
              "    .dataframe thead th {\n",
              "        text-align: right;\n",
              "    }\n",
              "</style>\n",
              "<table border=\"1\" class=\"dataframe\">\n",
              "  <thead>\n",
              "    <tr style=\"text-align: right;\">\n",
              "      <th></th>\n",
              "      <th>serial</th>\n",
              "      <th>player_name</th>\n",
              "      <th>club</th>\n",
              "      <th>position</th>\n",
              "      <th>saved</th>\n",
              "      <th>conceded</th>\n",
              "      <th>saved_penalties</th>\n",
              "      <th>cleansheets</th>\n",
              "      <th>punches made</th>\n",
              "      <th>match_played</th>\n",
              "    </tr>\n",
              "  </thead>\n",
              "  <tbody>\n",
              "    <tr>\n",
              "      <th>0</th>\n",
              "      <td>1</td>\n",
              "      <td>Courtois</td>\n",
              "      <td>Real Madrid</td>\n",
              "      <td>Goalkeeper</td>\n",
              "      <td>61</td>\n",
              "      <td>14</td>\n",
              "      <td>1</td>\n",
              "      <td>5</td>\n",
              "      <td>4</td>\n",
              "      <td>13</td>\n",
              "    </tr>\n",
              "    <tr>\n",
              "      <th>1</th>\n",
              "      <td>2</td>\n",
              "      <td>Rulli</td>\n",
              "      <td>Villarreal</td>\n",
              "      <td>Goalkeeper</td>\n",
              "      <td>41</td>\n",
              "      <td>16</td>\n",
              "      <td>0</td>\n",
              "      <td>3</td>\n",
              "      <td>12</td>\n",
              "      <td>12</td>\n",
              "    </tr>\n",
              "    <tr>\n",
              "      <th>2</th>\n",
              "      <td>3</td>\n",
              "      <td>Vlachodimos</td>\n",
              "      <td>Benfica</td>\n",
              "      <td>Goalkeeper</td>\n",
              "      <td>38</td>\n",
              "      <td>17</td>\n",
              "      <td>1</td>\n",
              "      <td>5</td>\n",
              "      <td>5</td>\n",
              "      <td>10</td>\n",
              "    </tr>\n",
              "    <tr>\n",
              "      <th>3</th>\n",
              "      <td>4</td>\n",
              "      <td>Athanasiadis</td>\n",
              "      <td>Sheriff</td>\n",
              "      <td>Goalkeeper</td>\n",
              "      <td>29</td>\n",
              "      <td>8</td>\n",
              "      <td>0</td>\n",
              "      <td>1</td>\n",
              "      <td>2</td>\n",
              "      <td>5</td>\n",
              "    </tr>\n",
              "    <tr>\n",
              "      <th>4</th>\n",
              "      <td>5</td>\n",
              "      <td>Mignolet</td>\n",
              "      <td>Club Brugge</td>\n",
              "      <td>Goalkeeper</td>\n",
              "      <td>28</td>\n",
              "      <td>20</td>\n",
              "      <td>0</td>\n",
              "      <td>0</td>\n",
              "      <td>1</td>\n",
              "      <td>6</td>\n",
              "    </tr>\n",
              "  </tbody>\n",
              "</table>\n",
              "</div>\n",
              "      <button class=\"colab-df-convert\" onclick=\"convertToInteractive('df-aa50cab8-0aab-4327-9939-29c218527038')\"\n",
              "              title=\"Convert this dataframe to an interactive table.\"\n",
              "              style=\"display:none;\">\n",
              "        \n",
              "  <svg xmlns=\"http://www.w3.org/2000/svg\" height=\"24px\"viewBox=\"0 0 24 24\"\n",
              "       width=\"24px\">\n",
              "    <path d=\"M0 0h24v24H0V0z\" fill=\"none\"/>\n",
              "    <path d=\"M18.56 5.44l.94 2.06.94-2.06 2.06-.94-2.06-.94-.94-2.06-.94 2.06-2.06.94zm-11 1L8.5 8.5l.94-2.06 2.06-.94-2.06-.94L8.5 2.5l-.94 2.06-2.06.94zm10 10l.94 2.06.94-2.06 2.06-.94-2.06-.94-.94-2.06-.94 2.06-2.06.94z\"/><path d=\"M17.41 7.96l-1.37-1.37c-.4-.4-.92-.59-1.43-.59-.52 0-1.04.2-1.43.59L10.3 9.45l-7.72 7.72c-.78.78-.78 2.05 0 2.83L4 21.41c.39.39.9.59 1.41.59.51 0 1.02-.2 1.41-.59l7.78-7.78 2.81-2.81c.8-.78.8-2.07 0-2.86zM5.41 20L4 18.59l7.72-7.72 1.47 1.35L5.41 20z\"/>\n",
              "  </svg>\n",
              "      </button>\n",
              "      \n",
              "  <style>\n",
              "    .colab-df-container {\n",
              "      display:flex;\n",
              "      flex-wrap:wrap;\n",
              "      gap: 12px;\n",
              "    }\n",
              "\n",
              "    .colab-df-convert {\n",
              "      background-color: #E8F0FE;\n",
              "      border: none;\n",
              "      border-radius: 50%;\n",
              "      cursor: pointer;\n",
              "      display: none;\n",
              "      fill: #1967D2;\n",
              "      height: 32px;\n",
              "      padding: 0 0 0 0;\n",
              "      width: 32px;\n",
              "    }\n",
              "\n",
              "    .colab-df-convert:hover {\n",
              "      background-color: #E2EBFA;\n",
              "      box-shadow: 0px 1px 2px rgba(60, 64, 67, 0.3), 0px 1px 3px 1px rgba(60, 64, 67, 0.15);\n",
              "      fill: #174EA6;\n",
              "    }\n",
              "\n",
              "    [theme=dark] .colab-df-convert {\n",
              "      background-color: #3B4455;\n",
              "      fill: #D2E3FC;\n",
              "    }\n",
              "\n",
              "    [theme=dark] .colab-df-convert:hover {\n",
              "      background-color: #434B5C;\n",
              "      box-shadow: 0px 1px 3px 1px rgba(0, 0, 0, 0.15);\n",
              "      filter: drop-shadow(0px 1px 2px rgba(0, 0, 0, 0.3));\n",
              "      fill: #FFFFFF;\n",
              "    }\n",
              "  </style>\n",
              "\n",
              "      <script>\n",
              "        const buttonEl =\n",
              "          document.querySelector('#df-aa50cab8-0aab-4327-9939-29c218527038 button.colab-df-convert');\n",
              "        buttonEl.style.display =\n",
              "          google.colab.kernel.accessAllowed ? 'block' : 'none';\n",
              "\n",
              "        async function convertToInteractive(key) {\n",
              "          const element = document.querySelector('#df-aa50cab8-0aab-4327-9939-29c218527038');\n",
              "          const dataTable =\n",
              "            await google.colab.kernel.invokeFunction('convertToInteractive',\n",
              "                                                     [key], {});\n",
              "          if (!dataTable) return;\n",
              "\n",
              "          const docLinkHtml = 'Like what you see? Visit the ' +\n",
              "            '<a target=\"_blank\" href=https://colab.research.google.com/notebooks/data_table.ipynb>data table notebook</a>'\n",
              "            + ' to learn more about interactive tables.';\n",
              "          element.innerHTML = '';\n",
              "          dataTable['output_type'] = 'display_data';\n",
              "          await google.colab.output.renderOutput(dataTable, element);\n",
              "          const docLink = document.createElement('div');\n",
              "          docLink.innerHTML = docLinkHtml;\n",
              "          element.appendChild(docLink);\n",
              "        }\n",
              "      </script>\n",
              "    </div>\n",
              "  </div>\n",
              "  "
            ]
          },
          "metadata": {},
          "execution_count": 29
        }
      ]
    },
    {
      "cell_type": "code",
      "source": [
        "gk.groupby([\"club\"])[\"conceded\"].sum().astype(\"int32\").reset_index().sort_values([\"conceded\"],ascending=False).reset_index(drop=True).style.background_gradient(\"Reds\")"
      ],
      "metadata": {
        "colab": {
          "base_uri": "https://localhost:8080/",
          "height": 1000
        },
        "id": "lfjmA3OgK617",
        "outputId": "e39286cd-c850-4e4d-9397-ebb886798299"
      },
      "execution_count": null,
      "outputs": [
        {
          "output_type": "execute_result",
          "data": {
            "text/plain": [
              "<pandas.io.formats.style.Styler at 0x7f8627fd2cd0>"
            ],
            "text/html": [
              "<style type=\"text/css\">\n",
              "#T_f55c4_row0_col1 {\n",
              "  background-color: #67000d;\n",
              "  color: #f1f1f1;\n",
              "}\n",
              "#T_f55c4_row1_col1 {\n",
              "  background-color: #880811;\n",
              "  color: #f1f1f1;\n",
              "}\n",
              "#T_f55c4_row2_col1, #T_f55c4_row3_col1 {\n",
              "  background-color: #bc141a;\n",
              "  color: #f1f1f1;\n",
              "}\n",
              "#T_f55c4_row4_col1, #T_f55c4_row5_col1 {\n",
              "  background-color: #d01d1f;\n",
              "  color: #f1f1f1;\n",
              "}\n",
              "#T_f55c4_row6_col1, #T_f55c4_row7_col1, #T_f55c4_row8_col1, #T_f55c4_row9_col1, #T_f55c4_row10_col1 {\n",
              "  background-color: #f14432;\n",
              "  color: #f1f1f1;\n",
              "}\n",
              "#T_f55c4_row11_col1 {\n",
              "  background-color: #f85d42;\n",
              "  color: #f1f1f1;\n",
              "}\n",
              "#T_f55c4_row12_col1, #T_f55c4_row13_col1 {\n",
              "  background-color: #fb7555;\n",
              "  color: #f1f1f1;\n",
              "}\n",
              "#T_f55c4_row14_col1, #T_f55c4_row15_col1, #T_f55c4_row16_col1, #T_f55c4_row17_col1, #T_f55c4_row18_col1 {\n",
              "  background-color: #fc8a6a;\n",
              "  color: #f1f1f1;\n",
              "}\n",
              "#T_f55c4_row19_col1, #T_f55c4_row20_col1, #T_f55c4_row21_col1, #T_f55c4_row22_col1, #T_f55c4_row23_col1, #T_f55c4_row24_col1 {\n",
              "  background-color: #fca082;\n",
              "  color: #000000;\n",
              "}\n",
              "#T_f55c4_row25_col1, #T_f55c4_row26_col1 {\n",
              "  background-color: #fcb69b;\n",
              "  color: #000000;\n",
              "}\n",
              "#T_f55c4_row27_col1, #T_f55c4_row28_col1 {\n",
              "  background-color: #fdcab5;\n",
              "  color: #000000;\n",
              "}\n",
              "#T_f55c4_row29_col1, #T_f55c4_row30_col1 {\n",
              "  background-color: #fedecf;\n",
              "  color: #000000;\n",
              "}\n",
              "#T_f55c4_row31_col1 {\n",
              "  background-color: #fff5f0;\n",
              "  color: #000000;\n",
              "}\n",
              "</style>\n",
              "<table id=\"T_f55c4_\" class=\"dataframe\">\n",
              "  <thead>\n",
              "    <tr>\n",
              "      <th class=\"blank level0\" >&nbsp;</th>\n",
              "      <th class=\"col_heading level0 col0\" >club</th>\n",
              "      <th class=\"col_heading level0 col1\" >conceded</th>\n",
              "    </tr>\n",
              "  </thead>\n",
              "  <tbody>\n",
              "    <tr>\n",
              "      <th id=\"T_f55c4_level0_row0\" class=\"row_heading level0 row0\" >0</th>\n",
              "      <td id=\"T_f55c4_row0_col0\" class=\"data row0 col0\" >Club Brugge</td>\n",
              "      <td id=\"T_f55c4_row0_col1\" class=\"data row0 col1\" >20</td>\n",
              "    </tr>\n",
              "    <tr>\n",
              "      <th id=\"T_f55c4_level0_row1\" class=\"row_heading level0 row1\" >1</th>\n",
              "      <td id=\"T_f55c4_row1_col0\" class=\"data row1 col0\" >Beşiktaş</td>\n",
              "      <td id=\"T_f55c4_row1_col1\" class=\"data row1 col1\" >19</td>\n",
              "    </tr>\n",
              "    <tr>\n",
              "      <th id=\"T_f55c4_level0_row2\" class=\"row_heading level0 row2\" >2</th>\n",
              "      <td id=\"T_f55c4_row2_col0\" class=\"data row2 col0\" >Benfica</td>\n",
              "      <td id=\"T_f55c4_row2_col1\" class=\"data row2 col1\" >17</td>\n",
              "    </tr>\n",
              "    <tr>\n",
              "      <th id=\"T_f55c4_level0_row3\" class=\"row_heading level0 row3\" >3</th>\n",
              "      <td id=\"T_f55c4_row3_col0\" class=\"data row3 col0\" >Sporting CP</td>\n",
              "      <td id=\"T_f55c4_row3_col1\" class=\"data row3 col1\" >17</td>\n",
              "    </tr>\n",
              "    <tr>\n",
              "      <th id=\"T_f55c4_level0_row4\" class=\"row_heading level0 row4\" >4</th>\n",
              "      <td id=\"T_f55c4_row4_col0\" class=\"data row4 col0\" >Villarreal</td>\n",
              "      <td id=\"T_f55c4_row4_col1\" class=\"data row4 col1\" >16</td>\n",
              "    </tr>\n",
              "    <tr>\n",
              "      <th id=\"T_f55c4_level0_row5\" class=\"row_heading level0 row5\" >5</th>\n",
              "      <td id=\"T_f55c4_row5_col0\" class=\"data row5 col0\" >Man. City</td>\n",
              "      <td id=\"T_f55c4_row5_col1\" class=\"data row5 col1\" >16</td>\n",
              "    </tr>\n",
              "    <tr>\n",
              "      <th id=\"T_f55c4_level0_row6\" class=\"row_heading level0 row6\" >6</th>\n",
              "      <td id=\"T_f55c4_row6_col0\" class=\"data row6 col0\" >Malmö</td>\n",
              "      <td id=\"T_f55c4_row6_col1\" class=\"data row6 col1\" >14</td>\n",
              "    </tr>\n",
              "    <tr>\n",
              "      <th id=\"T_f55c4_level0_row7\" class=\"row_heading level0 row7\" >7</th>\n",
              "      <td id=\"T_f55c4_row7_col0\" class=\"data row7 col0\" >Leipzig</td>\n",
              "      <td id=\"T_f55c4_row7_col1\" class=\"data row7 col1\" >14</td>\n",
              "    </tr>\n",
              "    <tr>\n",
              "      <th id=\"T_f55c4_level0_row8\" class=\"row_heading level0 row8\" >8</th>\n",
              "      <td id=\"T_f55c4_row8_col0\" class=\"data row8 col0\" >Real Madrid</td>\n",
              "      <td id=\"T_f55c4_row8_col1\" class=\"data row8 col1\" >14</td>\n",
              "    </tr>\n",
              "    <tr>\n",
              "      <th id=\"T_f55c4_level0_row9\" class=\"row_heading level0 row9\" >9</th>\n",
              "      <td id=\"T_f55c4_row9_col0\" class=\"data row9 col0\" >Liverpool</td>\n",
              "      <td id=\"T_f55c4_row9_col1\" class=\"data row9 col1\" >14</td>\n",
              "    </tr>\n",
              "    <tr>\n",
              "      <th id=\"T_f55c4_level0_row10\" class=\"row_heading level0 row10\" >10</th>\n",
              "      <td id=\"T_f55c4_row10_col0\" class=\"data row10 col0\" >Salzburg</td>\n",
              "      <td id=\"T_f55c4_row10_col1\" class=\"data row10 col1\" >14</td>\n",
              "    </tr>\n",
              "    <tr>\n",
              "      <th id=\"T_f55c4_level0_row11\" class=\"row_heading level0 row11\" >11</th>\n",
              "      <td id=\"T_f55c4_row11_col0\" class=\"data row11 col0\" >Atalanta</td>\n",
              "      <td id=\"T_f55c4_row11_col1\" class=\"data row11 col1\" >13</td>\n",
              "    </tr>\n",
              "    <tr>\n",
              "      <th id=\"T_f55c4_level0_row12\" class=\"row_heading level0 row12\" >12</th>\n",
              "      <td id=\"T_f55c4_row12_col0\" class=\"data row12 col0\" >Young Boys</td>\n",
              "      <td id=\"T_f55c4_row12_col1\" class=\"data row12 col1\" >12</td>\n",
              "    </tr>\n",
              "    <tr>\n",
              "      <th id=\"T_f55c4_level0_row13\" class=\"row_heading level0 row13\" >13</th>\n",
              "      <td id=\"T_f55c4_row13_col0\" class=\"data row13 col0\" >Shakhtar Donetsk</td>\n",
              "      <td id=\"T_f55c4_row13_col1\" class=\"data row13 col1\" >12</td>\n",
              "    </tr>\n",
              "    <tr>\n",
              "      <th id=\"T_f55c4_level0_row14\" class=\"row_heading level0 row14\" >14</th>\n",
              "      <td id=\"T_f55c4_row14_col0\" class=\"data row14 col0\" >Dynamo Kyiv</td>\n",
              "      <td id=\"T_f55c4_row14_col1\" class=\"data row14 col1\" >11</td>\n",
              "    </tr>\n",
              "    <tr>\n",
              "      <th id=\"T_f55c4_level0_row15\" class=\"row_heading level0 row15\" >15</th>\n",
              "      <td id=\"T_f55c4_row15_col0\" class=\"data row15 col0\" >Sheriff</td>\n",
              "      <td id=\"T_f55c4_row15_col1\" class=\"data row15 col1\" >11</td>\n",
              "    </tr>\n",
              "    <tr>\n",
              "      <th id=\"T_f55c4_level0_row16\" class=\"row_heading level0 row16\" >16</th>\n",
              "      <td id=\"T_f55c4_row16_col0\" class=\"data row16 col0\" >Paris</td>\n",
              "      <td id=\"T_f55c4_row16_col1\" class=\"data row16 col1\" >11</td>\n",
              "    </tr>\n",
              "    <tr>\n",
              "      <th id=\"T_f55c4_level0_row17\" class=\"row_heading level0 row17\" >17</th>\n",
              "      <td id=\"T_f55c4_row17_col0\" class=\"data row17 col0\" >Dortmund</td>\n",
              "      <td id=\"T_f55c4_row17_col1\" class=\"data row17 col1\" >11</td>\n",
              "    </tr>\n",
              "    <tr>\n",
              "      <th id=\"T_f55c4_level0_row18\" class=\"row_heading level0 row18\" >18</th>\n",
              "      <td id=\"T_f55c4_row18_col0\" class=\"data row18 col0\" >Porto</td>\n",
              "      <td id=\"T_f55c4_row18_col1\" class=\"data row18 col1\" >11</td>\n",
              "    </tr>\n",
              "    <tr>\n",
              "      <th id=\"T_f55c4_level0_row19\" class=\"row_heading level0 row19\" >19</th>\n",
              "      <td id=\"T_f55c4_row19_col0\" class=\"data row19 col0\" >Wolfsburg</td>\n",
              "      <td id=\"T_f55c4_row19_col1\" class=\"data row19 col1\" >10</td>\n",
              "    </tr>\n",
              "    <tr>\n",
              "      <th id=\"T_f55c4_level0_row20\" class=\"row_heading level0 row20\" >20</th>\n",
              "      <td id=\"T_f55c4_row20_col0\" class=\"data row20 col0\" >Zenit</td>\n",
              "      <td id=\"T_f55c4_row20_col1\" class=\"data row20 col1\" >10</td>\n",
              "    </tr>\n",
              "    <tr>\n",
              "      <th id=\"T_f55c4_level0_row21\" class=\"row_heading level0 row21\" >21</th>\n",
              "      <td id=\"T_f55c4_row21_col0\" class=\"data row21 col0\" >Man. United</td>\n",
              "      <td id=\"T_f55c4_row21_col1\" class=\"data row21 col1\" >10</td>\n",
              "    </tr>\n",
              "    <tr>\n",
              "      <th id=\"T_f55c4_level0_row22\" class=\"row_heading level0 row22\" >22</th>\n",
              "      <td id=\"T_f55c4_row22_col0\" class=\"data row22 col0\" >Juventus</td>\n",
              "      <td id=\"T_f55c4_row22_col1\" class=\"data row22 col1\" >10</td>\n",
              "    </tr>\n",
              "    <tr>\n",
              "      <th id=\"T_f55c4_level0_row23\" class=\"row_heading level0 row23\" >23</th>\n",
              "      <td id=\"T_f55c4_row23_col0\" class=\"data row23 col0\" >Chelsea</td>\n",
              "      <td id=\"T_f55c4_row23_col1\" class=\"data row23 col1\" >10</td>\n",
              "    </tr>\n",
              "    <tr>\n",
              "      <th id=\"T_f55c4_level0_row24\" class=\"row_heading level0 row24\" >24</th>\n",
              "      <td id=\"T_f55c4_row24_col0\" class=\"data row24 col0\" >Atlético</td>\n",
              "      <td id=\"T_f55c4_row24_col1\" class=\"data row24 col1\" >10</td>\n",
              "    </tr>\n",
              "    <tr>\n",
              "      <th id=\"T_f55c4_level0_row25\" class=\"row_heading level0 row25\" >25</th>\n",
              "      <td id=\"T_f55c4_row25_col0\" class=\"data row25 col0\" >Milan</td>\n",
              "      <td id=\"T_f55c4_row25_col1\" class=\"data row25 col1\" >9</td>\n",
              "    </tr>\n",
              "    <tr>\n",
              "      <th id=\"T_f55c4_level0_row26\" class=\"row_heading level0 row26\" >26</th>\n",
              "      <td id=\"T_f55c4_row26_col0\" class=\"data row26 col0\" >Barcelona</td>\n",
              "      <td id=\"T_f55c4_row26_col1\" class=\"data row26 col1\" >9</td>\n",
              "    </tr>\n",
              "    <tr>\n",
              "      <th id=\"T_f55c4_level0_row27\" class=\"row_heading level0 row27\" >27</th>\n",
              "      <td id=\"T_f55c4_row27_col0\" class=\"data row27 col0\" >LOSC</td>\n",
              "      <td id=\"T_f55c4_row27_col1\" class=\"data row27 col1\" >8</td>\n",
              "    </tr>\n",
              "    <tr>\n",
              "      <th id=\"T_f55c4_level0_row28\" class=\"row_heading level0 row28\" >28</th>\n",
              "      <td id=\"T_f55c4_row28_col0\" class=\"data row28 col0\" >Ajax</td>\n",
              "      <td id=\"T_f55c4_row28_col1\" class=\"data row28 col1\" >8</td>\n",
              "    </tr>\n",
              "    <tr>\n",
              "      <th id=\"T_f55c4_level0_row29\" class=\"row_heading level0 row29\" >29</th>\n",
              "      <td id=\"T_f55c4_row29_col0\" class=\"data row29 col0\" >Inter</td>\n",
              "      <td id=\"T_f55c4_row29_col1\" class=\"data row29 col1\" >7</td>\n",
              "    </tr>\n",
              "    <tr>\n",
              "      <th id=\"T_f55c4_level0_row30\" class=\"row_heading level0 row30\" >30</th>\n",
              "      <td id=\"T_f55c4_row30_col0\" class=\"data row30 col0\" >Bayern</td>\n",
              "      <td id=\"T_f55c4_row30_col1\" class=\"data row30 col1\" >7</td>\n",
              "    </tr>\n",
              "    <tr>\n",
              "      <th id=\"T_f55c4_level0_row31\" class=\"row_heading level0 row31\" >31</th>\n",
              "      <td id=\"T_f55c4_row31_col0\" class=\"data row31 col0\" >Sevilla</td>\n",
              "      <td id=\"T_f55c4_row31_col1\" class=\"data row31 col1\" >5</td>\n",
              "    </tr>\n",
              "  </tbody>\n",
              "</table>\n"
            ]
          },
          "metadata": {},
          "execution_count": 30
        }
      ]
    },
    {
      "cell_type": "code",
      "source": [
        "results = gk.groupby('club').sum()\n",
        "data = gk.groupby([\"club\"])[\"conceded\"].sum()\n",
        "clubs = [club for club, df in data.groupby('club')]\n",
        "plt.bar(x=clubs, height= results['conceded'])\n",
        "plt.xlabel('Club')\n",
        "plt.ylabel('Conceded')\n",
        "plt.xticks(clubs,rotation = 'vertical')\n",
        "plt.show()"
      ],
      "metadata": {
        "colab": {
          "base_uri": "https://localhost:8080/",
          "height": 428
        },
        "id": "9SoJwT_GYuX8",
        "outputId": "5a40b97b-145c-4201-ba34-91b874c7702d"
      },
      "execution_count": null,
      "outputs": [
        {
          "output_type": "display_data",
          "data": {
            "text/plain": [
              "<Figure size 1440x360 with 1 Axes>"
            ],
            "image/png": "[encoded data removed]"
          },
          "metadata": {}
        }
      ]
    },
    {
      "cell_type": "markdown",
      "source": [
        "**Observation:**\n",
        "Club Brugge has conceded the most goals in this season."
      ],
      "metadata": {
        "id": "TdBYnsOO9YQf"
      }
    },
    {
      "cell_type": "markdown",
      "source": [
        "**Distribution plot for goals**"
      ],
      "metadata": {
        "id": "k2EbFQ9mhDp-"
      }
    },
    {
      "cell_type": "code",
      "source": [
        "import seaborn as sns\n",
        "\n",
        "sns.distplot(x = ks.groupby(['club'])['goals'].sum())\n"
      ],
      "metadata": {
        "colab": {
          "base_uri": "https://localhost:8080/",
          "height": 394
        },
        "id": "3Q22M5Pbgk-N",
        "outputId": "e79e34ca-683b-495f-f42c-f14917b230e5"
      },
      "execution_count": null,
      "outputs": [
        {
          "output_type": "stream",
          "name": "stderr",
          "text": [
            "/usr/local/lib/python3.7/dist-packages/seaborn/distributions.py:2619: FutureWarning: `distplot` is a deprecated function and will be removed in a future version. Please adapt your code to use either `displot` (a figure-level function with similar flexibility) or `histplot` (an axes-level function for histograms).\n",
            "  warnings.warn(msg, FutureWarning)\n"
          ]
        },
        {
          "output_type": "execute_result",
          "data": {
            "text/plain": [
              "<matplotlib.axes._subplots.AxesSubplot at 0x7f86231b2290>"
            ]
          },
          "metadata": {},
          "execution_count": 32
        },
        {
          "output_type": "display_data",
          "data": {
            "text/plain": [
              "<Figure size 1440x360 with 1 Axes>"
            ],
            "image/png": "[encoded data removed]"
          },
          "metadata": {}
        }
      ]
    },
    {
      "cell_type": "markdown",
      "source": [
        "**Scatter plot for assists and goals with different positions**"
      ],
      "metadata": {
        "id": "YYEPHd6GRDTd"
      }
    },
    {
      "cell_type": "code",
      "source": [
        "data = ks[[\"player_name\",\"club\",\"position\",\"assists\",\"goals\"]].sort_values([\"goals\"],ascending=False).reset_index(drop=True).head(20)\n",
        "sns.scatterplot(data = data,\n",
        "               x = 'assists',\n",
        "               y = 'goals',\n",
        "               hue=\"position\",s=200, palette=[\"red\",\"blue\"])\n",
        "for i in range(len(data)):\n",
        "    if data[\"player_name\"][i] == 'Foden':\n",
        "        plt.text(x=data[\"assists\"][i]-0.35, y = data[\"goals\"][i]-0.40, s = data[\"player_name\"][i])\n",
        "    else:\n",
        "        plt.text(x=data[\"assists\"][i]-0.35, y = data[\"goals\"][i]+0.25, s = data[\"player_name\"][i])\n",
        "plt.legend()\n",
        "plt.xlabel(\"assists\")\n",
        "plt.ylabel(\"Goals\")\n",
        "plt.show()"
      ],
      "metadata": {
        "colab": {
          "base_uri": "https://localhost:8080/",
          "height": 342
        },
        "id": "OuVAfJu2P_fo",
        "outputId": "1d301855-3199-48aa-aca7-6dba8e250806"
      },
      "execution_count": null,
      "outputs": [
        {
          "output_type": "display_data",
          "data": {
            "text/plain": [
              "<Figure size 1440x360 with 1 Axes>"
            ],
            "image/png": "[encoded data removed]"
          },
          "metadata": {}
        }
      ]
    },
    {
      "cell_type": "markdown",
      "source": [
        "**Player wise goals**"
      ],
      "metadata": {
        "id": "8STEV4SpKfvU"
      }
    },
    {
      "cell_type": "code",
      "source": [
        "gl[[\"player_name\",\"goals\"]].sort_values(\"goals\",ascending=False).reset_index(drop=True).head(20).style.background_gradient(\"Greens\")"
      ],
      "metadata": {
        "colab": {
          "base_uri": "https://localhost:8080/",
          "height": 676
        },
        "id": "HtYhpeMiKXGG",
        "outputId": "605a0399-79e6-4548-d4a4-d034c59ae7a0"
      },
      "execution_count": null,
      "outputs": [
        {
          "output_type": "execute_result",
          "data": {
            "text/plain": [
              "<pandas.io.formats.style.Styler at 0x7f8623123d50>"
            ],
            "text/html": [
              "<style type=\"text/css\">\n",
              "#T_11b61_row0_col1 {\n",
              "  background-color: #00441b;\n",
              "  color: #f1f1f1;\n",
              "}\n",
              "#T_11b61_row1_col1 {\n",
              "  background-color: #107a37;\n",
              "  color: #f1f1f1;\n",
              "}\n",
              "#T_11b61_row2_col1 {\n",
              "  background-color: #3fa85b;\n",
              "  color: #f1f1f1;\n",
              "}\n",
              "#T_11b61_row3_col1 {\n",
              "  background-color: #a4da9e;\n",
              "  color: #000000;\n",
              "}\n",
              "#T_11b61_row4_col1, #T_11b61_row5_col1 {\n",
              "  background-color: #c1e6ba;\n",
              "  color: #000000;\n",
              "}\n",
              "#T_11b61_row6_col1, #T_11b61_row7_col1, #T_11b61_row8_col1, #T_11b61_row9_col1, #T_11b61_row10_col1 {\n",
              "  background-color: #d8f0d2;\n",
              "  color: #000000;\n",
              "}\n",
              "#T_11b61_row11_col1, #T_11b61_row12_col1, #T_11b61_row13_col1, #T_11b61_row14_col1 {\n",
              "  background-color: #eaf7e6;\n",
              "  color: #000000;\n",
              "}\n",
              "#T_11b61_row15_col1, #T_11b61_row16_col1, #T_11b61_row17_col1, #T_11b61_row18_col1, #T_11b61_row19_col1 {\n",
              "  background-color: #f7fcf5;\n",
              "  color: #000000;\n",
              "}\n",
              "</style>\n",
              "<table id=\"T_11b61_\" class=\"dataframe\">\n",
              "  <thead>\n",
              "    <tr>\n",
              "      <th class=\"blank level0\" >&nbsp;</th>\n",
              "      <th class=\"col_heading level0 col0\" >player_name</th>\n",
              "      <th class=\"col_heading level0 col1\" >goals</th>\n",
              "    </tr>\n",
              "  </thead>\n",
              "  <tbody>\n",
              "    <tr>\n",
              "      <th id=\"T_11b61_level0_row0\" class=\"row_heading level0 row0\" >0</th>\n",
              "      <td id=\"T_11b61_row0_col0\" class=\"data row0 col0\" >Benzema</td>\n",
              "      <td id=\"T_11b61_row0_col1\" class=\"data row0 col1\" >15</td>\n",
              "    </tr>\n",
              "    <tr>\n",
              "      <th id=\"T_11b61_level0_row1\" class=\"row_heading level0 row1\" >1</th>\n",
              "      <td id=\"T_11b61_row1_col0\" class=\"data row1 col0\" >Lewandowski</td>\n",
              "      <td id=\"T_11b61_row1_col1\" class=\"data row1 col1\" >13</td>\n",
              "    </tr>\n",
              "    <tr>\n",
              "      <th id=\"T_11b61_level0_row2\" class=\"row_heading level0 row2\" >2</th>\n",
              "      <td id=\"T_11b61_row2_col0\" class=\"data row2 col0\" >Haller</td>\n",
              "      <td id=\"T_11b61_row2_col1\" class=\"data row2 col1\" >11</td>\n",
              "    </tr>\n",
              "    <tr>\n",
              "      <th id=\"T_11b61_level0_row3\" class=\"row_heading level0 row3\" >3</th>\n",
              "      <td id=\"T_11b61_row3_col0\" class=\"data row3 col0\" >Salah</td>\n",
              "      <td id=\"T_11b61_row3_col1\" class=\"data row3 col1\" >8</td>\n",
              "    </tr>\n",
              "    <tr>\n",
              "      <th id=\"T_11b61_level0_row4\" class=\"row_heading level0 row4\" >4</th>\n",
              "      <td id=\"T_11b61_row4_col0\" class=\"data row4 col0\" >Nkunku</td>\n",
              "      <td id=\"T_11b61_row4_col1\" class=\"data row4 col1\" >7</td>\n",
              "    </tr>\n",
              "    <tr>\n",
              "      <th id=\"T_11b61_level0_row5\" class=\"row_heading level0 row5\" >5</th>\n",
              "      <td id=\"T_11b61_row5_col0\" class=\"data row5 col0\" >Mahrez</td>\n",
              "      <td id=\"T_11b61_row5_col1\" class=\"data row5 col1\" >7</td>\n",
              "    </tr>\n",
              "    <tr>\n",
              "      <th id=\"T_11b61_level0_row6\" class=\"row_heading level0 row6\" >6</th>\n",
              "      <td id=\"T_11b61_row6_col0\" class=\"data row6 col0\" >Ronaldo</td>\n",
              "      <td id=\"T_11b61_row6_col1\" class=\"data row6 col1\" >6</td>\n",
              "    </tr>\n",
              "    <tr>\n",
              "      <th id=\"T_11b61_level0_row7\" class=\"row_heading level0 row7\" >7</th>\n",
              "      <td id=\"T_11b61_row7_col0\" class=\"data row7 col0\" >Sané</td>\n",
              "      <td id=\"T_11b61_row7_col1\" class=\"data row7 col1\" >6</td>\n",
              "    </tr>\n",
              "    <tr>\n",
              "      <th id=\"T_11b61_level0_row8\" class=\"row_heading level0 row8\" >8</th>\n",
              "      <td id=\"T_11b61_row8_col0\" class=\"data row8 col0\" >Danjuma</td>\n",
              "      <td id=\"T_11b61_row8_col1\" class=\"data row8 col1\" >6</td>\n",
              "    </tr>\n",
              "    <tr>\n",
              "      <th id=\"T_11b61_level0_row9\" class=\"row_heading level0 row9\" >9</th>\n",
              "      <td id=\"T_11b61_row9_col0\" class=\"data row9 col0\" >Núñez</td>\n",
              "      <td id=\"T_11b61_row9_col1\" class=\"data row9 col1\" >6</td>\n",
              "    </tr>\n",
              "    <tr>\n",
              "      <th id=\"T_11b61_level0_row10\" class=\"row_heading level0 row10\" >10</th>\n",
              "      <td id=\"T_11b61_row10_col0\" class=\"data row10 col0\" >Mbappé</td>\n",
              "      <td id=\"T_11b61_row10_col1\" class=\"data row10 col1\" >6</td>\n",
              "    </tr>\n",
              "    <tr>\n",
              "      <th id=\"T_11b61_level0_row11\" class=\"row_heading level0 row11\" >11</th>\n",
              "      <td id=\"T_11b61_row11_col0\" class=\"data row11 col0\" >Firmino</td>\n",
              "      <td id=\"T_11b61_row11_col1\" class=\"data row11 col1\" >5</td>\n",
              "    </tr>\n",
              "    <tr>\n",
              "      <th id=\"T_11b61_level0_row12\" class=\"row_heading level0 row12\" >12</th>\n",
              "      <td id=\"T_11b61_row12_col0\" class=\"data row12 col0\" >Mané</td>\n",
              "      <td id=\"T_11b61_row12_col1\" class=\"data row12 col1\" >5</td>\n",
              "    </tr>\n",
              "    <tr>\n",
              "      <th id=\"T_11b61_level0_row13\" class=\"row_heading level0 row13\" >13</th>\n",
              "      <td id=\"T_11b61_row13_col0\" class=\"data row13 col0\" >Rodrygo</td>\n",
              "      <td id=\"T_11b61_row13_col1\" class=\"data row13 col1\" >5</td>\n",
              "    </tr>\n",
              "    <tr>\n",
              "      <th id=\"T_11b61_level0_row14\" class=\"row_heading level0 row14\" >14</th>\n",
              "      <td id=\"T_11b61_row14_col0\" class=\"data row14 col0\" >Messi</td>\n",
              "      <td id=\"T_11b61_row14_col1\" class=\"data row14 col1\" >5</td>\n",
              "    </tr>\n",
              "    <tr>\n",
              "      <th id=\"T_11b61_level0_row15\" class=\"row_heading level0 row15\" >15</th>\n",
              "      <td id=\"T_11b61_row15_col0\" class=\"data row15 col0\" >Luis Díaz</td>\n",
              "      <td id=\"T_11b61_row15_col1\" class=\"data row15 col1\" >4</td>\n",
              "    </tr>\n",
              "    <tr>\n",
              "      <th id=\"T_11b61_level0_row16\" class=\"row_heading level0 row16\" >16</th>\n",
              "      <td id=\"T_11b61_row16_col0\" class=\"data row16 col0\" >Griezmann</td>\n",
              "      <td id=\"T_11b61_row16_col1\" class=\"data row16 col1\" >4</td>\n",
              "    </tr>\n",
              "    <tr>\n",
              "      <th id=\"T_11b61_level0_row17\" class=\"row_heading level0 row17\" >17</th>\n",
              "      <td id=\"T_11b61_row17_col0\" class=\"data row17 col0\" >Müller</td>\n",
              "      <td id=\"T_11b61_row17_col1\" class=\"data row17 col1\" >4</td>\n",
              "    </tr>\n",
              "    <tr>\n",
              "      <th id=\"T_11b61_level0_row18\" class=\"row_heading level0 row18\" >18</th>\n",
              "      <td id=\"T_11b61_row18_col0\" class=\"data row18 col0\" >Werner</td>\n",
              "      <td id=\"T_11b61_row18_col1\" class=\"data row18 col1\" >4</td>\n",
              "    </tr>\n",
              "    <tr>\n",
              "      <th id=\"T_11b61_level0_row19\" class=\"row_heading level0 row19\" >19</th>\n",
              "      <td id=\"T_11b61_row19_col0\" class=\"data row19 col0\" >Vinícius Júnior</td>\n",
              "      <td id=\"T_11b61_row19_col1\" class=\"data row19 col1\" >4</td>\n",
              "    </tr>\n",
              "  </tbody>\n",
              "</table>\n"
            ]
          },
          "metadata": {},
          "execution_count": 34
        }
      ]
    },
    {
      "cell_type": "markdown",
      "source": [
        "**BARH**"
      ],
      "metadata": {
        "id": "26S-SaQnl69u"
      }
    },
    {
      "cell_type": "code",
      "source": [
        "result = gl.groupby('club').sum()\n",
        "data = gl[[\"player_name\",\"club\",\"goals\"]].sort_values(\"goals\",ascending=False)\n",
        "clubs = [club for club, df in data.groupby('club')]\n",
        "plt.barh(y=clubs, width= result['goals'])\n",
        "plt.xlabel('Club')\n",
        "plt.ylabel('Goals')\n",
        "plt.yticks(clubs)\n",
        "plt.show()"
      ],
      "metadata": {
        "colab": {
          "base_uri": "https://localhost:8080/",
          "height": 339
        },
        "id": "ZeQ5Xs0DbjxS",
        "outputId": "d1c66da6-6c06-401d-b462-4d4c055db5ae"
      },
      "execution_count": null,
      "outputs": [
        {
          "output_type": "display_data",
          "data": {
            "text/plain": [
              "<Figure size 1440x360 with 1 Axes>"
            ],
            "image/png": "[encoded data removed]"
          },
          "metadata": {}
        }
      ]
    },
    {
      "cell_type": "markdown",
      "source": [
        "**Position wise assist**"
      ],
      "metadata": {
        "id": "4aSYkhUnLk0f"
      }
    },
    {
      "cell_type": "code",
      "source": [
        "ks.groupby([\"position\"])[\"assists\"].sum().reset_index().sort_values(\"assists\",ascending=False).style.background_gradient(\"Greens\")"
      ],
      "metadata": {
        "colab": {
          "base_uri": "https://localhost:8080/",
          "height": 175
        },
        "id": "Nb_NSHRiK3Bx",
        "outputId": "fd171737-e2ad-4b42-a7b6-a86458be7629"
      },
      "execution_count": null,
      "outputs": [
        {
          "output_type": "execute_result",
          "data": {
            "text/plain": [
              "<pandas.io.formats.style.Styler at 0x7f862548efd0>"
            ],
            "text/html": [
              "<style type=\"text/css\">\n",
              "#T_d0922_row0_col1 {\n",
              "  background-color: #00441b;\n",
              "  color: #f1f1f1;\n",
              "}\n",
              "#T_d0922_row1_col1 {\n",
              "  background-color: #43ac5e;\n",
              "  color: #f1f1f1;\n",
              "}\n",
              "#T_d0922_row2_col1 {\n",
              "  background-color: #6abf71;\n",
              "  color: #000000;\n",
              "}\n",
              "#T_d0922_row3_col1 {\n",
              "  background-color: #f7fcf5;\n",
              "  color: #000000;\n",
              "}\n",
              "</style>\n",
              "<table id=\"T_d0922_\" class=\"dataframe\">\n",
              "  <thead>\n",
              "    <tr>\n",
              "      <th class=\"blank level0\" >&nbsp;</th>\n",
              "      <th class=\"col_heading level0 col0\" >position</th>\n",
              "      <th class=\"col_heading level0 col1\" >assists</th>\n",
              "    </tr>\n",
              "  </thead>\n",
              "  <tbody>\n",
              "    <tr>\n",
              "      <th id=\"T_d0922_level0_row0\" class=\"row_heading level0 row0\" >3</th>\n",
              "      <td id=\"T_d0922_row0_col0\" class=\"data row0 col0\" >Midfielder</td>\n",
              "      <td id=\"T_d0922_row0_col1\" class=\"data row0 col1\" >130</td>\n",
              "    </tr>\n",
              "    <tr>\n",
              "      <th id=\"T_d0922_level0_row1\" class=\"row_heading level0 row1\" >1</th>\n",
              "      <td id=\"T_d0922_row1_col0\" class=\"data row1 col0\" >Forward</td>\n",
              "      <td id=\"T_d0922_row1_col1\" class=\"data row1 col1\" >81</td>\n",
              "    </tr>\n",
              "    <tr>\n",
              "      <th id=\"T_d0922_level0_row2\" class=\"row_heading level0 row2\" >0</th>\n",
              "      <td id=\"T_d0922_row2_col0\" class=\"data row2 col0\" >Defender</td>\n",
              "      <td id=\"T_d0922_row2_col1\" class=\"data row2 col1\" >69</td>\n",
              "    </tr>\n",
              "    <tr>\n",
              "      <th id=\"T_d0922_level0_row3\" class=\"row_heading level0 row3\" >2</th>\n",
              "      <td id=\"T_d0922_row3_col0\" class=\"data row3 col0\" >Goalkeeper</td>\n",
              "      <td id=\"T_d0922_row3_col1\" class=\"data row3 col1\" >1</td>\n",
              "    </tr>\n",
              "  </tbody>\n",
              "</table>\n"
            ]
          },
          "metadata": {},
          "execution_count": 36
        }
      ]
    },
    {
      "cell_type": "code",
      "source": [
        "data1 = ks.groupby([\"position\"])[\"assists\"].sum()\n",
        "plt.hist(x=ks['position'],bins=4)\n",
        "plt.show()"
      ],
      "metadata": {
        "colab": {
          "base_uri": "https://localhost:8080/",
          "height": 325
        },
        "id": "SKbDWttrcQvy",
        "outputId": "a57e1219-0ac8-4f0f-956d-bdf54eec4a56"
      },
      "execution_count": null,
      "outputs": [
        {
          "output_type": "display_data",
          "data": {
            "text/plain": [
              "<Figure size 1440x360 with 1 Axes>"
            ],
            "image/png": "[encoded data removed]"
          },
          "metadata": {}
        }
      ]
    },
    {
      "cell_type": "markdown",
      "source": [
        "**PIE**"
      ],
      "metadata": {
        "id": "zKY8NJY0l3NX"
      }
    },
    {
      "cell_type": "code",
      "source": [
        "data2 = ks.groupby(\"position\")[\"goals\"].sum()\n",
        "data2\n",
        "data2.plot.pie(autopct =\"%.1f%%\")"
      ],
      "metadata": {
        "colab": {
          "base_uri": "https://localhost:8080/",
          "height": 320
        },
        "id": "2XL2eKcjdXPk",
        "outputId": "6a254009-7269-4f41-874f-00a6adde9e1f"
      },
      "execution_count": null,
      "outputs": [
        {
          "output_type": "execute_result",
          "data": {
            "text/plain": [
              "<matplotlib.axes._subplots.AxesSubplot at 0x7f862307fd10>"
            ]
          },
          "metadata": {},
          "execution_count": 38
        },
        {
          "output_type": "display_data",
          "data": {
            "text/plain": [
              "<Figure size 1440x360 with 1 Axes>"
            ],
            "image/png": "[encoded data removed]"
          },
          "metadata": {}
        }
      ]
    },
    {
      "cell_type": "markdown",
      "source": [
        "Observations:\n",
        "\n",
        "As RMA is finalist and played 2 extra times, average laying time per player should be higher; but it is substantially higher than another finalistt Liverpool (4th). So, the reason can be - RMA used less players in UCL, so each player player had to player longer than usual.\n",
        "\n",
        "Suggestions:\n",
        "\n",
        "Playing time pressure should be reduced, and more player should be given place to perform."
      ],
      "metadata": {
        "id": "rqDrOKd4KhoA"
      }
    },
    {
      "cell_type": "code",
      "source": [
        "ks[[\"player_name\",\"minutes_played\",\"match_played\"]].sort_values(\"minutes_played\",ascending=False).reset_index(drop=True).head(20).style.background_gradient(\"Greens\")"
      ],
      "metadata": {
        "colab": {
          "base_uri": "https://localhost:8080/",
          "height": 676
        },
        "id": "ftHigtZ-KoUV",
        "outputId": "d020b3da-0fa1-4fc7-8484-929835304f8f"
      },
      "execution_count": null,
      "outputs": [
        {
          "output_type": "execute_result",
          "data": {
            "text/plain": [
              "<pandas.io.formats.style.Styler at 0x7f862319dd10>"
            ],
            "text/html": [
              "<style type=\"text/css\">\n",
              "#T_83455_row0_col1, #T_83455_row0_col2, #T_83455_row1_col2, #T_83455_row2_col2, #T_83455_row6_col2, #T_83455_row12_col2 {\n",
              "  background-color: #00441b;\n",
              "  color: #f1f1f1;\n",
              "}\n",
              "#T_83455_row1_col1 {\n",
              "  background-color: #006328;\n",
              "  color: #f1f1f1;\n",
              "}\n",
              "#T_83455_row2_col1 {\n",
              "  background-color: #107a37;\n",
              "  color: #f1f1f1;\n",
              "}\n",
              "#T_83455_row3_col1 {\n",
              "  background-color: #42ab5d;\n",
              "  color: #f1f1f1;\n",
              "}\n",
              "#T_83455_row3_col2, #T_83455_row4_col2, #T_83455_row5_col2, #T_83455_row7_col2, #T_83455_row8_col2, #T_83455_row9_col2, #T_83455_row10_col2, #T_83455_row11_col2, #T_83455_row14_col2, #T_83455_row18_col2 {\n",
              "  background-color: #37a055;\n",
              "  color: #f1f1f1;\n",
              "}\n",
              "#T_83455_row4_col1, #T_83455_row5_col1 {\n",
              "  background-color: #62bb6d;\n",
              "  color: #f1f1f1;\n",
              "}\n",
              "#T_83455_row6_col1 {\n",
              "  background-color: #65bd6f;\n",
              "  color: #f1f1f1;\n",
              "}\n",
              "#T_83455_row7_col1 {\n",
              "  background-color: #66bd6f;\n",
              "  color: #f1f1f1;\n",
              "}\n",
              "#T_83455_row8_col1 {\n",
              "  background-color: #7fc97f;\n",
              "  color: #000000;\n",
              "}\n",
              "#T_83455_row9_col1 {\n",
              "  background-color: #88ce87;\n",
              "  color: #000000;\n",
              "}\n",
              "#T_83455_row10_col1 {\n",
              "  background-color: #8ace88;\n",
              "  color: #000000;\n",
              "}\n",
              "#T_83455_row11_col1 {\n",
              "  background-color: #90d18d;\n",
              "  color: #000000;\n",
              "}\n",
              "#T_83455_row12_col1 {\n",
              "  background-color: #b0dfaa;\n",
              "  color: #000000;\n",
              "}\n",
              "#T_83455_row13_col1 {\n",
              "  background-color: #b5e1ae;\n",
              "  color: #000000;\n",
              "}\n",
              "#T_83455_row13_col2, #T_83455_row15_col2, #T_83455_row16_col2, #T_83455_row17_col2 {\n",
              "  background-color: #aedea7;\n",
              "  color: #000000;\n",
              "}\n",
              "#T_83455_row14_col1 {\n",
              "  background-color: #c4e8bd;\n",
              "  color: #000000;\n",
              "}\n",
              "#T_83455_row15_col1 {\n",
              "  background-color: #d9f0d3;\n",
              "  color: #000000;\n",
              "}\n",
              "#T_83455_row16_col1 {\n",
              "  background-color: #f1faee;\n",
              "  color: #000000;\n",
              "}\n",
              "#T_83455_row17_col1 {\n",
              "  background-color: #f5fbf2;\n",
              "  color: #000000;\n",
              "}\n",
              "#T_83455_row18_col1 {\n",
              "  background-color: #f6fcf4;\n",
              "  color: #000000;\n",
              "}\n",
              "#T_83455_row19_col1, #T_83455_row19_col2 {\n",
              "  background-color: #f7fcf5;\n",
              "  color: #000000;\n",
              "}\n",
              "</style>\n",
              "<table id=\"T_83455_\" class=\"dataframe\">\n",
              "  <thead>\n",
              "    <tr>\n",
              "      <th class=\"blank level0\" >&nbsp;</th>\n",
              "      <th class=\"col_heading level0 col0\" >player_name</th>\n",
              "      <th class=\"col_heading level0 col1\" >minutes_played</th>\n",
              "      <th class=\"col_heading level0 col2\" >match_played</th>\n",
              "    </tr>\n",
              "  </thead>\n",
              "  <tbody>\n",
              "    <tr>\n",
              "      <th id=\"T_83455_level0_row0\" class=\"row_heading level0 row0\" >0</th>\n",
              "      <td id=\"T_83455_row0_col0\" class=\"data row0 col0\" >Courtois</td>\n",
              "      <td id=\"T_83455_row0_col1\" class=\"data row0 col1\" >1230</td>\n",
              "      <td id=\"T_83455_row0_col2\" class=\"data row0 col2\" >13</td>\n",
              "    </tr>\n",
              "    <tr>\n",
              "      <th id=\"T_83455_level0_row1\" class=\"row_heading level0 row1\" >1</th>\n",
              "      <td id=\"T_83455_row1_col0\" class=\"data row1 col0\" >Vinícius Júnior</td>\n",
              "      <td id=\"T_83455_row1_col1\" class=\"data row1 col1\" >1199</td>\n",
              "      <td id=\"T_83455_row1_col2\" class=\"data row1 col2\" >13</td>\n",
              "    </tr>\n",
              "    <tr>\n",
              "      <th id=\"T_83455_level0_row2\" class=\"row_heading level0 row2\" >2</th>\n",
              "      <td id=\"T_83455_row2_col0\" class=\"data row2 col0\" >Alisson Becker</td>\n",
              "      <td id=\"T_83455_row2_col1\" class=\"data row2 col1\" >1170</td>\n",
              "      <td id=\"T_83455_row2_col2\" class=\"data row2 col2\" >13</td>\n",
              "    </tr>\n",
              "    <tr>\n",
              "      <th id=\"T_83455_level0_row3\" class=\"row_heading level0 row3\" >3</th>\n",
              "      <td id=\"T_83455_row3_col0\" class=\"data row3 col0\" >Benzema</td>\n",
              "      <td id=\"T_83455_row3_col1\" class=\"data row3 col1\" >1106</td>\n",
              "      <td id=\"T_83455_row3_col2\" class=\"data row3 col2\" >12</td>\n",
              "    </tr>\n",
              "    <tr>\n",
              "      <th id=\"T_83455_level0_row4\" class=\"row_heading level0 row4\" >4</th>\n",
              "      <td id=\"T_83455_row4_col0\" class=\"data row4 col0\" >Pau Torres</td>\n",
              "      <td id=\"T_83455_row4_col1\" class=\"data row4 col1\" >1080</td>\n",
              "      <td id=\"T_83455_row4_col2\" class=\"data row4 col2\" >12</td>\n",
              "    </tr>\n",
              "    <tr>\n",
              "      <th id=\"T_83455_level0_row5\" class=\"row_heading level0 row5\" >5</th>\n",
              "      <td id=\"T_83455_row5_col0\" class=\"data row5 col0\" >Rulli</td>\n",
              "      <td id=\"T_83455_row5_col1\" class=\"data row5 col1\" >1080</td>\n",
              "      <td id=\"T_83455_row5_col2\" class=\"data row5 col2\" >12</td>\n",
              "    </tr>\n",
              "    <tr>\n",
              "      <th id=\"T_83455_level0_row6\" class=\"row_heading level0 row6\" >6</th>\n",
              "      <td id=\"T_83455_row6_col0\" class=\"data row6 col0\" >Modrić</td>\n",
              "      <td id=\"T_83455_row6_col1\" class=\"data row6 col1\" >1077</td>\n",
              "      <td id=\"T_83455_row6_col2\" class=\"data row6 col2\" >13</td>\n",
              "    </tr>\n",
              "    <tr>\n",
              "      <th id=\"T_83455_level0_row7\" class=\"row_heading level0 row7\" >7</th>\n",
              "      <td id=\"T_83455_row7_col0\" class=\"data row7 col0\" >Éder Militão</td>\n",
              "      <td id=\"T_83455_row7_col1\" class=\"data row7 col1\" >1076</td>\n",
              "      <td id=\"T_83455_row7_col2\" class=\"data row7 col2\" >12</td>\n",
              "    </tr>\n",
              "    <tr>\n",
              "      <th id=\"T_83455_level0_row8\" class=\"row_heading level0 row8\" >8</th>\n",
              "      <td id=\"T_83455_row8_col0\" class=\"data row8 col0\" >Parejo</td>\n",
              "      <td id=\"T_83455_row8_col1\" class=\"data row8 col1\" >1055</td>\n",
              "      <td id=\"T_83455_row8_col2\" class=\"data row8 col2\" >12</td>\n",
              "    </tr>\n",
              "    <tr>\n",
              "      <th id=\"T_83455_level0_row9\" class=\"row_heading level0 row9\" >9</th>\n",
              "      <td id=\"T_83455_row9_col0\" class=\"data row9 col0\" >Capoue</td>\n",
              "      <td id=\"T_83455_row9_col1\" class=\"data row9 col1\" >1046</td>\n",
              "      <td id=\"T_83455_row9_col2\" class=\"data row9 col2\" >12</td>\n",
              "    </tr>\n",
              "    <tr>\n",
              "      <th id=\"T_83455_level0_row10\" class=\"row_heading level0 row10\" >10</th>\n",
              "      <td id=\"T_83455_row10_col0\" class=\"data row10 col0\" >Albiol</td>\n",
              "      <td id=\"T_83455_row10_col1\" class=\"data row10 col1\" >1045</td>\n",
              "      <td id=\"T_83455_row10_col2\" class=\"data row10 col2\" >12</td>\n",
              "    </tr>\n",
              "    <tr>\n",
              "      <th id=\"T_83455_level0_row11\" class=\"row_heading level0 row11\" >11</th>\n",
              "      <td id=\"T_83455_row11_col0\" class=\"data row11 col0\" >Alaba</td>\n",
              "      <td id=\"T_83455_row11_col1\" class=\"data row11 col1\" >1040</td>\n",
              "      <td id=\"T_83455_row11_col2\" class=\"data row11 col2\" >12</td>\n",
              "    </tr>\n",
              "    <tr>\n",
              "      <th id=\"T_83455_level0_row12\" class=\"row_heading level0 row12\" >12</th>\n",
              "      <td id=\"T_83455_row12_col0\" class=\"data row12 col0\" >Salah</td>\n",
              "      <td id=\"T_83455_row12_col1\" class=\"data row12 col1\" >1008</td>\n",
              "      <td id=\"T_83455_row12_col2\" class=\"data row12 col2\" >13</td>\n",
              "    </tr>\n",
              "    <tr>\n",
              "      <th id=\"T_83455_level0_row13\" class=\"row_heading level0 row13\" >13</th>\n",
              "      <td id=\"T_83455_row13_col0\" class=\"data row13 col0\" >Ederson</td>\n",
              "      <td id=\"T_83455_row13_col1\" class=\"data row13 col1\" >1003</td>\n",
              "      <td id=\"T_83455_row13_col2\" class=\"data row13 col2\" >11</td>\n",
              "    </tr>\n",
              "    <tr>\n",
              "      <th id=\"T_83455_level0_row14\" class=\"row_heading level0 row14\" >14</th>\n",
              "      <td id=\"T_83455_row14_col0\" class=\"data row14 col0\" >Mahrez</td>\n",
              "      <td id=\"T_83455_row14_col1\" class=\"data row14 col1\" >986</td>\n",
              "      <td id=\"T_83455_row14_col2\" class=\"data row14 col2\" >12</td>\n",
              "    </tr>\n",
              "    <tr>\n",
              "      <th id=\"T_83455_level0_row15\" class=\"row_heading level0 row15\" >15</th>\n",
              "      <td id=\"T_83455_row15_col0\" class=\"data row15 col0\" >Carvajal</td>\n",
              "      <td id=\"T_83455_row15_col1\" class=\"data row15 col1\" >959</td>\n",
              "      <td id=\"T_83455_row15_col2\" class=\"data row15 col2\" >11</td>\n",
              "    </tr>\n",
              "    <tr>\n",
              "      <th id=\"T_83455_level0_row16\" class=\"row_heading level0 row16\" >16</th>\n",
              "      <td id=\"T_83455_row16_col0\" class=\"data row16 col0\" >Casemiro</td>\n",
              "      <td id=\"T_83455_row16_col1\" class=\"data row16 col1\" >914</td>\n",
              "      <td id=\"T_83455_row16_col2\" class=\"data row16 col2\" >11</td>\n",
              "    </tr>\n",
              "    <tr>\n",
              "      <th id=\"T_83455_level0_row17\" class=\"row_heading level0 row17\" >17</th>\n",
              "      <td id=\"T_83455_row17_col0\" class=\"data row17 col0\" >Danjuma</td>\n",
              "      <td id=\"T_83455_row17_col1\" class=\"data row17 col1\" >906</td>\n",
              "      <td id=\"T_83455_row17_col2\" class=\"data row17 col2\" >11</td>\n",
              "    </tr>\n",
              "    <tr>\n",
              "      <th id=\"T_83455_level0_row18\" class=\"row_heading level0 row18\" >18</th>\n",
              "      <td id=\"T_83455_row18_col0\" class=\"data row18 col0\" >Kroos</td>\n",
              "      <td id=\"T_83455_row18_col1\" class=\"data row18 col1\" >902</td>\n",
              "      <td id=\"T_83455_row18_col2\" class=\"data row18 col2\" >12</td>\n",
              "    </tr>\n",
              "    <tr>\n",
              "      <th id=\"T_83455_level0_row19\" class=\"row_heading level0 row19\" >19</th>\n",
              "      <td id=\"T_83455_row19_col0\" class=\"data row19 col0\" >Oblak</td>\n",
              "      <td id=\"T_83455_row19_col1\" class=\"data row19 col1\" >900</td>\n",
              "      <td id=\"T_83455_row19_col2\" class=\"data row19 col2\" >10</td>\n",
              "    </tr>\n",
              "  </tbody>\n",
              "</table>\n"
            ]
          },
          "metadata": {},
          "execution_count": 39
        }
      ]
    },
    {
      "cell_type": "markdown",
      "source": [
        "**ATTACKING!**"
      ],
      "metadata": {
        "id": "GlCZmj6BMPmS"
      }
    },
    {
      "cell_type": "code",
      "source": [
        "dis[[\"player_name\",\"pass_accuracy\",\"pass_attempted\"]].sort_values([\"pass_attempted\"],ascending=False).reset_index(drop=True).head(20).style.background_gradient(\"Greens\")"
      ],
      "metadata": {
        "colab": {
          "base_uri": "https://localhost:8080/",
          "height": 676
        },
        "id": "gZZIptDyKP8G",
        "outputId": "953bebc2-b67d-43da-e5fd-e5a5fb8f1e38"
      },
      "execution_count": null,
      "outputs": [
        {
          "output_type": "execute_result",
          "data": {
            "text/plain": [
              "<pandas.io.formats.style.Styler at 0x7f862319d790>"
            ],
            "text/html": [
              "<style type=\"text/css\">\n",
              "#T_c2109_row0_col1 {\n",
              "  background-color: #127c39;\n",
              "  color: #f1f1f1;\n",
              "}\n",
              "#T_c2109_row0_col2, #T_c2109_row4_col1 {\n",
              "  background-color: #00441b;\n",
              "  color: #f1f1f1;\n",
              "}\n",
              "#T_c2109_row1_col1, #T_c2109_row1_col2 {\n",
              "  background-color: #004e1f;\n",
              "  color: #f1f1f1;\n",
              "}\n",
              "#T_c2109_row2_col1 {\n",
              "  background-color: #37a055;\n",
              "  color: #f1f1f1;\n",
              "}\n",
              "#T_c2109_row2_col2 {\n",
              "  background-color: #005723;\n",
              "  color: #f1f1f1;\n",
              "}\n",
              "#T_c2109_row3_col1, #T_c2109_row17_col1 {\n",
              "  background-color: #2f974e;\n",
              "  color: #f1f1f1;\n",
              "}\n",
              "#T_c2109_row3_col2 {\n",
              "  background-color: #248c46;\n",
              "  color: #f1f1f1;\n",
              "}\n",
              "#T_c2109_row4_col2 {\n",
              "  background-color: #55b567;\n",
              "  color: #f1f1f1;\n",
              "}\n",
              "#T_c2109_row5_col1 {\n",
              "  background-color: #3ca559;\n",
              "  color: #f1f1f1;\n",
              "}\n",
              "#T_c2109_row5_col2 {\n",
              "  background-color: #73c476;\n",
              "  color: #000000;\n",
              "}\n",
              "#T_c2109_row6_col1, #T_c2109_row19_col2 {\n",
              "  background-color: #f7fcf5;\n",
              "  color: #000000;\n",
              "}\n",
              "#T_c2109_row6_col2 {\n",
              "  background-color: #79c67a;\n",
              "  color: #000000;\n",
              "}\n",
              "#T_c2109_row7_col1 {\n",
              "  background-color: #309950;\n",
              "  color: #f1f1f1;\n",
              "}\n",
              "#T_c2109_row7_col2 {\n",
              "  background-color: #86cc85;\n",
              "  color: #000000;\n",
              "}\n",
              "#T_c2109_row8_col1 {\n",
              "  background-color: #005120;\n",
              "  color: #f1f1f1;\n",
              "}\n",
              "#T_c2109_row8_col2 {\n",
              "  background-color: #88ce87;\n",
              "  color: #000000;\n",
              "}\n",
              "#T_c2109_row9_col1 {\n",
              "  background-color: #62bb6d;\n",
              "  color: #f1f1f1;\n",
              "}\n",
              "#T_c2109_row9_col2, #T_c2109_row16_col1 {\n",
              "  background-color: #91d28e;\n",
              "  color: #000000;\n",
              "}\n",
              "#T_c2109_row10_col1 {\n",
              "  background-color: #289049;\n",
              "  color: #f1f1f1;\n",
              "}\n",
              "#T_c2109_row10_col2 {\n",
              "  background-color: #92d28f;\n",
              "  color: #000000;\n",
              "}\n",
              "#T_c2109_row11_col1 {\n",
              "  background-color: #bbe4b4;\n",
              "  color: #000000;\n",
              "}\n",
              "#T_c2109_row11_col2, #T_c2109_row12_col2 {\n",
              "  background-color: #a0d99b;\n",
              "  color: #000000;\n",
              "}\n",
              "#T_c2109_row12_col1 {\n",
              "  background-color: #0a7633;\n",
              "  color: #f1f1f1;\n",
              "}\n",
              "#T_c2109_row13_col1 {\n",
              "  background-color: #70c274;\n",
              "  color: #000000;\n",
              "}\n",
              "#T_c2109_row13_col2 {\n",
              "  background-color: #b1e0ab;\n",
              "  color: #000000;\n",
              "}\n",
              "#T_c2109_row14_col1 {\n",
              "  background-color: #ecf8e8;\n",
              "  color: #000000;\n",
              "}\n",
              "#T_c2109_row14_col2 {\n",
              "  background-color: #c3e7bc;\n",
              "  color: #000000;\n",
              "}\n",
              "#T_c2109_row15_col1, #T_c2109_row19_col1 {\n",
              "  background-color: #006729;\n",
              "  color: #f1f1f1;\n",
              "}\n",
              "#T_c2109_row15_col2 {\n",
              "  background-color: #d9f0d3;\n",
              "  color: #000000;\n",
              "}\n",
              "#T_c2109_row16_col2 {\n",
              "  background-color: #ddf2d8;\n",
              "  color: #000000;\n",
              "}\n",
              "#T_c2109_row17_col2 {\n",
              "  background-color: #e4f5df;\n",
              "  color: #000000;\n",
              "}\n",
              "#T_c2109_row18_col1 {\n",
              "  background-color: #75c477;\n",
              "  color: #000000;\n",
              "}\n",
              "#T_c2109_row18_col2 {\n",
              "  background-color: #eff9ec;\n",
              "  color: #000000;\n",
              "}\n",
              "</style>\n",
              "<table id=\"T_c2109_\" class=\"dataframe\">\n",
              "  <thead>\n",
              "    <tr>\n",
              "      <th class=\"blank level0\" >&nbsp;</th>\n",
              "      <th class=\"col_heading level0 col0\" >player_name</th>\n",
              "      <th class=\"col_heading level0 col1\" >pass_accuracy</th>\n",
              "      <th class=\"col_heading level0 col2\" >pass_attempted</th>\n",
              "    </tr>\n",
              "  </thead>\n",
              "  <tbody>\n",
              "    <tr>\n",
              "      <th id=\"T_c2109_level0_row0\" class=\"row_heading level0 row0\" >0</th>\n",
              "      <td id=\"T_c2109_row0_col0\" class=\"data row0 col0\" >Kroos</td>\n",
              "      <td id=\"T_c2109_row0_col1\" class=\"data row0 col1\" >91.900000</td>\n",
              "      <td id=\"T_c2109_row0_col2\" class=\"data row0 col2\" >814</td>\n",
              "    </tr>\n",
              "    <tr>\n",
              "      <th id=\"T_c2109_level0_row1\" class=\"row_heading level0 row1\" >1</th>\n",
              "      <td id=\"T_c2109_row1_col0\" class=\"data row1 col0\" >Rodri</td>\n",
              "      <td id=\"T_c2109_row1_col1\" class=\"data row1 col1\" >94.200000</td>\n",
              "      <td id=\"T_c2109_row1_col2\" class=\"data row1 col2\" >806</td>\n",
              "    </tr>\n",
              "    <tr>\n",
              "      <th id=\"T_c2109_level0_row2\" class=\"row_heading level0 row2\" >2</th>\n",
              "      <td id=\"T_c2109_row2_col0\" class=\"data row2 col0\" >Modrić</td>\n",
              "      <td id=\"T_c2109_row2_col1\" class=\"data row2 col1\" >89.800000</td>\n",
              "      <td id=\"T_c2109_row2_col2\" class=\"data row2 col2\" >799</td>\n",
              "    </tr>\n",
              "    <tr>\n",
              "      <th id=\"T_c2109_level0_row3\" class=\"row_heading level0 row3\" >3</th>\n",
              "      <td id=\"T_c2109_row3_col0\" class=\"data row3 col0\" >Rüdiger</td>\n",
              "      <td id=\"T_c2109_row3_col1\" class=\"data row3 col1\" >90.300000</td>\n",
              "      <td id=\"T_c2109_row3_col2\" class=\"data row3 col2\" >750</td>\n",
              "    </tr>\n",
              "    <tr>\n",
              "      <th id=\"T_c2109_level0_row4\" class=\"row_heading level0 row4\" >4</th>\n",
              "      <td id=\"T_c2109_row4_col0\" class=\"data row4 col0\" >Laporte</td>\n",
              "      <td id=\"T_c2109_row4_col1\" class=\"data row4 col1\" >94.700000</td>\n",
              "      <td id=\"T_c2109_row4_col2\" class=\"data row4 col2\" >707</td>\n",
              "    </tr>\n",
              "    <tr>\n",
              "      <th id=\"T_c2109_level0_row5\" class=\"row_heading level0 row5\" >5</th>\n",
              "      <td id=\"T_c2109_row5_col0\" class=\"data row5 col0\" >Kimmich</td>\n",
              "      <td id=\"T_c2109_row5_col1\" class=\"data row5 col1\" >89.500000</td>\n",
              "      <td id=\"T_c2109_row5_col2\" class=\"data row5 col2\" >688</td>\n",
              "    </tr>\n",
              "    <tr>\n",
              "      <th id=\"T_c2109_level0_row6\" class=\"row_heading level0 row6\" >6</th>\n",
              "      <td id=\"T_c2109_row6_col0\" class=\"data row6 col0\" >Alexander-Arnold</td>\n",
              "      <td id=\"T_c2109_row6_col1\" class=\"data row6 col1\" >80.000000</td>\n",
              "      <td id=\"T_c2109_row6_col2\" class=\"data row6 col2\" >685</td>\n",
              "    </tr>\n",
              "    <tr>\n",
              "      <th id=\"T_c2109_level0_row7\" class=\"row_heading level0 row7\" >7</th>\n",
              "      <td id=\"T_c2109_row7_col0\" class=\"data row7 col0\" >Pavard</td>\n",
              "      <td id=\"T_c2109_row7_col1\" class=\"data row7 col1\" >90.200000</td>\n",
              "      <td id=\"T_c2109_row7_col2\" class=\"data row7 col2\" >676</td>\n",
              "    </tr>\n",
              "    <tr>\n",
              "      <th id=\"T_c2109_level0_row8\" class=\"row_heading level0 row8\" >8</th>\n",
              "      <td id=\"T_c2109_row8_col0\" class=\"data row8 col0\" >Martínez</td>\n",
              "      <td id=\"T_c2109_row8_col1\" class=\"data row8 col1\" >94.100000</td>\n",
              "      <td id=\"T_c2109_row8_col2\" class=\"data row8 col2\" >674</td>\n",
              "    </tr>\n",
              "    <tr>\n",
              "      <th id=\"T_c2109_level0_row9\" class=\"row_heading level0 row9\" >9</th>\n",
              "      <td id=\"T_c2109_row9_col0\" class=\"data row9 col0\" >João Cancelo</td>\n",
              "      <td id=\"T_c2109_row9_col1\" class=\"data row9 col1\" >88.000000</td>\n",
              "      <td id=\"T_c2109_row9_col2\" class=\"data row9 col2\" >668</td>\n",
              "    </tr>\n",
              "    <tr>\n",
              "      <th id=\"T_c2109_level0_row10\" class=\"row_heading level0 row10\" >10</th>\n",
              "      <td id=\"T_c2109_row10_col0\" class=\"data row10 col0\" >Van Dijk</td>\n",
              "      <td id=\"T_c2109_row10_col1\" class=\"data row10 col1\" >90.700000</td>\n",
              "      <td id=\"T_c2109_row10_col2\" class=\"data row10 col2\" >667</td>\n",
              "    </tr>\n",
              "    <tr>\n",
              "      <th id=\"T_c2109_level0_row11\" class=\"row_heading level0 row11\" >11</th>\n",
              "      <td id=\"T_c2109_row11_col0\" class=\"data row11 col0\" >Parejo</td>\n",
              "      <td id=\"T_c2109_row11_col1\" class=\"data row11 col1\" >84.300000</td>\n",
              "      <td id=\"T_c2109_row11_col2\" class=\"data row11 col2\" >657</td>\n",
              "    </tr>\n",
              "    <tr>\n",
              "      <th id=\"T_c2109_level0_row12\" class=\"row_heading level0 row12\" >12</th>\n",
              "      <td id=\"T_c2109_row12_col0\" class=\"data row12 col0\" >Alaba</td>\n",
              "      <td id=\"T_c2109_row12_col1\" class=\"data row12 col1\" >92.300000</td>\n",
              "      <td id=\"T_c2109_row12_col2\" class=\"data row12 col2\" >657</td>\n",
              "    </tr>\n",
              "    <tr>\n",
              "      <th id=\"T_c2109_level0_row13\" class=\"row_heading level0 row13\" >13</th>\n",
              "      <td id=\"T_c2109_row13_col0\" class=\"data row13 col0\" >Éder Militão</td>\n",
              "      <td id=\"T_c2109_row13_col1\" class=\"data row13 col1\" >87.500000</td>\n",
              "      <td id=\"T_c2109_row13_col2\" class=\"data row13 col2\" >643</td>\n",
              "    </tr>\n",
              "    <tr>\n",
              "      <th id=\"T_c2109_level0_row14\" class=\"row_heading level0 row14\" >14</th>\n",
              "      <td id=\"T_c2109_row14_col0\" class=\"data row14 col0\" >Robertson</td>\n",
              "      <td id=\"T_c2109_row14_col1\" class=\"data row14 col1\" >81.100000</td>\n",
              "      <td id=\"T_c2109_row14_col2\" class=\"data row14 col2\" >628</td>\n",
              "    </tr>\n",
              "    <tr>\n",
              "      <th id=\"T_c2109_level0_row15\" class=\"row_heading level0 row15\" >15</th>\n",
              "      <td id=\"T_c2109_row15_col0\" class=\"data row15 col0\" >Thiago Silva</td>\n",
              "      <td id=\"T_c2109_row15_col1\" class=\"data row15 col1\" >93.100000</td>\n",
              "      <td id=\"T_c2109_row15_col2\" class=\"data row15 col2\" >607</td>\n",
              "    </tr>\n",
              "    <tr>\n",
              "      <th id=\"T_c2109_level0_row16\" class=\"row_heading level0 row16\" >16</th>\n",
              "      <td id=\"T_c2109_row16_col0\" class=\"data row16 col0\" >Henderson</td>\n",
              "      <td id=\"T_c2109_row16_col1\" class=\"data row16 col1\" >86.200000</td>\n",
              "      <td id=\"T_c2109_row16_col2\" class=\"data row16 col2\" >602</td>\n",
              "    </tr>\n",
              "    <tr>\n",
              "      <th id=\"T_c2109_level0_row17\" class=\"row_heading level0 row17\" >17</th>\n",
              "      <td id=\"T_c2109_row17_col0\" class=\"data row17 col0\" >Fabinho</td>\n",
              "      <td id=\"T_c2109_row17_col1\" class=\"data row17 col1\" >90.300000</td>\n",
              "      <td id=\"T_c2109_row17_col2\" class=\"data row17 col2\" >595</td>\n",
              "    </tr>\n",
              "    <tr>\n",
              "      <th id=\"T_c2109_level0_row18\" class=\"row_heading level0 row18\" >18</th>\n",
              "      <td id=\"T_c2109_row18_col0\" class=\"data row18 col0\" >Carvajal</td>\n",
              "      <td id=\"T_c2109_row18_col1\" class=\"data row18 col1\" >87.300000</td>\n",
              "      <td id=\"T_c2109_row18_col2\" class=\"data row18 col2\" >576</td>\n",
              "    </tr>\n",
              "    <tr>\n",
              "      <th id=\"T_c2109_level0_row19\" class=\"row_heading level0 row19\" >19</th>\n",
              "      <td id=\"T_c2109_row19_col0\" class=\"data row19 col0\" >Upamecano</td>\n",
              "      <td id=\"T_c2109_row19_col1\" class=\"data row19 col1\" >93.100000</td>\n",
              "      <td id=\"T_c2109_row19_col2\" class=\"data row19 col2\" >562</td>\n",
              "    </tr>\n",
              "  </tbody>\n",
              "</table>\n"
            ]
          },
          "metadata": {},
          "execution_count": 40
        }
      ]
    },
    {
      "cell_type": "markdown",
      "source": [
        "**ATTEMPTS!**"
      ],
      "metadata": {
        "id": "TToLhY6yMp1E"
      }
    },
    {
      "cell_type": "code",
      "source": [
        "atm['on_target_rate'] = (atm['on_target']) / (atm.total_attempts)\n",
        "atm[[\"player_name\",\"total_attempts\",\"on_target_rate\"]].sort_values([\"total_attempts\"],ascending=False).reset_index(drop=True).head(20).style.background_gradient(\"Greens\")"
      ],
      "metadata": {
        "colab": {
          "base_uri": "https://localhost:8080/",
          "height": 676
        },
        "id": "JJPQ90ZOMU8g",
        "outputId": "2988700c-c237-412e-f025-b020591ed2bb"
      },
      "execution_count": null,
      "outputs": [
        {
          "output_type": "execute_result",
          "data": {
            "text/plain": [
              "<pandas.io.formats.style.Styler at 0x7f86231f3310>"
            ],
            "text/html": [
              "<style type=\"text/css\">\n",
              "#T_255b6_row0_col1, #T_255b6_row16_col2 {\n",
              "  background-color: #00441b;\n",
              "  color: #f1f1f1;\n",
              "}\n",
              "#T_255b6_row0_col2 {\n",
              "  background-color: #2f984f;\n",
              "  color: #f1f1f1;\n",
              "}\n",
              "#T_255b6_row1_col1 {\n",
              "  background-color: #016e2d;\n",
              "  color: #f1f1f1;\n",
              "}\n",
              "#T_255b6_row1_col2 {\n",
              "  background-color: #289049;\n",
              "  color: #f1f1f1;\n",
              "}\n",
              "#T_255b6_row2_col1 {\n",
              "  background-color: #3ba458;\n",
              "  color: #f1f1f1;\n",
              "}\n",
              "#T_255b6_row2_col2 {\n",
              "  background-color: #3fa95c;\n",
              "  color: #f1f1f1;\n",
              "}\n",
              "#T_255b6_row3_col1 {\n",
              "  background-color: #7cc87c;\n",
              "  color: #000000;\n",
              "}\n",
              "#T_255b6_row3_col2 {\n",
              "  background-color: #9ed798;\n",
              "  color: #000000;\n",
              "}\n",
              "#T_255b6_row4_col1 {\n",
              "  background-color: #9bd696;\n",
              "  color: #000000;\n",
              "}\n",
              "#T_255b6_row4_col2 {\n",
              "  background-color: #004e1f;\n",
              "  color: #f1f1f1;\n",
              "}\n",
              "#T_255b6_row5_col1 {\n",
              "  background-color: #b7e2b1;\n",
              "  color: #000000;\n",
              "}\n",
              "#T_255b6_row5_col2 {\n",
              "  background-color: #aadda4;\n",
              "  color: #000000;\n",
              "}\n",
              "#T_255b6_row6_col1 {\n",
              "  background-color: #c4e8bd;\n",
              "  color: #000000;\n",
              "}\n",
              "#T_255b6_row6_col2, #T_255b6_row18_col1, #T_255b6_row19_col1 {\n",
              "  background-color: #f7fcf5;\n",
              "  color: #000000;\n",
              "}\n",
              "#T_255b6_row7_col1, #T_255b6_row8_col1 {\n",
              "  background-color: #cfecc9;\n",
              "  color: #000000;\n",
              "}\n",
              "#T_255b6_row7_col2 {\n",
              "  background-color: #006027;\n",
              "  color: #f1f1f1;\n",
              "}\n",
              "#T_255b6_row8_col2 {\n",
              "  background-color: #e5f5e1;\n",
              "  color: #000000;\n",
              "}\n",
              "#T_255b6_row9_col1, #T_255b6_row10_col1, #T_255b6_row11_col1 {\n",
              "  background-color: #daf0d4;\n",
              "  color: #000000;\n",
              "}\n",
              "#T_255b6_row9_col2 {\n",
              "  background-color: #81ca81;\n",
              "  color: #000000;\n",
              "}\n",
              "#T_255b6_row10_col2, #T_255b6_row11_col2 {\n",
              "  background-color: #a7dba0;\n",
              "  color: #000000;\n",
              "}\n",
              "#T_255b6_row12_col1, #T_255b6_row13_col1, #T_255b6_row14_col1 {\n",
              "  background-color: #e4f5df;\n",
              "  color: #000000;\n",
              "}\n",
              "#T_255b6_row12_col2 {\n",
              "  background-color: #45ad5f;\n",
              "  color: #f1f1f1;\n",
              "}\n",
              "#T_255b6_row13_col2 {\n",
              "  background-color: #d7efd1;\n",
              "  color: #000000;\n",
              "}\n",
              "#T_255b6_row14_col2 {\n",
              "  background-color: #0d7836;\n",
              "  color: #f1f1f1;\n",
              "}\n",
              "#T_255b6_row15_col1, #T_255b6_row16_col1 {\n",
              "  background-color: #ebf7e7;\n",
              "  color: #000000;\n",
              "}\n",
              "#T_255b6_row15_col2 {\n",
              "  background-color: #e7f6e3;\n",
              "  color: #000000;\n",
              "}\n",
              "#T_255b6_row17_col1 {\n",
              "  background-color: #f1faee;\n",
              "  color: #000000;\n",
              "}\n",
              "#T_255b6_row17_col2 {\n",
              "  background-color: #76c578;\n",
              "  color: #000000;\n",
              "}\n",
              "#T_255b6_row18_col2 {\n",
              "  background-color: #18823d;\n",
              "  color: #f1f1f1;\n",
              "}\n",
              "#T_255b6_row19_col2 {\n",
              "  background-color: #90d18d;\n",
              "  color: #000000;\n",
              "}\n",
              "</style>\n",
              "<table id=\"T_255b6_\" class=\"dataframe\">\n",
              "  <thead>\n",
              "    <tr>\n",
              "      <th class=\"blank level0\" >&nbsp;</th>\n",
              "      <th class=\"col_heading level0 col0\" >player_name</th>\n",
              "      <th class=\"col_heading level0 col1\" >total_attempts</th>\n",
              "      <th class=\"col_heading level0 col2\" >on_target_rate</th>\n",
              "    </tr>\n",
              "  </thead>\n",
              "  <tbody>\n",
              "    <tr>\n",
              "      <th id=\"T_255b6_level0_row0\" class=\"row_heading level0 row0\" >0</th>\n",
              "      <td id=\"T_255b6_row0_col0\" class=\"data row0 col0\" >Benzema</td>\n",
              "      <td id=\"T_255b6_row0_col1\" class=\"data row0 col1\" >45</td>\n",
              "      <td id=\"T_255b6_row0_col2\" class=\"data row0 col2\" >0.511111</td>\n",
              "    </tr>\n",
              "    <tr>\n",
              "      <th id=\"T_255b6_level0_row1\" class=\"row_heading level0 row1\" >1</th>\n",
              "      <td id=\"T_255b6_row1_col0\" class=\"data row1 col0\" >Salah</td>\n",
              "      <td id=\"T_255b6_row1_col1\" class=\"data row1 col1\" >42</td>\n",
              "      <td id=\"T_255b6_row1_col2\" class=\"data row1 col2\" >0.523810</td>\n",
              "    </tr>\n",
              "    <tr>\n",
              "      <th id=\"T_255b6_level0_row2\" class=\"row_heading level0 row2\" >2</th>\n",
              "      <td id=\"T_255b6_row2_col0\" class=\"data row2 col0\" >Mahrez</td>\n",
              "      <td id=\"T_255b6_row2_col1\" class=\"data row2 col1\" >37</td>\n",
              "      <td id=\"T_255b6_row2_col2\" class=\"data row2 col2\" >0.486486</td>\n",
              "    </tr>\n",
              "    <tr>\n",
              "      <th id=\"T_255b6_level0_row3\" class=\"row_heading level0 row3\" >3</th>\n",
              "      <td id=\"T_255b6_row3_col0\" class=\"data row3 col0\" >Sané</td>\n",
              "      <td id=\"T_255b6_row3_col1\" class=\"data row3 col1\" >33</td>\n",
              "      <td id=\"T_255b6_row3_col2\" class=\"data row3 col2\" >0.393939</td>\n",
              "    </tr>\n",
              "    <tr>\n",
              "      <th id=\"T_255b6_level0_row4\" class=\"row_heading level0 row4\" >4</th>\n",
              "      <td id=\"T_255b6_row4_col0\" class=\"data row4 col0\" >Lewandowski</td>\n",
              "      <td id=\"T_255b6_row4_col1\" class=\"data row4 col1\" >31</td>\n",
              "      <td id=\"T_255b6_row4_col2\" class=\"data row4 col2\" >0.612903</td>\n",
              "    </tr>\n",
              "    <tr>\n",
              "      <th id=\"T_255b6_level0_row5\" class=\"row_heading level0 row5\" >5</th>\n",
              "      <td id=\"T_255b6_row5_col0\" class=\"data row5 col0\" >Luis Díaz</td>\n",
              "      <td id=\"T_255b6_row5_col1\" class=\"data row5 col1\" >29</td>\n",
              "      <td id=\"T_255b6_row5_col2\" class=\"data row5 col2\" >0.379310</td>\n",
              "    </tr>\n",
              "    <tr>\n",
              "      <th id=\"T_255b6_level0_row6\" class=\"row_heading level0 row6\" >6</th>\n",
              "      <td id=\"T_255b6_row6_col0\" class=\"data row6 col0\" >Martínez</td>\n",
              "      <td id=\"T_255b6_row6_col1\" class=\"data row6 col1\" >28</td>\n",
              "      <td id=\"T_255b6_row6_col2\" class=\"data row6 col2\" >0.250000</td>\n",
              "    </tr>\n",
              "    <tr>\n",
              "      <th id=\"T_255b6_level0_row7\" class=\"row_heading level0 row7\" >7</th>\n",
              "      <td id=\"T_255b6_row7_col0\" class=\"data row7 col0\" >Mbappé</td>\n",
              "      <td id=\"T_255b6_row7_col1\" class=\"data row7 col1\" >27</td>\n",
              "      <td id=\"T_255b6_row7_col2\" class=\"data row7 col2\" >0.592593</td>\n",
              "    </tr>\n",
              "    <tr>\n",
              "      <th id=\"T_255b6_level0_row8\" class=\"row_heading level0 row8\" >8</th>\n",
              "      <td id=\"T_255b6_row8_col0\" class=\"data row8 col0\" >Vinícius Júnior</td>\n",
              "      <td id=\"T_255b6_row8_col1\" class=\"data row8 col1\" >27</td>\n",
              "      <td id=\"T_255b6_row8_col2\" class=\"data row8 col2\" >0.296296</td>\n",
              "    </tr>\n",
              "    <tr>\n",
              "      <th id=\"T_255b6_level0_row9\" class=\"row_heading level0 row9\" >9</th>\n",
              "      <td id=\"T_255b6_row9_col0\" class=\"data row9 col0\" >Havertz</td>\n",
              "      <td id=\"T_255b6_row9_col1\" class=\"data row9 col1\" >26</td>\n",
              "      <td id=\"T_255b6_row9_col2\" class=\"data row9 col2\" >0.423077</td>\n",
              "    </tr>\n",
              "    <tr>\n",
              "      <th id=\"T_255b6_level0_row10\" class=\"row_heading level0 row10\" >10</th>\n",
              "      <td id=\"T_255b6_row10_col0\" class=\"data row10 col0\" >Antony</td>\n",
              "      <td id=\"T_255b6_row10_col1\" class=\"data row10 col1\" >26</td>\n",
              "      <td id=\"T_255b6_row10_col2\" class=\"data row10 col2\" >0.384615</td>\n",
              "    </tr>\n",
              "    <tr>\n",
              "      <th id=\"T_255b6_level0_row11\" class=\"row_heading level0 row11\" >11</th>\n",
              "      <td id=\"T_255b6_row11_col0\" class=\"data row11 col0\" >Messi</td>\n",
              "      <td id=\"T_255b6_row11_col1\" class=\"data row11 col1\" >26</td>\n",
              "      <td id=\"T_255b6_row11_col2\" class=\"data row11 col2\" >0.384615</td>\n",
              "    </tr>\n",
              "    <tr>\n",
              "      <th id=\"T_255b6_level0_row12\" class=\"row_heading level0 row12\" >12</th>\n",
              "      <td id=\"T_255b6_row12_col0\" class=\"data row12 col0\" >Džeko</td>\n",
              "      <td id=\"T_255b6_row12_col1\" class=\"data row12 col1\" >25</td>\n",
              "      <td id=\"T_255b6_row12_col2\" class=\"data row12 col2\" >0.480000</td>\n",
              "    </tr>\n",
              "    <tr>\n",
              "      <th id=\"T_255b6_level0_row13\" class=\"row_heading level0 row13\" >13</th>\n",
              "      <td id=\"T_255b6_row13_col0\" class=\"data row13 col0\" >Burak Yilmaz</td>\n",
              "      <td id=\"T_255b6_row13_col1\" class=\"data row13 col1\" >25</td>\n",
              "      <td id=\"T_255b6_row13_col2\" class=\"data row13 col2\" >0.320000</td>\n",
              "    </tr>\n",
              "    <tr>\n",
              "      <th id=\"T_255b6_level0_row14\" class=\"row_heading level0 row14\" >14</th>\n",
              "      <td id=\"T_255b6_row14_col0\" class=\"data row14 col0\" >Danjuma</td>\n",
              "      <td id=\"T_255b6_row14_col1\" class=\"data row14 col1\" >25</td>\n",
              "      <td id=\"T_255b6_row14_col2\" class=\"data row14 col2\" >0.560000</td>\n",
              "    </tr>\n",
              "    <tr>\n",
              "      <th id=\"T_255b6_level0_row15\" class=\"row_heading level0 row15\" >15</th>\n",
              "      <td id=\"T_255b6_row15_col0\" class=\"data row15 col0\" >De Bruyne</td>\n",
              "      <td id=\"T_255b6_row15_col1\" class=\"data row15 col1\" >24</td>\n",
              "      <td id=\"T_255b6_row15_col2\" class=\"data row15 col2\" >0.291667</td>\n",
              "    </tr>\n",
              "    <tr>\n",
              "      <th id=\"T_255b6_level0_row16\" class=\"row_heading level0 row16\" >16</th>\n",
              "      <td id=\"T_255b6_row16_col0\" class=\"data row16 col0\" >Haller</td>\n",
              "      <td id=\"T_255b6_row16_col1\" class=\"data row16 col1\" >24</td>\n",
              "      <td id=\"T_255b6_row16_col2\" class=\"data row16 col2\" >0.625000</td>\n",
              "    </tr>\n",
              "    <tr>\n",
              "      <th id=\"T_255b6_level0_row17\" class=\"row_heading level0 row17\" >17</th>\n",
              "      <td id=\"T_255b6_row17_col0\" class=\"data row17 col0\" >Rodrygo</td>\n",
              "      <td id=\"T_255b6_row17_col1\" class=\"data row17 col1\" >23</td>\n",
              "      <td id=\"T_255b6_row17_col2\" class=\"data row17 col2\" >0.434783</td>\n",
              "    </tr>\n",
              "    <tr>\n",
              "      <th id=\"T_255b6_level0_row18\" class=\"row_heading level0 row18\" >18</th>\n",
              "      <td id=\"T_255b6_row18_col0\" class=\"data row18 col0\" >Ronaldo</td>\n",
              "      <td id=\"T_255b6_row18_col1\" class=\"data row18 col1\" >22</td>\n",
              "      <td id=\"T_255b6_row18_col2\" class=\"data row18 col2\" >0.545455</td>\n",
              "    </tr>\n",
              "    <tr>\n",
              "      <th id=\"T_255b6_level0_row19\" class=\"row_heading level0 row19\" >19</th>\n",
              "      <td id=\"T_255b6_row19_col0\" class=\"data row19 col0\" >Foden</td>\n",
              "      <td id=\"T_255b6_row19_col1\" class=\"data row19 col1\" >22</td>\n",
              "      <td id=\"T_255b6_row19_col2\" class=\"data row19 col2\" >0.409091</td>\n",
              "    </tr>\n",
              "  </tbody>\n",
              "</table>\n"
            ]
          },
          "metadata": {},
          "execution_count": 41
        }
      ]
    },
    {
      "cell_type": "code",
      "source": [
        "ks.head()"
      ],
      "metadata": {
        "colab": {
          "base_uri": "https://localhost:8080/",
          "height": 206
        },
        "id": "ofTlMukQRRg1",
        "outputId": "cfe9471e-b16b-47c1-dcf6-cf9579b0bf87"
      },
      "execution_count": null,
      "outputs": [
        {
          "output_type": "execute_result",
          "data": {
            "text/plain": [
              "       player_name         club    position  minutes_played  match_played  \\\n",
              "0         Courtois  Real Madrid  Goalkeeper            1230            13   \n",
              "1  Vinícius Júnior  Real Madrid     Forward            1199            13   \n",
              "2          Benzema  Real Madrid     Forward            1106            12   \n",
              "3           Modrić  Real Madrid  Midfielder            1077            13   \n",
              "4     Éder Militão  Real Madrid    Defender            1076            12   \n",
              "\n",
              "   goals  assists distance_covered  \n",
              "0      0        0             64.2  \n",
              "1      4        6            133.0  \n",
              "2     15        1            121.5  \n",
              "3      0        4            124.5  \n",
              "4      0        0            110.4  "
            ],
            "text/html": [
              "\n",
              "  <div id=\"df-cf50f621-6c99-41b9-964a-1f9f3bc1acaa\">\n",
              "    <div class=\"colab-df-container\">\n",
              "      <div>\n",
              "<style scoped>\n",
              "    .dataframe tbody tr th:only-of-type {\n",
              "        vertical-align: middle;\n",
              "    }\n",
              "\n",
              "    .dataframe tbody tr th {\n",
              "        vertical-align: top;\n",
              "    }\n",
              "\n",
              "    .dataframe thead th {\n",
              "        text-align: right;\n",
              "    }\n",
              "</style>\n",
              "<table border=\"1\" class=\"dataframe\">\n",
              "  <thead>\n",
              "    <tr style=\"text-align: right;\">\n",
              "      <th></th>\n",
              "      <th>player_name</th>\n",
              "      <th>club</th>\n",
              "      <th>position</th>\n",
              "      <th>minutes_played</th>\n",
              "      <th>match_played</th>\n",
              "      <th>goals</th>\n",
              "      <th>assists</th>\n",
              "      <th>distance_covered</th>\n",
              "    </tr>\n",
              "  </thead>\n",
              "  <tbody>\n",
              "    <tr>\n",
              "      <th>0</th>\n",
              "      <td>Courtois</td>\n",
              "      <td>Real Madrid</td>\n",
              "      <td>Goalkeeper</td>\n",
              "      <td>1230</td>\n",
              "      <td>13</td>\n",
              "      <td>0</td>\n",
              "      <td>0</td>\n",
              "      <td>64.2</td>\n",
              "    </tr>\n",
              "    <tr>\n",
              "      <th>1</th>\n",
              "      <td>Vinícius Júnior</td>\n",
              "      <td>Real Madrid</td>\n",
              "      <td>Forward</td>\n",
              "      <td>1199</td>\n",
              "      <td>13</td>\n",
              "      <td>4</td>\n",
              "      <td>6</td>\n",
              "      <td>133.0</td>\n",
              "    </tr>\n",
              "    <tr>\n",
              "      <th>2</th>\n",
              "      <td>Benzema</td>\n",
              "      <td>Real Madrid</td>\n",
              "      <td>Forward</td>\n",
              "      <td>1106</td>\n",
              "      <td>12</td>\n",
              "      <td>15</td>\n",
              "      <td>1</td>\n",
              "      <td>121.5</td>\n",
              "    </tr>\n",
              "    <tr>\n",
              "      <th>3</th>\n",
              "      <td>Modrić</td>\n",
              "      <td>Real Madrid</td>\n",
              "      <td>Midfielder</td>\n",
              "      <td>1077</td>\n",
              "      <td>13</td>\n",
              "      <td>0</td>\n",
              "      <td>4</td>\n",
              "      <td>124.5</td>\n",
              "    </tr>\n",
              "    <tr>\n",
              "      <th>4</th>\n",
              "      <td>Éder Militão</td>\n",
              "      <td>Real Madrid</td>\n",
              "      <td>Defender</td>\n",
              "      <td>1076</td>\n",
              "      <td>12</td>\n",
              "      <td>0</td>\n",
              "      <td>0</td>\n",
              "      <td>110.4</td>\n",
              "    </tr>\n",
              "  </tbody>\n",
              "</table>\n",
              "</div>\n",
              "      <button class=\"colab-df-convert\" onclick=\"convertToInteractive('df-cf50f621-6c99-41b9-964a-1f9f3bc1acaa')\"\n",
              "              title=\"Convert this dataframe to an interactive table.\"\n",
              "              style=\"display:none;\">\n",
              "        \n",
              "  <svg xmlns=\"http://www.w3.org/2000/svg\" height=\"24px\"viewBox=\"0 0 24 24\"\n",
              "       width=\"24px\">\n",
              "    <path d=\"M0 0h24v24H0V0z\" fill=\"none\"/>\n",
              "    <path d=\"M18.56 5.44l.94 2.06.94-2.06 2.06-.94-2.06-.94-.94-2.06-.94 2.06-2.06.94zm-11 1L8.5 8.5l.94-2.06 2.06-.94-2.06-.94L8.5 2.5l-.94 2.06-2.06.94zm10 10l.94 2.06.94-2.06 2.06-.94-2.06-.94-.94-2.06-.94 2.06-2.06.94z\"/><path d=\"M17.41 7.96l-1.37-1.37c-.4-.4-.92-.59-1.43-.59-.52 0-1.04.2-1.43.59L10.3 9.45l-7.72 7.72c-.78.78-.78 2.05 0 2.83L4 21.41c.39.39.9.59 1.41.59.51 0 1.02-.2 1.41-.59l7.78-7.78 2.81-2.81c.8-.78.8-2.07 0-2.86zM5.41 20L4 18.59l7.72-7.72 1.47 1.35L5.41 20z\"/>\n",
              "  </svg>\n",
              "      </button>\n",
              "      \n",
              "  <style>\n",
              "    .colab-df-container {\n",
              "      display:flex;\n",
              "      flex-wrap:wrap;\n",
              "      gap: 12px;\n",
              "    }\n",
              "\n",
              "    .colab-df-convert {\n",
              "      background-color: #E8F0FE;\n",
              "      border: none;\n",
              "      border-radius: 50%;\n",
              "      cursor: pointer;\n",
              "      display: none;\n",
              "      fill: #1967D2;\n",
              "      height: 32px;\n",
              "      padding: 0 0 0 0;\n",
              "      width: 32px;\n",
              "    }\n",
              "\n",
              "    .colab-df-convert:hover {\n",
              "      background-color: #E2EBFA;\n",
              "      box-shadow: 0px 1px 2px rgba(60, 64, 67, 0.3), 0px 1px 3px 1px rgba(60, 64, 67, 0.15);\n",
              "      fill: #174EA6;\n",
              "    }\n",
              "\n",
              "    [theme=dark] .colab-df-convert {\n",
              "      background-color: #3B4455;\n",
              "      fill: #D2E3FC;\n",
              "    }\n",
              "\n",
              "    [theme=dark] .colab-df-convert:hover {\n",
              "      background-color: #434B5C;\n",
              "      box-shadow: 0px 1px 3px 1px rgba(0, 0, 0, 0.15);\n",
              "      filter: drop-shadow(0px 1px 2px rgba(0, 0, 0, 0.3));\n",
              "      fill: #FFFFFF;\n",
              "    }\n",
              "  </style>\n",
              "\n",
              "      <script>\n",
              "        const buttonEl =\n",
              "          document.querySelector('#df-cf50f621-6c99-41b9-964a-1f9f3bc1acaa button.colab-df-convert');\n",
              "        buttonEl.style.display =\n",
              "          google.colab.kernel.accessAllowed ? 'block' : 'none';\n",
              "\n",
              "        async function convertToInteractive(key) {\n",
              "          const element = document.querySelector('#df-cf50f621-6c99-41b9-964a-1f9f3bc1acaa');\n",
              "          const dataTable =\n",
              "            await google.colab.kernel.invokeFunction('convertToInteractive',\n",
              "                                                     [key], {});\n",
              "          if (!dataTable) return;\n",
              "\n",
              "          const docLinkHtml = 'Like what you see? Visit the ' +\n",
              "            '<a target=\"_blank\" href=https://colab.research.google.com/notebooks/data_table.ipynb>data table notebook</a>'\n",
              "            + ' to learn more about interactive tables.';\n",
              "          element.innerHTML = '';\n",
              "          dataTable['output_type'] = 'display_data';\n",
              "          await google.colab.output.renderOutput(dataTable, element);\n",
              "          const docLink = document.createElement('div');\n",
              "          docLink.innerHTML = docLinkHtml;\n",
              "          element.appendChild(docLink);\n",
              "        }\n",
              "      </script>\n",
              "    </div>\n",
              "  </div>\n",
              "  "
            ]
          },
          "metadata": {},
          "execution_count": 42
        }
      ]
    },
    {
      "cell_type": "code",
      "source": [
        "pip install -U scikit-learn"
      ],
      "metadata": {
        "id": "RVIIgHNBWkTl",
        "colab": {
          "base_uri": "https://localhost:8080/"
        },
        "outputId": "4bb2582a-c468-46d5-8a2a-0ff00705533d"
      },
      "execution_count": null,
      "outputs": [
        {
          "output_type": "stream",
          "name": "stdout",
          "text": [
            "Looking in indexes: https://pypi.org/simple, https://us-python.pkg.dev/colab-wheels/public/simple/\n",
            "Requirement already satisfied: scikit-learn in /usr/local/lib/python3.7/dist-packages (1.0.2)\n",
            "Requirement already satisfied: scipy>=1.1.0 in /usr/local/lib/python3.7/dist-packages (from scikit-learn) (1.7.3)\n",
            "Requirement already satisfied: numpy>=1.14.6 in /usr/local/lib/python3.7/dist-packages (from scikit-learn) (1.21.6)\n",
            "Requirement already satisfied: joblib>=0.11 in /usr/local/lib/python3.7/dist-packages (from scikit-learn) (1.1.0)\n",
            "Requirement already satisfied: threadpoolctl>=2.0.0 in /usr/local/lib/python3.7/dist-packages (from scikit-learn) (3.1.0)\n"
          ]
        }
      ]
    },
    {
      "cell_type": "code",
      "source": [
        "from sklearn.neighbors import KNeighborsClassifier\n",
        "from sklearn.model_selection import train_test_split"
      ],
      "metadata": {
        "id": "n1Uura26-H6v"
      },
      "execution_count": null,
      "outputs": []
    },
    {
      "cell_type": "code",
      "source": [
        "ks.describe().T"
      ],
      "metadata": {
        "colab": {
          "base_uri": "https://localhost:8080/",
          "height": 175
        },
        "id": "fOahEIOw-y8N",
        "outputId": "f4b22bcd-0e36-4fbe-b7a1-fcb3489bbd2a"
      },
      "execution_count": null,
      "outputs": [
        {
          "output_type": "execute_result",
          "data": {
            "text/plain": [
              "                count        mean         std  min    25%    50%    75%  \\\n",
              "minutes_played  747.0  331.611780  248.371930  1.0  116.0  301.0  492.0   \n",
              "match_played    747.0    5.089692    2.721425  1.0    3.0    5.0    7.0   \n",
              "goals           747.0    0.492637    1.313321  0.0    0.0    0.0    0.0   \n",
              "assists         747.0    0.376171    0.845502  0.0    0.0    0.0    0.0   \n",
              "\n",
              "                   max  \n",
              "minutes_played  1230.0  \n",
              "match_played      13.0  \n",
              "goals             15.0  \n",
              "assists            7.0  "
            ],
            "text/html": [
              "\n",
              "  <div id=\"df-7ffbf579-4fc2-4ad3-afd0-10cec84deca7\">\n",
              "    <div class=\"colab-df-container\">\n",
              "      <div>\n",
              "<style scoped>\n",
              "    .dataframe tbody tr th:only-of-type {\n",
              "        vertical-align: middle;\n",
              "    }\n",
              "\n",
              "    .dataframe tbody tr th {\n",
              "        vertical-align: top;\n",
              "    }\n",
              "\n",
              "    .dataframe thead th {\n",
              "        text-align: right;\n",
              "    }\n",
              "</style>\n",
              "<table border=\"1\" class=\"dataframe\">\n",
              "  <thead>\n",
              "    <tr style=\"text-align: right;\">\n",
              "      <th></th>\n",
              "      <th>count</th>\n",
              "      <th>mean</th>\n",
              "      <th>std</th>\n",
              "      <th>min</th>\n",
              "      <th>25%</th>\n",
              "      <th>50%</th>\n",
              "      <th>75%</th>\n",
              "      <th>max</th>\n",
              "    </tr>\n",
              "  </thead>\n",
              "  <tbody>\n",
              "    <tr>\n",
              "      <th>minutes_played</th>\n",
              "      <td>747.0</td>\n",
              "      <td>331.611780</td>\n",
              "      <td>248.371930</td>\n",
              "      <td>1.0</td>\n",
              "      <td>116.0</td>\n",
              "      <td>301.0</td>\n",
              "      <td>492.0</td>\n",
              "      <td>1230.0</td>\n",
              "    </tr>\n",
              "    <tr>\n",
              "      <th>match_played</th>\n",
              "      <td>747.0</td>\n",
              "      <td>5.089692</td>\n",
              "      <td>2.721425</td>\n",
              "      <td>1.0</td>\n",
              "      <td>3.0</td>\n",
              "      <td>5.0</td>\n",
              "      <td>7.0</td>\n",
              "      <td>13.0</td>\n",
              "    </tr>\n",
              "    <tr>\n",
              "      <th>goals</th>\n",
              "      <td>747.0</td>\n",
              "      <td>0.492637</td>\n",
              "      <td>1.313321</td>\n",
              "      <td>0.0</td>\n",
              "      <td>0.0</td>\n",
              "      <td>0.0</td>\n",
              "      <td>0.0</td>\n",
              "      <td>15.0</td>\n",
              "    </tr>\n",
              "    <tr>\n",
              "      <th>assists</th>\n",
              "      <td>747.0</td>\n",
              "      <td>0.376171</td>\n",
              "      <td>0.845502</td>\n",
              "      <td>0.0</td>\n",
              "      <td>0.0</td>\n",
              "      <td>0.0</td>\n",
              "      <td>0.0</td>\n",
              "      <td>7.0</td>\n",
              "    </tr>\n",
              "  </tbody>\n",
              "</table>\n",
              "</div>\n",
              "      <button class=\"colab-df-convert\" onclick=\"convertToInteractive('df-7ffbf579-4fc2-4ad3-afd0-10cec84deca7')\"\n",
              "              title=\"Convert this dataframe to an interactive table.\"\n",
              "              style=\"display:none;\">\n",
              "        \n",
              "  <svg xmlns=\"http://www.w3.org/2000/svg\" height=\"24px\"viewBox=\"0 0 24 24\"\n",
              "       width=\"24px\">\n",
              "    <path d=\"M0 0h24v24H0V0z\" fill=\"none\"/>\n",
              "    <path d=\"M18.56 5.44l.94 2.06.94-2.06 2.06-.94-2.06-.94-.94-2.06-.94 2.06-2.06.94zm-11 1L8.5 8.5l.94-2.06 2.06-.94-2.06-.94L8.5 2.5l-.94 2.06-2.06.94zm10 10l.94 2.06.94-2.06 2.06-.94-2.06-.94-.94-2.06-.94 2.06-2.06.94z\"/><path d=\"M17.41 7.96l-1.37-1.37c-.4-.4-.92-.59-1.43-.59-.52 0-1.04.2-1.43.59L10.3 9.45l-7.72 7.72c-.78.78-.78 2.05 0 2.83L4 21.41c.39.39.9.59 1.41.59.51 0 1.02-.2 1.41-.59l7.78-7.78 2.81-2.81c.8-.78.8-2.07 0-2.86zM5.41 20L4 18.59l7.72-7.72 1.47 1.35L5.41 20z\"/>\n",
              "  </svg>\n",
              "      </button>\n",
              "      \n",
              "  <style>\n",
              "    .colab-df-container {\n",
              "      display:flex;\n",
              "      flex-wrap:wrap;\n",
              "      gap: 12px;\n",
              "    }\n",
              "\n",
              "    .colab-df-convert {\n",
              "      background-color: #E8F0FE;\n",
              "      border: none;\n",
              "      border-radius: 50%;\n",
              "      cursor: pointer;\n",
              "      display: none;\n",
              "      fill: #1967D2;\n",
              "      height: 32px;\n",
              "      padding: 0 0 0 0;\n",
              "      width: 32px;\n",
              "    }\n",
              "\n",
              "    .colab-df-convert:hover {\n",
              "      background-color: #E2EBFA;\n",
              "      box-shadow: 0px 1px 2px rgba(60, 64, 67, 0.3), 0px 1px 3px 1px rgba(60, 64, 67, 0.15);\n",
              "      fill: #174EA6;\n",
              "    }\n",
              "\n",
              "    [theme=dark] .colab-df-convert {\n",
              "      background-color: #3B4455;\n",
              "      fill: #D2E3FC;\n",
              "    }\n",
              "\n",
              "    [theme=dark] .colab-df-convert:hover {\n",
              "      background-color: #434B5C;\n",
              "      box-shadow: 0px 1px 3px 1px rgba(0, 0, 0, 0.15);\n",
              "      filter: drop-shadow(0px 1px 2px rgba(0, 0, 0, 0.3));\n",
              "      fill: #FFFFFF;\n",
              "    }\n",
              "  </style>\n",
              "\n",
              "      <script>\n",
              "        const buttonEl =\n",
              "          document.querySelector('#df-7ffbf579-4fc2-4ad3-afd0-10cec84deca7 button.colab-df-convert');\n",
              "        buttonEl.style.display =\n",
              "          google.colab.kernel.accessAllowed ? 'block' : 'none';\n",
              "\n",
              "        async function convertToInteractive(key) {\n",
              "          const element = document.querySelector('#df-7ffbf579-4fc2-4ad3-afd0-10cec84deca7');\n",
              "          const dataTable =\n",
              "            await google.colab.kernel.invokeFunction('convertToInteractive',\n",
              "                                                     [key], {});\n",
              "          if (!dataTable) return;\n",
              "\n",
              "          const docLinkHtml = 'Like what you see? Visit the ' +\n",
              "            '<a target=\"_blank\" href=https://colab.research.google.com/notebooks/data_table.ipynb>data table notebook</a>'\n",
              "            + ' to learn more about interactive tables.';\n",
              "          element.innerHTML = '';\n",
              "          dataTable['output_type'] = 'display_data';\n",
              "          await google.colab.output.renderOutput(dataTable, element);\n",
              "          const docLink = document.createElement('div');\n",
              "          docLink.innerHTML = docLinkHtml;\n",
              "          element.appendChild(docLink);\n",
              "        }\n",
              "      </script>\n",
              "    </div>\n",
              "  </div>\n",
              "  "
            ]
          },
          "metadata": {},
          "execution_count": 45
        }
      ]
    },
    {
      "cell_type": "code",
      "source": [
        "ks.info"
      ],
      "metadata": {
        "colab": {
          "base_uri": "https://localhost:8080/"
        },
        "id": "rEFTBJeP-4Hp",
        "outputId": "2e9db214-28d2-4ef7-dfc5-fb29678c518d"
      },
      "execution_count": null,
      "outputs": [
        {
          "output_type": "execute_result",
          "data": {
            "text/plain": [
              "<bound method DataFrame.info of          player_name         club    position  minutes_played  match_played  \\\n",
              "0           Courtois  Real Madrid  Goalkeeper            1230            13   \n",
              "1    Vinícius Júnior  Real Madrid     Forward            1199            13   \n",
              "2            Benzema  Real Madrid     Forward            1106            12   \n",
              "3             Modrić  Real Madrid  Midfielder            1077            13   \n",
              "4       Éder Militão  Real Madrid    Defender            1076            12   \n",
              "..               ...          ...         ...             ...           ...   \n",
              "742         Gil Dias      Benfica  Midfielder               1             1   \n",
              "743  Rodrigo Ribeiro  Sporting CP     Forward               1             1   \n",
              "744         Cojocari      Sheriff    Defender               1             1   \n",
              "745         Maouassa  Club Brugge    Defender               1             1   \n",
              "746          Zesiger   Young Boys    Defender               1             1   \n",
              "\n",
              "     goals  assists distance_covered  \n",
              "0        0        0             64.2  \n",
              "1        4        6            133.0  \n",
              "2       15        1            121.5  \n",
              "3        0        4            124.5  \n",
              "4        0        0            110.4  \n",
              "..     ...      ...              ...  \n",
              "742      0        0              0.7  \n",
              "743      0        0              0.7  \n",
              "744      0        0              0.5  \n",
              "745      0        0              0.2  \n",
              "746      0        0                -  \n",
              "\n",
              "[747 rows x 8 columns]>"
            ]
          },
          "metadata": {},
          "execution_count": 46
        }
      ]
    },
    {
      "cell_type": "code",
      "source": [
        "y = ks['goals']\n",
        "X = ks.drop(['player_name','club','assists','distance_covered'], axis=1)\n",
        "X = X.drop('position', axis =1)\n",
        "X = X.drop('goals', axis= 1)\n",
        "X_train, X_test, y_train, y_test = train_test_split(X,y, test_size = 0.3, random_state = 0)"
      ],
      "metadata": {
        "id": "_H3gtOel-_LO"
      },
      "execution_count": null,
      "outputs": []
    },
    {
      "cell_type": "code",
      "source": [
        "X.head(20)"
      ],
      "metadata": {
        "colab": {
          "base_uri": "https://localhost:8080/",
          "height": 676
        },
        "id": "9_2QB1_kAuoz",
        "outputId": "a1474e7f-44fd-4a83-cf09-71eb5fe25bb7"
      },
      "execution_count": null,
      "outputs": [
        {
          "output_type": "execute_result",
          "data": {
            "text/plain": [
              "    minutes_played  match_played\n",
              "0             1230            13\n",
              "1             1199            13\n",
              "2             1106            12\n",
              "3             1077            13\n",
              "4             1076            12\n",
              "5             1040            12\n",
              "6              959            11\n",
              "7              914            11\n",
              "8              902            12\n",
              "9              867            10\n",
              "10             804            11\n",
              "11             574             9\n",
              "12             505            11\n",
              "13             349             8\n",
              "14             296            10\n",
              "15             207             8\n",
              "16             113             3\n",
              "17              93             3\n",
              "18              84             3\n",
              "19              66             1"
            ],
            "text/html": [
              "\n",
              "  <div id=\"df-b9c71257-ed29-49ae-98ce-de5ccaea37ec\">\n",
              "    <div class=\"colab-df-container\">\n",
              "      <div>\n",
              "<style scoped>\n",
              "    .dataframe tbody tr th:only-of-type {\n",
              "        vertical-align: middle;\n",
              "    }\n",
              "\n",
              "    .dataframe tbody tr th {\n",
              "        vertical-align: top;\n",
              "    }\n",
              "\n",
              "    .dataframe thead th {\n",
              "        text-align: right;\n",
              "    }\n",
              "</style>\n",
              "<table border=\"1\" class=\"dataframe\">\n",
              "  <thead>\n",
              "    <tr style=\"text-align: right;\">\n",
              "      <th></th>\n",
              "      <th>minutes_played</th>\n",
              "      <th>match_played</th>\n",
              "    </tr>\n",
              "  </thead>\n",
              "  <tbody>\n",
              "    <tr>\n",
              "      <th>0</th>\n",
              "      <td>1230</td>\n",
              "      <td>13</td>\n",
              "    </tr>\n",
              "    <tr>\n",
              "      <th>1</th>\n",
              "      <td>1199</td>\n",
              "      <td>13</td>\n",
              "    </tr>\n",
              "    <tr>\n",
              "      <th>2</th>\n",
              "      <td>1106</td>\n",
              "      <td>12</td>\n",
              "    </tr>\n",
              "    <tr>\n",
              "      <th>3</th>\n",
              "      <td>1077</td>\n",
              "      <td>13</td>\n",
              "    </tr>\n",
              "    <tr>\n",
              "      <th>4</th>\n",
              "      <td>1076</td>\n",
              "      <td>12</td>\n",
              "    </tr>\n",
              "    <tr>\n",
              "      <th>5</th>\n",
              "      <td>1040</td>\n",
              "      <td>12</td>\n",
              "    </tr>\n",
              "    <tr>\n",
              "      <th>6</th>\n",
              "      <td>959</td>\n",
              "      <td>11</td>\n",
              "    </tr>\n",
              "    <tr>\n",
              "      <th>7</th>\n",
              "      <td>914</td>\n",
              "      <td>11</td>\n",
              "    </tr>\n",
              "    <tr>\n",
              "      <th>8</th>\n",
              "      <td>902</td>\n",
              "      <td>12</td>\n",
              "    </tr>\n",
              "    <tr>\n",
              "      <th>9</th>\n",
              "      <td>867</td>\n",
              "      <td>10</td>\n",
              "    </tr>\n",
              "    <tr>\n",
              "      <th>10</th>\n",
              "      <td>804</td>\n",
              "      <td>11</td>\n",
              "    </tr>\n",
              "    <tr>\n",
              "      <th>11</th>\n",
              "      <td>574</td>\n",
              "      <td>9</td>\n",
              "    </tr>\n",
              "    <tr>\n",
              "      <th>12</th>\n",
              "      <td>505</td>\n",
              "      <td>11</td>\n",
              "    </tr>\n",
              "    <tr>\n",
              "      <th>13</th>\n",
              "      <td>349</td>\n",
              "      <td>8</td>\n",
              "    </tr>\n",
              "    <tr>\n",
              "      <th>14</th>\n",
              "      <td>296</td>\n",
              "      <td>10</td>\n",
              "    </tr>\n",
              "    <tr>\n",
              "      <th>15</th>\n",
              "      <td>207</td>\n",
              "      <td>8</td>\n",
              "    </tr>\n",
              "    <tr>\n",
              "      <th>16</th>\n",
              "      <td>113</td>\n",
              "      <td>3</td>\n",
              "    </tr>\n",
              "    <tr>\n",
              "      <th>17</th>\n",
              "      <td>93</td>\n",
              "      <td>3</td>\n",
              "    </tr>\n",
              "    <tr>\n",
              "      <th>18</th>\n",
              "      <td>84</td>\n",
              "      <td>3</td>\n",
              "    </tr>\n",
              "    <tr>\n",
              "      <th>19</th>\n",
              "      <td>66</td>\n",
              "      <td>1</td>\n",
              "    </tr>\n",
              "  </tbody>\n",
              "</table>\n",
              "</div>\n",
              "      <button class=\"colab-df-convert\" onclick=\"convertToInteractive('df-b9c71257-ed29-49ae-98ce-de5ccaea37ec')\"\n",
              "              title=\"Convert this dataframe to an interactive table.\"\n",
              "              style=\"display:none;\">\n",
              "        \n",
              "  <svg xmlns=\"http://www.w3.org/2000/svg\" height=\"24px\"viewBox=\"0 0 24 24\"\n",
              "       width=\"24px\">\n",
              "    <path d=\"M0 0h24v24H0V0z\" fill=\"none\"/>\n",
              "    <path d=\"M18.56 5.44l.94 2.06.94-2.06 2.06-.94-2.06-.94-.94-2.06-.94 2.06-2.06.94zm-11 1L8.5 8.5l.94-2.06 2.06-.94-2.06-.94L8.5 2.5l-.94 2.06-2.06.94zm10 10l.94 2.06.94-2.06 2.06-.94-2.06-.94-.94-2.06-.94 2.06-2.06.94z\"/><path d=\"M17.41 7.96l-1.37-1.37c-.4-.4-.92-.59-1.43-.59-.52 0-1.04.2-1.43.59L10.3 9.45l-7.72 7.72c-.78.78-.78 2.05 0 2.83L4 21.41c.39.39.9.59 1.41.59.51 0 1.02-.2 1.41-.59l7.78-7.78 2.81-2.81c.8-.78.8-2.07 0-2.86zM5.41 20L4 18.59l7.72-7.72 1.47 1.35L5.41 20z\"/>\n",
              "  </svg>\n",
              "      </button>\n",
              "      \n",
              "  <style>\n",
              "    .colab-df-container {\n",
              "      display:flex;\n",
              "      flex-wrap:wrap;\n",
              "      gap: 12px;\n",
              "    }\n",
              "\n",
              "    .colab-df-convert {\n",
              "      background-color: #E8F0FE;\n",
              "      border: none;\n",
              "      border-radius: 50%;\n",
              "      cursor: pointer;\n",
              "      display: none;\n",
              "      fill: #1967D2;\n",
              "      height: 32px;\n",
              "      padding: 0 0 0 0;\n",
              "      width: 32px;\n",
              "    }\n",
              "\n",
              "    .colab-df-convert:hover {\n",
              "      background-color: #E2EBFA;\n",
              "      box-shadow: 0px 1px 2px rgba(60, 64, 67, 0.3), 0px 1px 3px 1px rgba(60, 64, 67, 0.15);\n",
              "      fill: #174EA6;\n",
              "    }\n",
              "\n",
              "    [theme=dark] .colab-df-convert {\n",
              "      background-color: #3B4455;\n",
              "      fill: #D2E3FC;\n",
              "    }\n",
              "\n",
              "    [theme=dark] .colab-df-convert:hover {\n",
              "      background-color: #434B5C;\n",
              "      box-shadow: 0px 1px 3px 1px rgba(0, 0, 0, 0.15);\n",
              "      filter: drop-shadow(0px 1px 2px rgba(0, 0, 0, 0.3));\n",
              "      fill: #FFFFFF;\n",
              "    }\n",
              "  </style>\n",
              "\n",
              "      <script>\n",
              "        const buttonEl =\n",
              "          document.querySelector('#df-b9c71257-ed29-49ae-98ce-de5ccaea37ec button.colab-df-convert');\n",
              "        buttonEl.style.display =\n",
              "          google.colab.kernel.accessAllowed ? 'block' : 'none';\n",
              "\n",
              "        async function convertToInteractive(key) {\n",
              "          const element = document.querySelector('#df-b9c71257-ed29-49ae-98ce-de5ccaea37ec');\n",
              "          const dataTable =\n",
              "            await google.colab.kernel.invokeFunction('convertToInteractive',\n",
              "                                                     [key], {});\n",
              "          if (!dataTable) return;\n",
              "\n",
              "          const docLinkHtml = 'Like what you see? Visit the ' +\n",
              "            '<a target=\"_blank\" href=https://colab.research.google.com/notebooks/data_table.ipynb>data table notebook</a>'\n",
              "            + ' to learn more about interactive tables.';\n",
              "          element.innerHTML = '';\n",
              "          dataTable['output_type'] = 'display_data';\n",
              "          await google.colab.output.renderOutput(dataTable, element);\n",
              "          const docLink = document.createElement('div');\n",
              "          docLink.innerHTML = docLinkHtml;\n",
              "          element.appendChild(docLink);\n",
              "        }\n",
              "      </script>\n",
              "    </div>\n",
              "  </div>\n",
              "  "
            ]
          },
          "metadata": {},
          "execution_count": 48
        }
      ]
    },
    {
      "cell_type": "code",
      "source": [
        "K=[]\n",
        "training = []\n",
        "test = []\n",
        "score = {}\n",
        "\n",
        "for k in range(2,5):\n",
        "  clf = KNeighborsClassifier(n_neighbors= k)\n",
        "  clf.fit(X_train, y_train)\n",
        "\n",
        "  training_score = clf.score(X_train, y_train)\n",
        "  test_score = clf.score(X_test, y_test)\n",
        "  K.append(k)\n",
        "\n",
        "  training.append(training_score)\n",
        "  test.append(test_score)\n",
        "  score[k] = [training_score, test_score]"
      ],
      "metadata": {
        "id": "dU1gME7b_7Xg"
      },
      "execution_count": null,
      "outputs": []
    },
    {
      "cell_type": "code",
      "source": [
        "for keys, values in score.items():\n",
        "    print(keys, ':', values)"
      ],
      "metadata": {
        "colab": {
          "base_uri": "https://localhost:8080/"
        },
        "id": "FlaQ3n1CAqMx",
        "outputId": "a5170455-8385-4d65-ac3e-0c44a3120875"
      },
      "execution_count": null,
      "outputs": [
        {
          "output_type": "stream",
          "name": "stdout",
          "text": [
            "2 : [0.8084291187739464, 0.7422222222222222]\n",
            "3 : [0.789272030651341, 0.7288888888888889]\n",
            "4 : [0.7835249042145593, 0.7377777777777778]\n"
          ]
        }
      ]
    },
    {
      "cell_type": "markdown",
      "source": [
        "Minute played and number of matches played is strongly related to score a goal as the values are greater than 0.5, closer to 1.\n",
        "\n",
        "---\n",
        "\n",
        "\n"
      ],
      "metadata": {
        "id": "mCdcexZrDV__"
      }
    },
    {
      "cell_type": "code",
      "source": [
        "ax = sns.stripplot(K, training);\n",
        "ax.set(xlabel ='values of k', ylabel ='Training Score')  \n",
        "  \n",
        "plt.show()"
      ],
      "metadata": {
        "colab": {
          "base_uri": "https://localhost:8080/",
          "height": 394
        },
        "id": "3TZ1OxvqCHJj",
        "outputId": "fedc56f0-3eb3-4d9f-b1d9-fd18db65259b"
      },
      "execution_count": null,
      "outputs": [
        {
          "output_type": "stream",
          "name": "stderr",
          "text": [
            "/usr/local/lib/python3.7/dist-packages/seaborn/_decorators.py:43: FutureWarning: Pass the following variables as keyword args: x, y. From version 0.12, the only valid positional argument will be `data`, and passing other arguments without an explicit keyword will result in an error or misinterpretation.\n",
            "  FutureWarning\n"
          ]
        },
        {
          "output_type": "display_data",
          "data": {
            "text/plain": [
              "<Figure size 1440x360 with 1 Axes>"
            ],
            "image/png": "[encoded data removed]"
          },
          "metadata": {}
        }
      ]
    },
    {
      "cell_type": "markdown",
      "source": [
        "Our KNN prediction has more than 0.74 score.\n"
      ],
      "metadata": {
        "id": "8DdMUkVfDFLq"
      }
    },
    {
      "cell_type": "code",
      "source": [
        "ax = sns.stripplot(K, test);\n",
        "ax.set(xlabel ='values of k', ylabel ='Test Score')\n",
        "plt.show()"
      ],
      "metadata": {
        "colab": {
          "base_uri": "https://localhost:8080/",
          "height": 394
        },
        "id": "LZa5s4iaCUDZ",
        "outputId": "5666e4c0-a93c-4b29-dd9b-40cc13af8c2c"
      },
      "execution_count": null,
      "outputs": [
        {
          "output_type": "stream",
          "name": "stderr",
          "text": [
            "/usr/local/lib/python3.7/dist-packages/seaborn/_decorators.py:43: FutureWarning: Pass the following variables as keyword args: x, y. From version 0.12, the only valid positional argument will be `data`, and passing other arguments without an explicit keyword will result in an error or misinterpretation.\n",
            "  FutureWarning\n"
          ]
        },
        {
          "output_type": "display_data",
          "data": {
            "text/plain": [
              "<Figure size 1440x360 with 1 Axes>"
            ],
            "image/png": "[encoded data removed]"
          },
          "metadata": {}
        }
      ]
    },
    {
      "cell_type": "markdown",
      "source": [
        "Our KNN test gives us more than 0.78 score.\n",
        "\n"
      ],
      "metadata": {
        "id": "r3YO-e01EBAe"
      }
    },
    {
      "cell_type": "code",
      "source": [
        "plt.scatter(K, training, color ='r')\n",
        "plt.scatter(K, test, color ='g')\n",
        "plt.show()\n",
        "# For overlapping scatter plots"
      ],
      "metadata": {
        "colab": {
          "base_uri": "https://localhost:8080/",
          "height": 322
        },
        "id": "lzU1_TI4CZUX",
        "outputId": "0b1fa746-b28f-4d67-ce88-3128c74b2f02"
      },
      "execution_count": null,
      "outputs": [
        {
          "output_type": "display_data",
          "data": {
            "text/plain": [
              "<Figure size 1440x360 with 1 Axes>"
            ],
            "image/png": "[encoded data removed]"
          },
          "metadata": {}
        }
      ]
    },
    {
      "cell_type": "markdown",
      "source": [
        "# Lab 2: \n",
        "Implement the data preprocessing techniques on the same selected data of your choosen\n",
        "domain and provide a detailed inference related to each and every preprocessing task like\n",
        "1. Identifying unique values\n",
        "2. Finding Missing values\n",
        "3. Replacing missing values and null values\n",
        "4. Normalizing the data using standard scaler or minmax scaler\n",
        "5. Apply KNN for the preprocessed dataset use 5 different K Values and 3 different\n",
        "distance measures\n",
        "6. Display the confusion matrix, accuracy measures, classification report.\n",
        "7. Provide appropriate inference for every task performed."
      ],
      "metadata": {
        "id": "QjWDjzPGE3zE"
      }
    },
    {
      "cell_type": "markdown",
      "source": [
        " *We will focus on Goals dataset.*"
      ],
      "metadata": {
        "id": "oADGALzNFDhs"
      }
    },
    {
      "cell_type": "code",
      "source": [
        "import numpy as np \n",
        "import pandas as pd\n",
        "import matplotlib.pyplot as plt\n",
        "import seaborn as sns"
      ],
      "metadata": {
        "id": "D44cCELdBUsR"
      },
      "execution_count": null,
      "outputs": []
    },
    {
      "cell_type": "code",
      "source": [
        "gl = pd.read_csv(\"/content/goals.csv\")"
      ],
      "metadata": {
        "id": "z9VL4tXNBf7z"
      },
      "execution_count": null,
      "outputs": []
    },
    {
      "cell_type": "code",
      "source": [
        "gl.head()"
      ],
      "metadata": {
        "colab": {
          "base_uri": "https://localhost:8080/",
          "height": 250
        },
        "id": "sjGgN2q7CxLj",
        "outputId": "502f87d7-5574-4a6e-a854-77b1676c852c"
      },
      "execution_count": null,
      "outputs": [
        {
          "output_type": "execute_result",
          "data": {
            "text/plain": [
              "   serial  player_name         club    position  goals  right_foot  left_foot  \\\n",
              "0       1      Benzema  Real Madrid     Forward     15          11          1   \n",
              "1       2  Lewandowski       Bayern     Forward     13           8          3   \n",
              "2       3       Haller         Ajax     Forward     11           3          4   \n",
              "3       4        Salah    Liverpool     Forward      8           0          8   \n",
              "4       5       Nkunku      Leipzig  Midfielder      7           3          1   \n",
              "\n",
              "   headers  others  inside_area  outside_areas  penalties  match_played  \n",
              "0        3       0           13              2          3            12  \n",
              "1        1       1           13              0          3            10  \n",
              "2        3       1           11              0          1             8  \n",
              "3        0       0            7              1          1            13  \n",
              "4        3       0            7              0          0             6  "
            ],
            "text/html": [
              "\n",
              "  <div id=\"df-1c7c0fd0-a7d0-4c8b-9497-58c957762b2b\">\n",
              "    <div class=\"colab-df-container\">\n",
              "      <div>\n",
              "<style scoped>\n",
              "    .dataframe tbody tr th:only-of-type {\n",
              "        vertical-align: middle;\n",
              "    }\n",
              "\n",
              "    .dataframe tbody tr th {\n",
              "        vertical-align: top;\n",
              "    }\n",
              "\n",
              "    .dataframe thead th {\n",
              "        text-align: right;\n",
              "    }\n",
              "</style>\n",
              "<table border=\"1\" class=\"dataframe\">\n",
              "  <thead>\n",
              "    <tr style=\"text-align: right;\">\n",
              "      <th></th>\n",
              "      <th>serial</th>\n",
              "      <th>player_name</th>\n",
              "      <th>club</th>\n",
              "      <th>position</th>\n",
              "      <th>goals</th>\n",
              "      <th>right_foot</th>\n",
              "      <th>left_foot</th>\n",
              "      <th>headers</th>\n",
              "      <th>others</th>\n",
              "      <th>inside_area</th>\n",
              "      <th>outside_areas</th>\n",
              "      <th>penalties</th>\n",
              "      <th>match_played</th>\n",
              "    </tr>\n",
              "  </thead>\n",
              "  <tbody>\n",
              "    <tr>\n",
              "      <th>0</th>\n",
              "      <td>1</td>\n",
              "      <td>Benzema</td>\n",
              "      <td>Real Madrid</td>\n",
              "      <td>Forward</td>\n",
              "      <td>15</td>\n",
              "      <td>11</td>\n",
              "      <td>1</td>\n",
              "      <td>3</td>\n",
              "      <td>0</td>\n",
              "      <td>13</td>\n",
              "      <td>2</td>\n",
              "      <td>3</td>\n",
              "      <td>12</td>\n",
              "    </tr>\n",
              "    <tr>\n",
              "      <th>1</th>\n",
              "      <td>2</td>\n",
              "      <td>Lewandowski</td>\n",
              "      <td>Bayern</td>\n",
              "      <td>Forward</td>\n",
              "      <td>13</td>\n",
              "      <td>8</td>\n",
              "      <td>3</td>\n",
              "      <td>1</td>\n",
              "      <td>1</td>\n",
              "      <td>13</td>\n",
              "      <td>0</td>\n",
              "      <td>3</td>\n",
              "      <td>10</td>\n",
              "    </tr>\n",
              "    <tr>\n",
              "      <th>2</th>\n",
              "      <td>3</td>\n",
              "      <td>Haller</td>\n",
              "      <td>Ajax</td>\n",
              "      <td>Forward</td>\n",
              "      <td>11</td>\n",
              "      <td>3</td>\n",
              "      <td>4</td>\n",
              "      <td>3</td>\n",
              "      <td>1</td>\n",
              "      <td>11</td>\n",
              "      <td>0</td>\n",
              "      <td>1</td>\n",
              "      <td>8</td>\n",
              "    </tr>\n",
              "    <tr>\n",
              "      <th>3</th>\n",
              "      <td>4</td>\n",
              "      <td>Salah</td>\n",
              "      <td>Liverpool</td>\n",
              "      <td>Forward</td>\n",
              "      <td>8</td>\n",
              "      <td>0</td>\n",
              "      <td>8</td>\n",
              "      <td>0</td>\n",
              "      <td>0</td>\n",
              "      <td>7</td>\n",
              "      <td>1</td>\n",
              "      <td>1</td>\n",
              "      <td>13</td>\n",
              "    </tr>\n",
              "    <tr>\n",
              "      <th>4</th>\n",
              "      <td>5</td>\n",
              "      <td>Nkunku</td>\n",
              "      <td>Leipzig</td>\n",
              "      <td>Midfielder</td>\n",
              "      <td>7</td>\n",
              "      <td>3</td>\n",
              "      <td>1</td>\n",
              "      <td>3</td>\n",
              "      <td>0</td>\n",
              "      <td>7</td>\n",
              "      <td>0</td>\n",
              "      <td>0</td>\n",
              "      <td>6</td>\n",
              "    </tr>\n",
              "  </tbody>\n",
              "</table>\n",
              "</div>\n",
              "      <button class=\"colab-df-convert\" onclick=\"convertToInteractive('df-1c7c0fd0-a7d0-4c8b-9497-58c957762b2b')\"\n",
              "              title=\"Convert this dataframe to an interactive table.\"\n",
              "              style=\"display:none;\">\n",
              "        \n",
              "  <svg xmlns=\"http://www.w3.org/2000/svg\" height=\"24px\"viewBox=\"0 0 24 24\"\n",
              "       width=\"24px\">\n",
              "    <path d=\"M0 0h24v24H0V0z\" fill=\"none\"/>\n",
              "    <path d=\"M18.56 5.44l.94 2.06.94-2.06 2.06-.94-2.06-.94-.94-2.06-.94 2.06-2.06.94zm-11 1L8.5 8.5l.94-2.06 2.06-.94-2.06-.94L8.5 2.5l-.94 2.06-2.06.94zm10 10l.94 2.06.94-2.06 2.06-.94-2.06-.94-.94-2.06-.94 2.06-2.06.94z\"/><path d=\"M17.41 7.96l-1.37-1.37c-.4-.4-.92-.59-1.43-.59-.52 0-1.04.2-1.43.59L10.3 9.45l-7.72 7.72c-.78.78-.78 2.05 0 2.83L4 21.41c.39.39.9.59 1.41.59.51 0 1.02-.2 1.41-.59l7.78-7.78 2.81-2.81c.8-.78.8-2.07 0-2.86zM5.41 20L4 18.59l7.72-7.72 1.47 1.35L5.41 20z\"/>\n",
              "  </svg>\n",
              "      </button>\n",
              "      \n",
              "  <style>\n",
              "    .colab-df-container {\n",
              "      display:flex;\n",
              "      flex-wrap:wrap;\n",
              "      gap: 12px;\n",
              "    }\n",
              "\n",
              "    .colab-df-convert {\n",
              "      background-color: #E8F0FE;\n",
              "      border: none;\n",
              "      border-radius: 50%;\n",
              "      cursor: pointer;\n",
              "      display: none;\n",
              "      fill: #1967D2;\n",
              "      height: 32px;\n",
              "      padding: 0 0 0 0;\n",
              "      width: 32px;\n",
              "    }\n",
              "\n",
              "    .colab-df-convert:hover {\n",
              "      background-color: #E2EBFA;\n",
              "      box-shadow: 0px 1px 2px rgba(60, 64, 67, 0.3), 0px 1px 3px 1px rgba(60, 64, 67, 0.15);\n",
              "      fill: #174EA6;\n",
              "    }\n",
              "\n",
              "    [theme=dark] .colab-df-convert {\n",
              "      background-color: #3B4455;\n",
              "      fill: #D2E3FC;\n",
              "    }\n",
              "\n",
              "    [theme=dark] .colab-df-convert:hover {\n",
              "      background-color: #434B5C;\n",
              "      box-shadow: 0px 1px 3px 1px rgba(0, 0, 0, 0.15);\n",
              "      filter: drop-shadow(0px 1px 2px rgba(0, 0, 0, 0.3));\n",
              "      fill: #FFFFFF;\n",
              "    }\n",
              "  </style>\n",
              "\n",
              "      <script>\n",
              "        const buttonEl =\n",
              "          document.querySelector('#df-1c7c0fd0-a7d0-4c8b-9497-58c957762b2b button.colab-df-convert');\n",
              "        buttonEl.style.display =\n",
              "          google.colab.kernel.accessAllowed ? 'block' : 'none';\n",
              "\n",
              "        async function convertToInteractive(key) {\n",
              "          const element = document.querySelector('#df-1c7c0fd0-a7d0-4c8b-9497-58c957762b2b');\n",
              "          const dataTable =\n",
              "            await google.colab.kernel.invokeFunction('convertToInteractive',\n",
              "                                                     [key], {});\n",
              "          if (!dataTable) return;\n",
              "\n",
              "          const docLinkHtml = 'Like what you see? Visit the ' +\n",
              "            '<a target=\"_blank\" href=https://colab.research.google.com/notebooks/data_table.ipynb>data table notebook</a>'\n",
              "            + ' to learn more about interactive tables.';\n",
              "          element.innerHTML = '';\n",
              "          dataTable['output_type'] = 'display_data';\n",
              "          await google.colab.output.renderOutput(dataTable, element);\n",
              "          const docLink = document.createElement('div');\n",
              "          docLink.innerHTML = docLinkHtml;\n",
              "          element.appendChild(docLink);\n",
              "        }\n",
              "      </script>\n",
              "    </div>\n",
              "  </div>\n",
              "  "
            ]
          },
          "metadata": {},
          "execution_count": 3
        }
      ]
    },
    {
      "cell_type": "code",
      "source": [
        "gl.info"
      ],
      "metadata": {
        "id": "anvItYIsFdhG",
        "colab": {
          "base_uri": "https://localhost:8080/"
        },
        "outputId": "dda42d32-5ab6-4e24-b450-f42d32f82950"
      },
      "execution_count": null,
      "outputs": [
        {
          "output_type": "execute_result",
          "data": {
            "text/plain": [
              "<bound method DataFrame.info of      serial     player_name         club    position  goals  right_foot  \\\n",
              "0         1         Benzema  Real Madrid     Forward     15          11   \n",
              "1         2     Lewandowski       Bayern     Forward     13           8   \n",
              "2         3          Haller         Ajax     Forward     11           3   \n",
              "3         4           Salah    Liverpool     Forward      8           0   \n",
              "4         5          Nkunku      Leipzig  Midfielder      7           3   \n",
              "..      ...             ...          ...         ...    ...         ...   \n",
              "178      73         Yansané      Sheriff     Forward      1           0   \n",
              "179      73     Yakhshiboev      Sheriff     Forward      1           0   \n",
              "180      73  Messias Junior        Milan     Forward      1           0   \n",
              "181      73          Morato      Benfica    Defender      1           0   \n",
              "182      73     Pedro Porro  Sporting CP    Defender      1           0   \n",
              "\n",
              "     left_foot  headers  others  inside_area  outside_areas  penalties  \\\n",
              "0            1        3       0           13              2          3   \n",
              "1            3        1       1           13              0          3   \n",
              "2            4        3       1           11              0          1   \n",
              "3            8        0       0            7              1          1   \n",
              "4            1        3       0            7              0          0   \n",
              "..         ...      ...     ...          ...            ...        ...   \n",
              "178          0        1       0            1              0          0   \n",
              "179          0        1       0            1              0          0   \n",
              "180          0        1       0            1              0          0   \n",
              "181          0        1       0            1              0          0   \n",
              "182          0        0       1            1              0          0   \n",
              "\n",
              "     match_played  \n",
              "0              12  \n",
              "1              10  \n",
              "2               8  \n",
              "3              13  \n",
              "4               6  \n",
              "..            ...  \n",
              "178             3  \n",
              "179             3  \n",
              "180             2  \n",
              "181             2  \n",
              "182             7  \n",
              "\n",
              "[183 rows x 13 columns]>"
            ]
          },
          "metadata": {},
          "execution_count": 4
        }
      ]
    },
    {
      "cell_type": "code",
      "source": [
        "gl.describe()"
      ],
      "metadata": {
        "id": "tcvtqtC8FfPd",
        "colab": {
          "base_uri": "https://localhost:8080/",
          "height": 300
        },
        "outputId": "4e0dc540-d411-4a10-b3e1-301af0ca2460"
      },
      "execution_count": null,
      "outputs": [
        {
          "output_type": "execute_result",
          "data": {
            "text/plain": [
              "           serial       goals  right_foot   left_foot     headers      others  \\\n",
              "count  183.000000  183.000000  183.000000  183.000000  183.000000  183.000000   \n",
              "mean    55.016393    2.021858    0.972678    0.693989    0.327869    0.021858   \n",
              "std     24.173929    2.005367    1.400281    1.140810    0.612722    0.146621   \n",
              "min      1.000000    1.000000    0.000000    0.000000    0.000000    0.000000   \n",
              "25%     43.000000    1.000000    0.000000    0.000000    0.000000    0.000000   \n",
              "50%     73.000000    1.000000    1.000000    0.000000    0.000000    0.000000   \n",
              "75%     73.000000    2.000000    1.000000    1.000000    1.000000    0.000000   \n",
              "max     73.000000   15.000000   11.000000    8.000000    3.000000    1.000000   \n",
              "\n",
              "       inside_area  outside_areas   penalties  match_played  \n",
              "count   183.000000     183.000000  183.000000    183.000000  \n",
              "mean      1.814208       0.207650    0.196721      6.841530  \n",
              "std       1.923943       0.514137    0.549315      2.568196  \n",
              "min       0.000000       0.000000    0.000000      1.000000  \n",
              "25%       1.000000       0.000000    0.000000      5.000000  \n",
              "50%       1.000000       0.000000    0.000000      6.000000  \n",
              "75%       2.000000       0.000000    0.000000      8.000000  \n",
              "max      13.000000       3.000000    3.000000     13.000000  "
            ],
            "text/html": [
              "\n",
              "  <div id=\"df-fc89d3cd-af31-4baa-94ce-ad961057cfb3\">\n",
              "    <div class=\"colab-df-container\">\n",
              "      <div>\n",
              "<style scoped>\n",
              "    .dataframe tbody tr th:only-of-type {\n",
              "        vertical-align: middle;\n",
              "    }\n",
              "\n",
              "    .dataframe tbody tr th {\n",
              "        vertical-align: top;\n",
              "    }\n",
              "\n",
              "    .dataframe thead th {\n",
              "        text-align: right;\n",
              "    }\n",
              "</style>\n",
              "<table border=\"1\" class=\"dataframe\">\n",
              "  <thead>\n",
              "    <tr style=\"text-align: right;\">\n",
              "      <th></th>\n",
              "      <th>serial</th>\n",
              "      <th>goals</th>\n",
              "      <th>right_foot</th>\n",
              "      <th>left_foot</th>\n",
              "      <th>headers</th>\n",
              "      <th>others</th>\n",
              "      <th>inside_area</th>\n",
              "      <th>outside_areas</th>\n",
              "      <th>penalties</th>\n",
              "      <th>match_played</th>\n",
              "    </tr>\n",
              "  </thead>\n",
              "  <tbody>\n",
              "    <tr>\n",
              "      <th>count</th>\n",
              "      <td>183.000000</td>\n",
              "      <td>183.000000</td>\n",
              "      <td>183.000000</td>\n",
              "      <td>183.000000</td>\n",
              "      <td>183.000000</td>\n",
              "      <td>183.000000</td>\n",
              "      <td>183.000000</td>\n",
              "      <td>183.000000</td>\n",
              "      <td>183.000000</td>\n",
              "      <td>183.000000</td>\n",
              "    </tr>\n",
              "    <tr>\n",
              "      <th>mean</th>\n",
              "      <td>55.016393</td>\n",
              "      <td>2.021858</td>\n",
              "      <td>0.972678</td>\n",
              "      <td>0.693989</td>\n",
              "      <td>0.327869</td>\n",
              "      <td>0.021858</td>\n",
              "      <td>1.814208</td>\n",
              "      <td>0.207650</td>\n",
              "      <td>0.196721</td>\n",
              "      <td>6.841530</td>\n",
              "    </tr>\n",
              "    <tr>\n",
              "      <th>std</th>\n",
              "      <td>24.173929</td>\n",
              "      <td>2.005367</td>\n",
              "      <td>1.400281</td>\n",
              "      <td>1.140810</td>\n",
              "      <td>0.612722</td>\n",
              "      <td>0.146621</td>\n",
              "      <td>1.923943</td>\n",
              "      <td>0.514137</td>\n",
              "      <td>0.549315</td>\n",
              "      <td>2.568196</td>\n",
              "    </tr>\n",
              "    <tr>\n",
              "      <th>min</th>\n",
              "      <td>1.000000</td>\n",
              "      <td>1.000000</td>\n",
              "      <td>0.000000</td>\n",
              "      <td>0.000000</td>\n",
              "      <td>0.000000</td>\n",
              "      <td>0.000000</td>\n",
              "      <td>0.000000</td>\n",
              "      <td>0.000000</td>\n",
              "      <td>0.000000</td>\n",
              "      <td>1.000000</td>\n",
              "    </tr>\n",
              "    <tr>\n",
              "      <th>25%</th>\n",
              "      <td>43.000000</td>\n",
              "      <td>1.000000</td>\n",
              "      <td>0.000000</td>\n",
              "      <td>0.000000</td>\n",
              "      <td>0.000000</td>\n",
              "      <td>0.000000</td>\n",
              "      <td>1.000000</td>\n",
              "      <td>0.000000</td>\n",
              "      <td>0.000000</td>\n",
              "      <td>5.000000</td>\n",
              "    </tr>\n",
              "    <tr>\n",
              "      <th>50%</th>\n",
              "      <td>73.000000</td>\n",
              "      <td>1.000000</td>\n",
              "      <td>1.000000</td>\n",
              "      <td>0.000000</td>\n",
              "      <td>0.000000</td>\n",
              "      <td>0.000000</td>\n",
              "      <td>1.000000</td>\n",
              "      <td>0.000000</td>\n",
              "      <td>0.000000</td>\n",
              "      <td>6.000000</td>\n",
              "    </tr>\n",
              "    <tr>\n",
              "      <th>75%</th>\n",
              "      <td>73.000000</td>\n",
              "      <td>2.000000</td>\n",
              "      <td>1.000000</td>\n",
              "      <td>1.000000</td>\n",
              "      <td>1.000000</td>\n",
              "      <td>0.000000</td>\n",
              "      <td>2.000000</td>\n",
              "      <td>0.000000</td>\n",
              "      <td>0.000000</td>\n",
              "      <td>8.000000</td>\n",
              "    </tr>\n",
              "    <tr>\n",
              "      <th>max</th>\n",
              "      <td>73.000000</td>\n",
              "      <td>15.000000</td>\n",
              "      <td>11.000000</td>\n",
              "      <td>8.000000</td>\n",
              "      <td>3.000000</td>\n",
              "      <td>1.000000</td>\n",
              "      <td>13.000000</td>\n",
              "      <td>3.000000</td>\n",
              "      <td>3.000000</td>\n",
              "      <td>13.000000</td>\n",
              "    </tr>\n",
              "  </tbody>\n",
              "</table>\n",
              "</div>\n",
              "      <button class=\"colab-df-convert\" onclick=\"convertToInteractive('df-fc89d3cd-af31-4baa-94ce-ad961057cfb3')\"\n",
              "              title=\"Convert this dataframe to an interactive table.\"\n",
              "              style=\"display:none;\">\n",
              "        \n",
              "  <svg xmlns=\"http://www.w3.org/2000/svg\" height=\"24px\"viewBox=\"0 0 24 24\"\n",
              "       width=\"24px\">\n",
              "    <path d=\"M0 0h24v24H0V0z\" fill=\"none\"/>\n",
              "    <path d=\"M18.56 5.44l.94 2.06.94-2.06 2.06-.94-2.06-.94-.94-2.06-.94 2.06-2.06.94zm-11 1L8.5 8.5l.94-2.06 2.06-.94-2.06-.94L8.5 2.5l-.94 2.06-2.06.94zm10 10l.94 2.06.94-2.06 2.06-.94-2.06-.94-.94-2.06-.94 2.06-2.06.94z\"/><path d=\"M17.41 7.96l-1.37-1.37c-.4-.4-.92-.59-1.43-.59-.52 0-1.04.2-1.43.59L10.3 9.45l-7.72 7.72c-.78.78-.78 2.05 0 2.83L4 21.41c.39.39.9.59 1.41.59.51 0 1.02-.2 1.41-.59l7.78-7.78 2.81-2.81c.8-.78.8-2.07 0-2.86zM5.41 20L4 18.59l7.72-7.72 1.47 1.35L5.41 20z\"/>\n",
              "  </svg>\n",
              "      </button>\n",
              "      \n",
              "  <style>\n",
              "    .colab-df-container {\n",
              "      display:flex;\n",
              "      flex-wrap:wrap;\n",
              "      gap: 12px;\n",
              "    }\n",
              "\n",
              "    .colab-df-convert {\n",
              "      background-color: #E8F0FE;\n",
              "      border: none;\n",
              "      border-radius: 50%;\n",
              "      cursor: pointer;\n",
              "      display: none;\n",
              "      fill: #1967D2;\n",
              "      height: 32px;\n",
              "      padding: 0 0 0 0;\n",
              "      width: 32px;\n",
              "    }\n",
              "\n",
              "    .colab-df-convert:hover {\n",
              "      background-color: #E2EBFA;\n",
              "      box-shadow: 0px 1px 2px rgba(60, 64, 67, 0.3), 0px 1px 3px 1px rgba(60, 64, 67, 0.15);\n",
              "      fill: #174EA6;\n",
              "    }\n",
              "\n",
              "    [theme=dark] .colab-df-convert {\n",
              "      background-color: #3B4455;\n",
              "      fill: #D2E3FC;\n",
              "    }\n",
              "\n",
              "    [theme=dark] .colab-df-convert:hover {\n",
              "      background-color: #434B5C;\n",
              "      box-shadow: 0px 1px 3px 1px rgba(0, 0, 0, 0.15);\n",
              "      filter: drop-shadow(0px 1px 2px rgba(0, 0, 0, 0.3));\n",
              "      fill: #FFFFFF;\n",
              "    }\n",
              "  </style>\n",
              "\n",
              "      <script>\n",
              "        const buttonEl =\n",
              "          document.querySelector('#df-fc89d3cd-af31-4baa-94ce-ad961057cfb3 button.colab-df-convert');\n",
              "        buttonEl.style.display =\n",
              "          google.colab.kernel.accessAllowed ? 'block' : 'none';\n",
              "\n",
              "        async function convertToInteractive(key) {\n",
              "          const element = document.querySelector('#df-fc89d3cd-af31-4baa-94ce-ad961057cfb3');\n",
              "          const dataTable =\n",
              "            await google.colab.kernel.invokeFunction('convertToInteractive',\n",
              "                                                     [key], {});\n",
              "          if (!dataTable) return;\n",
              "\n",
              "          const docLinkHtml = 'Like what you see? Visit the ' +\n",
              "            '<a target=\"_blank\" href=https://colab.research.google.com/notebooks/data_table.ipynb>data table notebook</a>'\n",
              "            + ' to learn more about interactive tables.';\n",
              "          element.innerHTML = '';\n",
              "          dataTable['output_type'] = 'display_data';\n",
              "          await google.colab.output.renderOutput(dataTable, element);\n",
              "          const docLink = document.createElement('div');\n",
              "          docLink.innerHTML = docLinkHtml;\n",
              "          element.appendChild(docLink);\n",
              "        }\n",
              "      </script>\n",
              "    </div>\n",
              "  </div>\n",
              "  "
            ]
          },
          "metadata": {},
          "execution_count": 5
        }
      ]
    },
    {
      "cell_type": "code",
      "source": [
        "gl.isna().sum()"
      ],
      "metadata": {
        "id": "Aw7z0Yz6FiSW",
        "colab": {
          "base_uri": "https://localhost:8080/"
        },
        "outputId": "ff9934f8-aa72-4f14-e287-1f8436c50d59"
      },
      "execution_count": null,
      "outputs": [
        {
          "output_type": "execute_result",
          "data": {
            "text/plain": [
              "serial           0\n",
              "player_name      0\n",
              "club             0\n",
              "position         0\n",
              "goals            0\n",
              "right_foot       0\n",
              "left_foot        0\n",
              "headers          0\n",
              "others           0\n",
              "inside_area      0\n",
              "outside_areas    0\n",
              "penalties        0\n",
              "match_played     0\n",
              "dtype: int64"
            ]
          },
          "metadata": {},
          "execution_count": 6
        }
      ]
    },
    {
      "cell_type": "code",
      "source": [
        "gl.nunique()"
      ],
      "metadata": {
        "colab": {
          "base_uri": "https://localhost:8080/"
        },
        "id": "QrAsusQrFzw5",
        "outputId": "bcfa9f58-fa75-458a-ac62-eeaca308669c"
      },
      "execution_count": null,
      "outputs": [
        {
          "output_type": "execute_result",
          "data": {
            "text/plain": [
              "serial            11\n",
              "player_name      183\n",
              "club              32\n",
              "position           3\n",
              "goals             11\n",
              "right_foot         9\n",
              "left_foot          7\n",
              "headers            4\n",
              "others             2\n",
              "inside_area       10\n",
              "outside_areas      4\n",
              "penalties          4\n",
              "match_played      13\n",
              "dtype: int64"
            ]
          },
          "metadata": {},
          "execution_count": 7
        }
      ]
    },
    {
      "cell_type": "markdown",
      "source": [
        "**Observation:**\n",
        "We have 183 unique players from 32 different clubs.\n",
        "There are 3 unique positions that have scored atleast one goal. \n",
        "\n",
        "Most of the goals are scored from the inside area."
      ],
      "metadata": {
        "id": "Kf0WiHamF3t9"
      }
    },
    {
      "cell_type": "markdown",
      "source": [
        "There are no missing and null values in my dataset."
      ],
      "metadata": {
        "id": "Hcr4aWxsFyF9"
      }
    },
    {
      "cell_type": "markdown",
      "source": [
        "###### **Data Normalization using MinMaxScaler.**"
      ],
      "metadata": {
        "id": "Kx8vdsNqIACv"
      }
    },
    {
      "cell_type": "code",
      "source": [
        "from sklearn.preprocessing import MinMaxScaler, OneHotEncoder\n",
        "import pandas as pd\n",
        "import numpy as np\n",
        "\n",
        "data = gl.drop(['serial','player_name','club','position'], axis = 1)\n",
        "scaler = MinMaxScaler(feature_range = (0,1))\n",
        "normalizedData = scaler.fit_transform(data.values.reshape(-1,1))\n",
        "encoder = OneHotEncoder(categories='auto',sparse=False)\n",
        "encodedData = encoder.fit_transform(normalizedData.reshape(-1,1))\n",
        "print(encodedData)"
      ],
      "metadata": {
        "colab": {
          "base_uri": "https://localhost:8080/"
        },
        "id": "tSw5xoT8FxEG",
        "outputId": "d5961550-6ede-470a-fe80-1d4863df1a33"
      },
      "execution_count": null,
      "outputs": [
        {
          "output_type": "stream",
          "name": "stdout",
          "text": [
            "[[0. 0. 0. ... 0. 0. 1.]\n",
            " [0. 0. 0. ... 0. 0. 0.]\n",
            " [0. 1. 0. ... 0. 0. 0.]\n",
            " ...\n",
            " [1. 0. 0. ... 0. 0. 0.]\n",
            " [1. 0. 0. ... 0. 0. 0.]\n",
            " [0. 0. 0. ... 0. 0. 0.]]\n"
          ]
        }
      ]
    },
    {
      "cell_type": "code",
      "source": [
        "min = scaler.data_min_\n",
        "print(min)"
      ],
      "metadata": {
        "colab": {
          "base_uri": "https://localhost:8080/"
        },
        "id": "q0aeTDJ-LAFS",
        "outputId": "654ebb53-4a63-4bc0-a007-5b0fb345a8a8"
      },
      "execution_count": null,
      "outputs": [
        {
          "output_type": "stream",
          "name": "stdout",
          "text": [
            "[0.]\n"
          ]
        }
      ]
    },
    {
      "cell_type": "code",
      "source": [
        "max = scaler.data_max_\n",
        "print(max)"
      ],
      "metadata": {
        "colab": {
          "base_uri": "https://localhost:8080/"
        },
        "id": "FoCrx3ibLq-3",
        "outputId": "29dd9b18-dae5-49be-9a97-49befe9a9ea7"
      },
      "execution_count": null,
      "outputs": [
        {
          "output_type": "stream",
          "name": "stdout",
          "text": [
            "[15.]\n"
          ]
        }
      ]
    },
    {
      "cell_type": "markdown",
      "source": [
        "##### Apply KNN for the preprocessed dataset use 5 different K Values and 3 different distance measures"
      ],
      "metadata": {
        "id": "ybPZxur5Mm3S"
      }
    },
    {
      "cell_type": "markdown",
      "source": [
        "\n",
        "\n",
        "1.   K = 5 and distance measures, p=2. \n"
      ],
      "metadata": {
        "id": "j37GmQP6NifT"
      }
    },
    {
      "cell_type": "code",
      "source": [
        "# Importing the dataset\n",
        "dataset = gl\n",
        "X = dataset.iloc[:, [9, 10]].values\n",
        "y = dataset['goals'].values\n",
        "\n",
        "# Splitting the dataset into the Training set and Test set\n",
        "from sklearn.model_selection import train_test_split\n",
        "X_train, X_test, y_train, y_test = train_test_split(X, y, test_size = 0.20, random_state = 0)\n",
        "\n",
        "# Feature Scaling\n",
        "from sklearn.preprocessing import StandardScaler\n",
        "sc = StandardScaler()\n",
        "X_train = sc.fit_transform(X_train)\n",
        "X_test = sc.transform(X_test)\n",
        "\n",
        "# Training the K-NN model on the Training set\n",
        "from sklearn.neighbors import KNeighborsClassifier\n",
        "classifier = KNeighborsClassifier(n_neighbors = 5, metric = 'euclidean', p = 2)\n",
        "classifier.fit(X_train, y_train)\n",
        "\n",
        "# Predicting the Test set results\n",
        "y_pred = classifier.predict(X_test)\n",
        "\n",
        "# Making the Confusion Matrix\n",
        "from sklearn.metrics import confusion_matrix, accuracy_score\n",
        "cm = confusion_matrix(y_test, y_pred)\n",
        "ac = accuracy_score(y_test, y_pred)\n",
        "print(cm)\n",
        "print(\"\\n\")\n",
        "print(ac)\n"
      ],
      "metadata": {
        "colab": {
          "base_uri": "https://localhost:8080/"
        },
        "id": "J4lcLBigMBEb",
        "outputId": "e994b330-179f-4825-d6f5-db277942da45"
      },
      "execution_count": null,
      "outputs": [
        {
          "output_type": "stream",
          "name": "stdout",
          "text": [
            "[[22  0  0  0  0  0  0]\n",
            " [ 0  7  0  0  0  0  0]\n",
            " [ 0  1  2  0  0  0  0]\n",
            " [ 0  0  0  1  0  0  0]\n",
            " [ 0  0  0  0  0  0  0]\n",
            " [ 0  0  0  0  2  0  0]\n",
            " [ 0  0  0  0  2  0  0]]\n",
            "\n",
            "\n",
            "0.8648648648648649\n"
          ]
        }
      ]
    },
    {
      "cell_type": "markdown",
      "source": [
        "\n",
        "\n",
        "2.   K = **6** and distance measures, p=2. \n",
        "\n"
      ],
      "metadata": {
        "id": "4vAZGo5KOCMe"
      }
    },
    {
      "cell_type": "code",
      "source": [
        "# Training the K-NN model on the Training set\n",
        "from sklearn.neighbors import KNeighborsClassifier\n",
        "classifier = KNeighborsClassifier(n_neighbors = 6, metric = 'minkowski', p = 2)\n",
        "classifier.fit(X_train, y_train)\n",
        "\n",
        "# Predicting the Test set results\n",
        "y_pred = classifier.predict(X_test)\n",
        "\n",
        "# Making the Confusion Matrix\n",
        "from sklearn.metrics import confusion_matrix, accuracy_score\n",
        "cm = confusion_matrix(y_test, y_pred)\n",
        "ac = accuracy_score(y_test, y_pred)\n",
        "print(cm)\n",
        "print(\"\\n\",ac)"
      ],
      "metadata": {
        "colab": {
          "base_uri": "https://localhost:8080/"
        },
        "id": "XwwPieMRNMN8",
        "outputId": "f169c128-01bd-49d1-ab36-cc684a07cc1b"
      },
      "execution_count": null,
      "outputs": [
        {
          "output_type": "stream",
          "name": "stdout",
          "text": [
            "[[22  0  0  0  0  0]\n",
            " [ 0  7  0  0  0  0]\n",
            " [ 0  1  2  0  0  0]\n",
            " [ 0  0  0  1  0  0]\n",
            " [ 0  0  0  2  0  0]\n",
            " [ 0  0  0  2  0  0]]\n",
            "\n",
            " 0.8648648648648649\n"
          ]
        }
      ]
    },
    {
      "cell_type": "markdown",
      "source": [
        "3. K = 7 and distance measures, p=3. "
      ],
      "metadata": {
        "id": "Rj0JouUqOM6C"
      }
    },
    {
      "cell_type": "code",
      "source": [
        "# Training the K-NN model on the Training set\n",
        "from sklearn.neighbors import KNeighborsClassifier\n",
        "classifier = KNeighborsClassifier(n_neighbors = 6, metric = 'minkowski', p = 2)\n",
        "classifier.fit(X_train, y_train)\n",
        "\n",
        "# Predicting the Test set results\n",
        "y_pred = classifier.predict(X_test)\n",
        "\n",
        "# Making the Confusion Matrix\n",
        "from sklearn.metrics import confusion_matrix, accuracy_score\n",
        "cm = confusion_matrix(y_test, y_pred)\n",
        "ac = accuracy_score(y_test, y_pred)\n",
        "print(cm)\n",
        "print(\"\\n\",ac)"
      ],
      "metadata": {
        "colab": {
          "base_uri": "https://localhost:8080/"
        },
        "id": "8m3JHl75OfaO",
        "outputId": "56f0db70-6b1a-403a-99ff-d22da43f99f4"
      },
      "execution_count": null,
      "outputs": [
        {
          "output_type": "stream",
          "name": "stdout",
          "text": [
            "[[22  0  0  0  0  0]\n",
            " [ 0  7  0  0  0  0]\n",
            " [ 0  1  2  0  0  0]\n",
            " [ 0  0  0  1  0  0]\n",
            " [ 0  0  0  2  0  0]\n",
            " [ 0  0  0  2  0  0]]\n",
            "\n",
            " 0.8648648648648649\n"
          ]
        }
      ]
    },
    {
      "cell_type": "markdown",
      "source": [
        "\n",
        "\n",
        "4.   K = 8 and distance measures, p=3.\n",
        "\n"
      ],
      "metadata": {
        "id": "o2yZ7AMzORU6"
      }
    },
    {
      "cell_type": "code",
      "source": [
        "# Training the K-NN model on the Training set\n",
        "from sklearn.neighbors import KNeighborsClassifier\n",
        "classifier = KNeighborsClassifier(n_neighbors = 6, metric = 'minkowski', p = 2)\n",
        "classifier.fit(X_train, y_train)\n",
        "\n",
        "# Predicting the Test set results\n",
        "y_pred = classifier.predict(X_test)\n",
        "\n",
        "# Making the Confusion Matrix\n",
        "from sklearn.metrics import confusion_matrix, accuracy_score\n",
        "cm = confusion_matrix(y_test, y_pred)\n",
        "ac = accuracy_score(y_test, y_pred)\n",
        "print(cm)\n",
        "print(ac)"
      ],
      "metadata": {
        "colab": {
          "base_uri": "https://localhost:8080/"
        },
        "id": "9YGjsa5NOg4A",
        "outputId": "c4d68e9b-e7f7-45f6-ef85-adb3150f1875"
      },
      "execution_count": null,
      "outputs": [
        {
          "output_type": "stream",
          "name": "stdout",
          "text": [
            "[[22  0  0  0  0  0]\n",
            " [ 0  7  0  0  0  0]\n",
            " [ 0  1  2  0  0  0]\n",
            " [ 0  0  0  1  0  0]\n",
            " [ 0  0  0  2  0  0]\n",
            " [ 0  0  0  2  0  0]]\n",
            "0.8648648648648649\n"
          ]
        }
      ]
    },
    {
      "cell_type": "markdown",
      "source": [
        "5.   K = 11 and distance measures, p=4.\n",
        "\n"
      ],
      "metadata": {
        "id": "3FNmveqzOWya"
      }
    },
    {
      "cell_type": "code",
      "source": [
        "# Training the K-NN model on the Training set\n",
        "from sklearn.neighbors import KNeighborsClassifier\n",
        "classifier = KNeighborsClassifier(n_neighbors = 11, metric = 'minkowski', p = 2)\n",
        "classifier.fit(X_train, y_train)\n",
        "\n",
        "# Predicting the Test set results\n",
        "y_pred = classifier.predict(X_test)\n",
        "\n",
        "# Making the Confusion Matrix\n",
        "from sklearn.metrics import confusion_matrix, accuracy_score\n",
        "cm = confusion_matrix(y_test, y_pred)\n",
        "ac = accuracy_score(y_test, y_pred)\n",
        "print(cm)\n",
        "print(\"\\n\",ac)"
      ],
      "metadata": {
        "colab": {
          "base_uri": "https://localhost:8080/"
        },
        "id": "twqQ_T1yOifS",
        "outputId": "da8c88a3-6980-4218-c067-2999c4208042"
      },
      "execution_count": null,
      "outputs": [
        {
          "output_type": "stream",
          "name": "stdout",
          "text": [
            "[[22  0  0  0  0  0]\n",
            " [ 0  7  0  0  0  0]\n",
            " [ 1  0  2  0  0  0]\n",
            " [ 0  0  1  0  0  0]\n",
            " [ 0  1  0  1  0  0]\n",
            " [ 0  0  0  2  0  0]]\n",
            "\n",
            " 0.8378378378378378\n"
          ]
        }
      ]
    },
    {
      "cell_type": "code",
      "source": [
        "# Training the K-NN model on the Training set\n",
        "from sklearn.neighbors import KNeighborsClassifier\n",
        "classifier = KNeighborsClassifier(n_neighbors = 30, metric = 'euclidean', p = 2)\n",
        "classifier.fit(X_train, y_train)\n",
        "\n",
        "# Predicting the Test set results\n",
        "y_pred = classifier.predict(X_test)\n",
        "\n",
        "# Making the Confusion Matrix\n",
        "from sklearn.metrics import confusion_matrix, accuracy_score\n",
        "cm = confusion_matrix(y_test, y_pred)\n",
        "ac = accuracy_score(y_test, y_pred)\n",
        "print(cm)\n",
        "print(\"\\n\",ac)"
      ],
      "metadata": {
        "colab": {
          "base_uri": "https://localhost:8080/"
        },
        "id": "iRqIquCvB9hG",
        "outputId": "c2798093-abac-4d55-aea5-baec57cadb10"
      },
      "execution_count": null,
      "outputs": [
        {
          "output_type": "stream",
          "name": "stdout",
          "text": [
            "[[22  0  0  0  0  0]\n",
            " [ 0  7  0  0  0  0]\n",
            " [ 1  2  0  0  0  0]\n",
            " [ 0  0  1  0  0  0]\n",
            " [ 1  0  1  0  0  0]\n",
            " [ 0  0  2  0  0  0]]\n",
            "\n",
            " 0.7837837837837838\n"
          ]
        }
      ]
    },
    {
      "cell_type": "markdown",
      "source": [
        "**Observation:**\n",
        "Our KNN model has 0.86 accuracy which shows it is performing well."
      ],
      "metadata": {
        "id": "kc_UUBMkOnwJ"
      }
    },
    {
      "cell_type": "markdown",
      "source": [
        "**Classification report:**"
      ],
      "metadata": {
        "id": "5ZzpgoYZPLqX"
      }
    },
    {
      "cell_type": "code",
      "source": [
        "from sklearn.model_selection import train_test_split\n",
        "from sklearn.linear_model import LogisticRegression\n",
        "from sklearn.metrics import classification_report"
      ],
      "metadata": {
        "id": "CN14m3qJNVBj"
      },
      "execution_count": null,
      "outputs": []
    },
    {
      "cell_type": "code",
      "source": [
        "#define the predictor variables and the response variable\n",
        "X = dataset[['inside_area', 'outside_areas']]\n",
        "y = dataset['goals']\n",
        "\n",
        "#split the dataset into training (70%) and testing (30%) sets\n",
        "X_train,X_test,y_train,y_test = train_test_split(X,y,test_size=0.3,random_state=0)  \n",
        "\n",
        "#instantiate the model\n",
        "logistic_regression = LogisticRegression()\n",
        "\n",
        "#fit the model using the training data\n",
        "logistic_regression.fit(X_train,y_train)\n",
        "\n",
        "#use model to make predictions on test data\n",
        "y_pred = logistic_regression.predict(X_test)"
      ],
      "metadata": {
        "colab": {
          "base_uri": "https://localhost:8080/"
        },
        "id": "849oWQJkPaYX",
        "outputId": "3c2eee01-592c-4851-fc7a-157ed524f514"
      },
      "execution_count": null,
      "outputs": [
        {
          "output_type": "stream",
          "name": "stderr",
          "text": [
            "/usr/local/lib/python3.7/dist-packages/sklearn/linear_model/_logistic.py:818: ConvergenceWarning: lbfgs failed to converge (status=1):\n",
            "STOP: TOTAL NO. of ITERATIONS REACHED LIMIT.\n",
            "\n",
            "Increase the number of iterations (max_iter) or scale the data as shown in:\n",
            "    https://scikit-learn.org/stable/modules/preprocessing.html\n",
            "Please also refer to the documentation for alternative solver options:\n",
            "    https://scikit-learn.org/stable/modules/linear_model.html#logistic-regression\n",
            "  extra_warning_msg=_LOGISTIC_SOLVER_CONVERGENCE_MSG,\n"
          ]
        }
      ]
    },
    {
      "cell_type": "code",
      "source": [
        "#print classification report for model\n",
        "print(classification_report(y_test, y_pred))"
      ],
      "metadata": {
        "colab": {
          "base_uri": "https://localhost:8080/"
        },
        "id": "zaX9K8NZPuty",
        "outputId": "78b9597b-031d-47a9-90cc-514ef06c7bb1"
      },
      "execution_count": null,
      "outputs": [
        {
          "output_type": "stream",
          "name": "stdout",
          "text": [
            "              precision    recall  f1-score   support\n",
            "\n",
            "           1       0.97      1.00      0.98        32\n",
            "           2       0.91      0.91      0.91        11\n",
            "           3       0.57      0.80      0.67         5\n",
            "           4       0.00      0.00      0.00         3\n",
            "           5       0.00      0.00      0.00         0\n",
            "           6       0.00      0.00      0.00         2\n",
            "           7       0.00      0.00      0.00         2\n",
            "\n",
            "    accuracy                           0.84        55\n",
            "   macro avg       0.35      0.39      0.37        55\n",
            "weighted avg       0.80      0.84      0.82        55\n",
            "\n"
          ]
        },
        {
          "output_type": "stream",
          "name": "stderr",
          "text": [
            "/usr/local/lib/python3.7/dist-packages/sklearn/metrics/_classification.py:1318: UndefinedMetricWarning: Precision and F-score are ill-defined and being set to 0.0 in labels with no predicted samples. Use `zero_division` parameter to control this behavior.\n",
            "  _warn_prf(average, modifier, msg_start, len(result))\n",
            "/usr/local/lib/python3.7/dist-packages/sklearn/metrics/_classification.py:1318: UndefinedMetricWarning: Recall and F-score are ill-defined and being set to 0.0 in labels with no true samples. Use `zero_division` parameter to control this behavior.\n",
            "  _warn_prf(average, modifier, msg_start, len(result))\n",
            "/usr/local/lib/python3.7/dist-packages/sklearn/metrics/_classification.py:1318: UndefinedMetricWarning: Precision and F-score are ill-defined and being set to 0.0 in labels with no predicted samples. Use `zero_division` parameter to control this behavior.\n",
            "  _warn_prf(average, modifier, msg_start, len(result))\n",
            "/usr/local/lib/python3.7/dist-packages/sklearn/metrics/_classification.py:1318: UndefinedMetricWarning: Recall and F-score are ill-defined and being set to 0.0 in labels with no true samples. Use `zero_division` parameter to control this behavior.\n",
            "  _warn_prf(average, modifier, msg_start, len(result))\n",
            "/usr/local/lib/python3.7/dist-packages/sklearn/metrics/_classification.py:1318: UndefinedMetricWarning: Precision and F-score are ill-defined and being set to 0.0 in labels with no predicted samples. Use `zero_division` parameter to control this behavior.\n",
            "  _warn_prf(average, modifier, msg_start, len(result))\n",
            "/usr/local/lib/python3.7/dist-packages/sklearn/metrics/_classification.py:1318: UndefinedMetricWarning: Recall and F-score are ill-defined and being set to 0.0 in labels with no true samples. Use `zero_division` parameter to control this behavior.\n",
            "  _warn_prf(average, modifier, msg_start, len(result))\n"
          ]
        }
      ]
    },
    {
      "cell_type": "markdown",
      "source": [
        "Precision: Out of all the players that the model predicted would score a goal, 97% actually did.\n",
        "2 goals 91% did.\n",
        "3 goals only 57% scored.\n",
        "\n",
        "Recall: Out of all the players that actually did score a goal, the model predicted this outcome correctly for 100% of those players.\n",
        "2 goals prediction 91%.\n",
        "3 goals prediction 80%.\n",
        "\n",
        "F1 Score: This value is calculated as:\n",
        "\n",
        "F1 Score: 2 * (Precision * Recall) / (Precision + Recall)\n",
        "\n",
        "F1 Score: 2 * (.97 * .10) / (.96 + 1.0)\n",
        "\n",
        "F1 Score: 0.98.\n",
        "\n",
        "Since this value is very close to 1, it tells us that the model does a good job of predicting whether or not players will score a goal.\n",
        "\n",
        "Support: These values simply tell us how many players belonged to each class in the test dataset. We can see that among the players in the test dataset, 32 scored 1 goal, 11 scored 2 goals, 5 of them scored 3 goals, 3 of them scored 4 goals, and there are 2-2 players scoring 6 and 7 goals respectively."
      ],
      "metadata": {
        "id": "sQo28a9gP-_G"
      }
    },
    {
      "cell_type": "markdown",
      "source": [
        "# Lab 3:\n",
        "##### Apply Naïve Bayes Classification of the same dataset and compare using the results found."
      ],
      "metadata": {
        "id": "DBO5IyFzXDxt"
      }
    },
    {
      "cell_type": "markdown",
      "source": [
        "Goals scored from inside area."
      ],
      "metadata": {
        "id": "debn6VcFaz8L"
      }
    },
    {
      "cell_type": "code",
      "source": [
        "from sklearn.naive_bayes import GaussianNB\n",
        "\n",
        "# Importing the dataset\n",
        "dataset = gl\n",
        "X = dataset.iloc[:, [9]].values\n",
        "y = dataset['goals'].values\n",
        "\n",
        "# Splitting the dataset into the Training set and Test set\n",
        "from sklearn.model_selection import train_test_split\n",
        "X_train, X_test, y_train, y_test = train_test_split(X, y, test_size = 0.20, random_state = 0)\n",
        "\n",
        "gnb = GaussianNB()\n",
        "y_pred = gnb.fit(X_train, y_train).predict(X_test)\n",
        "print(\"Number of goals out from inside area of a total %d points : %d\" % (X_test.shape[0], (y_test != y_pred).sum()))"
      ],
      "metadata": {
        "colab": {
          "base_uri": "https://localhost:8080/"
        },
        "id": "llUPcFZeP2K9",
        "outputId": "76c769b4-2997-43c2-e705-a26aa29e865a"
      },
      "execution_count": null,
      "outputs": [
        {
          "output_type": "stream",
          "name": "stdout",
          "text": [
            "Number of goals out from inside area of a total 37 points : 4\n"
          ]
        }
      ]
    },
    {
      "cell_type": "code",
      "source": [
        "print(\"Naive Bayes score: \",gnb.score(X_test, y_test))"
      ],
      "metadata": {
        "colab": {
          "base_uri": "https://localhost:8080/"
        },
        "id": "WS3c9vglXsfx",
        "outputId": "00e205dd-4058-404a-ec81-93413096621b"
      },
      "execution_count": null,
      "outputs": [
        {
          "output_type": "stream",
          "name": "stdout",
          "text": [
            "Naive Bayes score:  0.8918918918918919\n"
          ]
        }
      ]
    },
    {
      "cell_type": "markdown",
      "source": [
        "**Observation:**\n",
        "\n",
        "The score of Naive Bayes algorithm is 0.89.\n",
        "Almost the same as KNN which gave a score of 0.86.\n",
        "\n",
        "Hence both the algorithm works fine for the dataset. But Naive Bayes works slightly better."
      ],
      "metadata": {
        "id": "Zgid4yqKaLFO"
      }
    },
    {
      "cell_type": "markdown",
      "source": [
        "Goals scored with right foot."
      ],
      "metadata": {
        "id": "vFR556KXazG1"
      }
    },
    {
      "cell_type": "code",
      "source": [
        "X = dataset.iloc[:, [5]].values\n",
        "y = dataset['goals'].values\n",
        "\n",
        "# Splitting the dataset into the Training set and Test set\n",
        "from sklearn.model_selection import train_test_split\n",
        "X_train, X_test, y_train, y_test = train_test_split(X, y, test_size = 0.20, random_state = 0)\n",
        "\n",
        "gnb = GaussianNB()\n",
        "y_pred = gnb.fit(X_train, y_train).predict(X_test)\n",
        "print(\"Number of goals out ,with right foot, of a total %d points : %d\" % (X_test.shape[0], (y_test != y_pred).sum()))"
      ],
      "metadata": {
        "colab": {
          "base_uri": "https://localhost:8080/"
        },
        "id": "8WgwcxFqZ_jC",
        "outputId": "9a909d15-6d3e-4626-b45c-0fb461ed6b88"
      },
      "execution_count": null,
      "outputs": [
        {
          "output_type": "stream",
          "name": "stdout",
          "text": [
            "Number of goals out ,with right foot, of a total 37 points : 26\n"
          ]
        }
      ]
    },
    {
      "cell_type": "code",
      "source": [
        "print(\"Naive Bayes score: \",gnb.score(X_test, y_test))"
      ],
      "metadata": {
        "colab": {
          "base_uri": "https://localhost:8080/"
        },
        "id": "OTRcBOJkbAs1",
        "outputId": "fb4403ea-8bf2-4b66-b85b-7cb9790a7fd5"
      },
      "execution_count": null,
      "outputs": [
        {
          "output_type": "stream",
          "name": "stdout",
          "text": [
            "Naive Bayes score:  0.2972972972972973\n"
          ]
        }
      ]
    },
    {
      "cell_type": "code",
      "source": [
        "X = dataset.iloc[:, [5]].values\n",
        "y = dataset['goals'].values\n",
        "\n",
        "# Splitting the dataset into the Training set and Test set\n",
        "from sklearn.model_selection import train_test_split\n",
        "X_train, X_test, y_train, y_test = train_test_split(X, y, test_size = 0.20, random_state = 0)\n",
        "\n",
        "# Training the K-NN model on the Training set\n",
        "from sklearn.neighbors import KNeighborsClassifier\n",
        "classifier = KNeighborsClassifier(n_neighbors = 6, metric = 'minkowski', p = 2)\n",
        "classifier.fit(X_train, y_train)\n",
        "\n",
        "# Predicting the Test set results\n",
        "y_pred = classifier.predict(X_test)\n",
        "\n",
        "# Making the Confusion Matrix\n",
        "from sklearn.metrics import confusion_matrix, accuracy_score\n",
        "cm = confusion_matrix(y_test, y_pred)\n",
        "ac = accuracy_score(y_test, y_pred)\n",
        "print(cm)\n",
        "print(\"KNN Accuracy: \", ac)"
      ],
      "metadata": {
        "colab": {
          "base_uri": "https://localhost:8080/"
        },
        "id": "9p0ewr6AbEjD",
        "outputId": "59f4ce02-f8bf-4ff7-9015-6f2d7486d403"
      },
      "execution_count": null,
      "outputs": [
        {
          "output_type": "stream",
          "name": "stdout",
          "text": [
            "[[22  0  0  0  0  0]\n",
            " [ 6  1  0  0  0  0]\n",
            " [ 2  1  0  0  0  0]\n",
            " [ 0  0  1  0  0  0]\n",
            " [ 0  0  0  2  0  0]\n",
            " [ 1  0  1  0  0  0]]\n",
            "KNN Accuracy:  0.6216216216216216\n"
          ]
        }
      ]
    },
    {
      "cell_type": "markdown",
      "source": [
        "**Observation:**\n",
        "KNN got a score of 0.62 and Naive Bayes got a score of 0.30, this shows KNN performs better for this classification."
      ],
      "metadata": {
        "id": "OLkk-u-pbYgu"
      }
    },
    {
      "cell_type": "code",
      "source": [],
      "metadata": {
        "id": "LeWhDmLUbVuq"
      },
      "execution_count": null,
      "outputs": []
    }
  ]
}