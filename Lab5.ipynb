{
  "nbformat": 4,
  "nbformat_minor": 0,
  "metadata": {
    "colab": {
      "provenance": [],
      "mount_file_id": "1ixlwUHYlBdUkIaIX-fRUTfQezD5_iHvH",
      "authorship_tag": "ABX9TyOLoTIfQXcHulL7dEx98uxo",
      "include_colab_link": true
    },
    "kernelspec": {
      "name": "python3",
      "display_name": "Python 3"
    },
    "language_info": {
      "name": "python"
    }
  },
  "cells": [
    {
      "cell_type": "markdown",
      "metadata": {
        "id": "view-in-github",
        "colab_type": "text"
      },
      "source": [
        "<a href=\"https://colab.research.google.com/github/AnishaBeck/ML/blob/main/Lab5.ipynb\" target=\"_parent\"><img src=\"https://colab.research.google.com/assets/colab-badge.svg\" alt=\"Open In Colab\"/></a>"
      ]
    },
    {
      "cell_type": "code",
      "execution_count": null,
      "metadata": {
        "id": "Qf9QddDC4uIs"
      },
      "outputs": [],
      "source": [
        "# Importing the libraries  \n",
        "import numpy as nm  \n",
        "import matplotlib.pyplot as ply  \n",
        "import pandas as pd "
      ]
    },
    {
      "cell_type": "code",
      "source": [
        "#importing dataset\n",
        "data = pd.read_csv(\"/content/goals.csv\")"
      ],
      "metadata": {
        "id": "db7ABHi_GKnP"
      },
      "execution_count": null,
      "outputs": []
    },
    {
      "cell_type": "code",
      "source": [
        "data.head()"
      ],
      "metadata": {
        "colab": {
          "base_uri": "https://localhost:8080/",
          "height": 206
        },
        "id": "N2_3SWzQGgz4",
        "outputId": "ce5737ce-991d-41ff-e870-4302581beecc"
      },
      "execution_count": null,
      "outputs": [
        {
          "output_type": "execute_result",
          "data": {
            "text/plain": [
              "   serial  player_name         club    position  goals  right_foot  left_foot  \\\n",
              "0       1      Benzema  Real Madrid     Forward     15          11          1   \n",
              "1       2  Lewandowski       Bayern     Forward     13           8          3   \n",
              "2       3       Haller         Ajax     Forward     11           3          4   \n",
              "3       4        Salah    Liverpool     Forward      8           0          8   \n",
              "4       5       Nkunku      Leipzig  Midfielder      7           3          1   \n",
              "\n",
              "   headers  others  inside_area  outside_areas  penalties  match_played  \n",
              "0        3       0           13              2          3            12  \n",
              "1        1       1           13              0          3            10  \n",
              "2        3       1           11              0          1             8  \n",
              "3        0       0            7              1          1            13  \n",
              "4        3       0            7              0          0             6  "
            ],
            "text/html": [
              "\n",
              "  <div id=\"df-4710f53c-f4dc-455b-9aa0-5a50344e25ec\">\n",
              "    <div class=\"colab-df-container\">\n",
              "      <div>\n",
              "<style scoped>\n",
              "    .dataframe tbody tr th:only-of-type {\n",
              "        vertical-align: middle;\n",
              "    }\n",
              "\n",
              "    .dataframe tbody tr th {\n",
              "        vertical-align: top;\n",
              "    }\n",
              "\n",
              "    .dataframe thead th {\n",
              "        text-align: right;\n",
              "    }\n",
              "</style>\n",
              "<table border=\"1\" class=\"dataframe\">\n",
              "  <thead>\n",
              "    <tr style=\"text-align: right;\">\n",
              "      <th></th>\n",
              "      <th>serial</th>\n",
              "      <th>player_name</th>\n",
              "      <th>club</th>\n",
              "      <th>position</th>\n",
              "      <th>goals</th>\n",
              "      <th>right_foot</th>\n",
              "      <th>left_foot</th>\n",
              "      <th>headers</th>\n",
              "      <th>others</th>\n",
              "      <th>inside_area</th>\n",
              "      <th>outside_areas</th>\n",
              "      <th>penalties</th>\n",
              "      <th>match_played</th>\n",
              "    </tr>\n",
              "  </thead>\n",
              "  <tbody>\n",
              "    <tr>\n",
              "      <th>0</th>\n",
              "      <td>1</td>\n",
              "      <td>Benzema</td>\n",
              "      <td>Real Madrid</td>\n",
              "      <td>Forward</td>\n",
              "      <td>15</td>\n",
              "      <td>11</td>\n",
              "      <td>1</td>\n",
              "      <td>3</td>\n",
              "      <td>0</td>\n",
              "      <td>13</td>\n",
              "      <td>2</td>\n",
              "      <td>3</td>\n",
              "      <td>12</td>\n",
              "    </tr>\n",
              "    <tr>\n",
              "      <th>1</th>\n",
              "      <td>2</td>\n",
              "      <td>Lewandowski</td>\n",
              "      <td>Bayern</td>\n",
              "      <td>Forward</td>\n",
              "      <td>13</td>\n",
              "      <td>8</td>\n",
              "      <td>3</td>\n",
              "      <td>1</td>\n",
              "      <td>1</td>\n",
              "      <td>13</td>\n",
              "      <td>0</td>\n",
              "      <td>3</td>\n",
              "      <td>10</td>\n",
              "    </tr>\n",
              "    <tr>\n",
              "      <th>2</th>\n",
              "      <td>3</td>\n",
              "      <td>Haller</td>\n",
              "      <td>Ajax</td>\n",
              "      <td>Forward</td>\n",
              "      <td>11</td>\n",
              "      <td>3</td>\n",
              "      <td>4</td>\n",
              "      <td>3</td>\n",
              "      <td>1</td>\n",
              "      <td>11</td>\n",
              "      <td>0</td>\n",
              "      <td>1</td>\n",
              "      <td>8</td>\n",
              "    </tr>\n",
              "    <tr>\n",
              "      <th>3</th>\n",
              "      <td>4</td>\n",
              "      <td>Salah</td>\n",
              "      <td>Liverpool</td>\n",
              "      <td>Forward</td>\n",
              "      <td>8</td>\n",
              "      <td>0</td>\n",
              "      <td>8</td>\n",
              "      <td>0</td>\n",
              "      <td>0</td>\n",
              "      <td>7</td>\n",
              "      <td>1</td>\n",
              "      <td>1</td>\n",
              "      <td>13</td>\n",
              "    </tr>\n",
              "    <tr>\n",
              "      <th>4</th>\n",
              "      <td>5</td>\n",
              "      <td>Nkunku</td>\n",
              "      <td>Leipzig</td>\n",
              "      <td>Midfielder</td>\n",
              "      <td>7</td>\n",
              "      <td>3</td>\n",
              "      <td>1</td>\n",
              "      <td>3</td>\n",
              "      <td>0</td>\n",
              "      <td>7</td>\n",
              "      <td>0</td>\n",
              "      <td>0</td>\n",
              "      <td>6</td>\n",
              "    </tr>\n",
              "  </tbody>\n",
              "</table>\n",
              "</div>\n",
              "      <button class=\"colab-df-convert\" onclick=\"convertToInteractive('df-4710f53c-f4dc-455b-9aa0-5a50344e25ec')\"\n",
              "              title=\"Convert this dataframe to an interactive table.\"\n",
              "              style=\"display:none;\">\n",
              "        \n",
              "  <svg xmlns=\"http://www.w3.org/2000/svg\" height=\"24px\"viewBox=\"0 0 24 24\"\n",
              "       width=\"24px\">\n",
              "    <path d=\"M0 0h24v24H0V0z\" fill=\"none\"/>\n",
              "    <path d=\"M18.56 5.44l.94 2.06.94-2.06 2.06-.94-2.06-.94-.94-2.06-.94 2.06-2.06.94zm-11 1L8.5 8.5l.94-2.06 2.06-.94-2.06-.94L8.5 2.5l-.94 2.06-2.06.94zm10 10l.94 2.06.94-2.06 2.06-.94-2.06-.94-.94-2.06-.94 2.06-2.06.94z\"/><path d=\"M17.41 7.96l-1.37-1.37c-.4-.4-.92-.59-1.43-.59-.52 0-1.04.2-1.43.59L10.3 9.45l-7.72 7.72c-.78.78-.78 2.05 0 2.83L4 21.41c.39.39.9.59 1.41.59.51 0 1.02-.2 1.41-.59l7.78-7.78 2.81-2.81c.8-.78.8-2.07 0-2.86zM5.41 20L4 18.59l7.72-7.72 1.47 1.35L5.41 20z\"/>\n",
              "  </svg>\n",
              "      </button>\n",
              "      \n",
              "  <style>\n",
              "    .colab-df-container {\n",
              "      display:flex;\n",
              "      flex-wrap:wrap;\n",
              "      gap: 12px;\n",
              "    }\n",
              "\n",
              "    .colab-df-convert {\n",
              "      background-color: #E8F0FE;\n",
              "      border: none;\n",
              "      border-radius: 50%;\n",
              "      cursor: pointer;\n",
              "      display: none;\n",
              "      fill: #1967D2;\n",
              "      height: 32px;\n",
              "      padding: 0 0 0 0;\n",
              "      width: 32px;\n",
              "    }\n",
              "\n",
              "    .colab-df-convert:hover {\n",
              "      background-color: #E2EBFA;\n",
              "      box-shadow: 0px 1px 2px rgba(60, 64, 67, 0.3), 0px 1px 3px 1px rgba(60, 64, 67, 0.15);\n",
              "      fill: #174EA6;\n",
              "    }\n",
              "\n",
              "    [theme=dark] .colab-df-convert {\n",
              "      background-color: #3B4455;\n",
              "      fill: #D2E3FC;\n",
              "    }\n",
              "\n",
              "    [theme=dark] .colab-df-convert:hover {\n",
              "      background-color: #434B5C;\n",
              "      box-shadow: 0px 1px 3px 1px rgba(0, 0, 0, 0.15);\n",
              "      filter: drop-shadow(0px 1px 2px rgba(0, 0, 0, 0.3));\n",
              "      fill: #FFFFFF;\n",
              "    }\n",
              "  </style>\n",
              "\n",
              "      <script>\n",
              "        const buttonEl =\n",
              "          document.querySelector('#df-4710f53c-f4dc-455b-9aa0-5a50344e25ec button.colab-df-convert');\n",
              "        buttonEl.style.display =\n",
              "          google.colab.kernel.accessAllowed ? 'block' : 'none';\n",
              "\n",
              "        async function convertToInteractive(key) {\n",
              "          const element = document.querySelector('#df-4710f53c-f4dc-455b-9aa0-5a50344e25ec');\n",
              "          const dataTable =\n",
              "            await google.colab.kernel.invokeFunction('convertToInteractive',\n",
              "                                                     [key], {});\n",
              "          if (!dataTable) return;\n",
              "\n",
              "          const docLinkHtml = 'Like what you see? Visit the ' +\n",
              "            '<a target=\"_blank\" href=https://colab.research.google.com/notebooks/data_table.ipynb>data table notebook</a>'\n",
              "            + ' to learn more about interactive tables.';\n",
              "          element.innerHTML = '';\n",
              "          dataTable['output_type'] = 'display_data';\n",
              "          await google.colab.output.renderOutput(dataTable, element);\n",
              "          const docLink = document.createElement('div');\n",
              "          docLink.innerHTML = docLinkHtml;\n",
              "          element.appendChild(docLink);\n",
              "        }\n",
              "      </script>\n",
              "    </div>\n",
              "  </div>\n",
              "  "
            ]
          },
          "metadata": {},
          "execution_count": 10
        }
      ]
    },
    {
      "cell_type": "markdown",
      "source": [
        "Extracting the matrix features:"
      ],
      "metadata": {
        "id": "aznUP-czI31-"
      }
    },
    {
      "cell_type": "code",
      "source": [
        "x = data.loc[:,['goals','match_played']].values"
      ],
      "metadata": {
        "id": "p76VTz00IKd5"
      },
      "execution_count": null,
      "outputs": []
    },
    {
      "cell_type": "code",
      "source": [
        "print(x)"
      ],
      "metadata": {
        "id": "BwmkmrtZIe7S"
      },
      "execution_count": null,
      "outputs": []
    },
    {
      "cell_type": "markdown",
      "source": [
        "**Finding the optimal number of clusters using Dendrogram** "
      ],
      "metadata": {
        "id": "63r8uVajJBjl"
      }
    },
    {
      "cell_type": "code",
      "source": [
        "import scipy.cluster.hierarchy as sch\n",
        "dendo = sch.dendrogram(sch.linkage(x, method = 'ward'))\n",
        "\n",
        "ply.title(\"Dendrogram Plot\")\n",
        "ply.ylabel(\"Euclidean Distances\")\n",
        "ply.xlabel(\"Customers\")\n",
        "ply.show()"
      ],
      "metadata": {
        "colab": {
          "base_uri": "https://localhost:8080/",
          "height": 295
        },
        "id": "-jts5ftVIha1",
        "outputId": "57899ae9-1815-4303-8ece-f7a22e717c82"
      },
      "execution_count": null,
      "outputs": [
        {
          "output_type": "display_data",
          "data": {
            "text/plain": [
              "<Figure size 432x288 with 1 Axes>"
            ],
            "image/png": "[encoded data removed]"
          },
          "metadata": {
            "needs_background": "light"
          }
        }
      ]
    },
    {
      "cell_type": "markdown",
      "source": [
        "In the above diagram, we see that the vertical distances that are not cutting their horizontal bars. According to this, the number of clusters will be 6(the vertical lines in this range)."
      ],
      "metadata": {
        "id": "pDHO5BseKe0x"
      }
    },
    {
      "cell_type": "markdown",
      "source": [
        "**So, the optimal number of clusters will be 6**, and we will train the model in the next step, using the same."
      ],
      "metadata": {
        "id": "raR_LV8qLHn0"
      }
    },
    {
      "cell_type": "code",
      "source": [
        "from scipy.spatial.distance import euclidean\n",
        "#training the hierarchical model on dataset\n",
        "from sklearn.cluster import AgglomerativeClustering\n",
        "\n",
        "hc = AgglomerativeClustering(n_clusters= 6, affinity=\"euclidean\", linkage = \"ward\")"
      ],
      "metadata": {
        "id": "bfxN_TeeJsGv"
      },
      "execution_count": null,
      "outputs": []
    },
    {
      "cell_type": "code",
      "source": [
        "y_pred =  hc.fit_predict(x)"
      ],
      "metadata": {
        "id": "_s8yQut-Luqa"
      },
      "execution_count": null,
      "outputs": []
    },
    {
      "cell_type": "markdown",
      "source": [
        "The AgglomerativeClustering class takes the following parameters:\n",
        "\n",
        "\n",
        "1. **n_clusters**=6: It defines the number of clusters, and we have taken here 5 because it is the optimal number of clusters.\n",
        "\n",
        "2. **affinity**='euclidean': It is a metric used to compute the linkage.\n",
        "\n",
        "3. linkage='ward': It defines the linkage criteria, here we have used the \"ward\" linkage. This method is the popular linkage method that we have already used for creating the Dendrogram. It reduces the variance in each cluster."
      ],
      "metadata": {
        "id": "Y3twASqeMGSb"
      }
    },
    {
      "cell_type": "markdown",
      "source": [
        "In the last line, we have created the dependent variable y_pred to fit or train the model. It does train not only the model but also returns the clusters to which each data point belongs. "
      ],
      "metadata": {
        "id": "TVaKS1PmMaYZ"
      }
    },
    {
      "cell_type": "code",
      "source": [
        "print(y_pred)"
      ],
      "metadata": {
        "colab": {
          "base_uri": "https://localhost:8080/"
        },
        "id": "Mrv85iFjLz9b",
        "outputId": "85640e23-268e-495b-f01d-4469869430a9"
      },
      "execution_count": null,
      "outputs": [
        {
          "output_type": "stream",
          "name": "stdout",
          "text": [
            "[3 3 3 1 1 1 1 1 1 1 1 1 4 1 1 1 5 5 4 4 1 1 5 5 5 5 0 4 4 5 0 0 5 0 0 5 4\n",
            " 0 0 0 0 2 0 5 0 5 5 5 0 0 2 4 0 0 0 5 4 0 5 5 5 0 0 5 2 0 5 5 5 5 0 5 0 5\n",
            " 4 4 0 0 0 0 0 0 0 0 0 0 0 0 0 0 0 0 0 0 5 5 5 5 5 5 5 5 5 5 5 5 5 5 2 2 2\n",
            " 2 2 2 2 2 2 2 2 2 2 2 4 0 0 0 5 2 2 0 5 2 4 0 0 0 0 0 5 2 2 2 2 2 2 2 2 2\n",
            " 2 2 2 2 4 0 0 0 5 2 2 2 0 0 0 0 0 0 0 0 5 5 5 5 5 2 2 2 2 2 2 2 2 2 0]\n"
          ]
        }
      ]
    },
    {
      "cell_type": "markdown",
      "source": [
        "The y_pred shows the clusters value, which means the player id 1 belongs to the 4th cluster (as indexing starts from 0, so 3 means 4th cluster), the player id 4 belongs to 2nd cluster, and so on."
      ],
      "metadata": {
        "id": "v0lslkQkMrAI"
      }
    },
    {
      "cell_type": "markdown",
      "source": [
        "**Visualizing the clusters**"
      ],
      "metadata": {
        "id": "ShV0eJZAM-1z"
      }
    },
    {
      "cell_type": "code",
      "source": [
        "#visulaizing the clusters  \n",
        "ply.scatter(x[y_pred == 0, 0], x[y_pred == 0, 1], s = 100, c = 'blue', label = 'Cluster 1')  \n",
        "ply.scatter(x[y_pred == 1, 0], x[y_pred == 1, 1], s = 100, c = 'green', label = 'Cluster 2')  \n",
        "ply.scatter(x[y_pred== 2, 0], x[y_pred == 2, 1], s = 100, c = 'red', label = 'Cluster 3')  \n",
        "ply.scatter(x[y_pred == 3, 0], x[y_pred == 3, 1], s = 100, c = 'cyan', label = 'Cluster 4')  \n",
        "ply.scatter(x[y_pred == 4, 0], x[y_pred == 4, 1], s = 100, c = 'magenta', label = 'Cluster 5')\n",
        "ply.scatter(x[y_pred == 5, 0], x[y_pred == 5, 1], s = 100, c='yellow', label = 'Cluster 6')  \n",
        "ply.title('Clusters of Players')  \n",
        "ply.xlabel('Goals')  \n",
        "ply.ylabel('Match Played')  \n",
        "ply.legend()  \n",
        "ply.show()  "
      ],
      "metadata": {
        "colab": {
          "base_uri": "https://localhost:8080/",
          "height": 295
        },
        "id": "uYKrnRj1MllK",
        "outputId": "d31691d7-c6a4-440d-b79d-fe45d8835dd6"
      },
      "execution_count": null,
      "outputs": [
        {
          "output_type": "display_data",
          "data": {
            "text/plain": [
              "<Figure size 432x288 with 1 Axes>"
            ],
            "image/png": "[encoded data removed]"
          },
          "metadata": {
            "needs_background": "light"
          }
        }
      ]
    },
    {
      "cell_type": "markdown",
      "source": [
        "**Hierarchical Clustering over k-Mean Clustering**\n",
        "\n",
        "**Advantages**\t\n",
        "• Hierarchical\tclustering\toutputs\ta\thierarchy,\tie\ta\tstructure\tthat\tis\tmore\tinformative\tthan the\tunstructured\tset\tof\tflat\tclusters\treturned\tby\tk-means.\tTherefore,\tit\tis\teasier\tto\tdecide on\tthe\tnumber\tof\tclusters\tby\tlooking\tat\tthe\tdendrogram\t\t\n",
        "\n",
        "\n",
        "Disavantages\t\n",
        "• It\tis\tnot\tpossible\tto\tundo\tthe\tprevious\tstep:\tonce\tthe\tinstances\thave\tbeen\tassigned\tto\ta cluster,\tthey\tcan\tno\tlonger\tbe\tmoved\taround.\t\t\n",
        "• Time\tcomplexity:\tnot\tsuitable\tfor\tlarge\tdatasets\t\n",
        "• Initial\tseeds\thave\ta\tstrong\timpact\ton\tthe\tfinal\tresults\t\n",
        "• The\torder\tof\tthe\tdata\thas\tan\timpact\ton\tthe\tfinal\tresults\t\n",
        "• Very\tsensitive\tto\toutliers"
      ],
      "metadata": {
        "id": "EjqbzeNgQGWu"
      }
    },
    {
      "cell_type": "code",
      "source": [],
      "metadata": {
        "id": "0JzhVHRVNYRM"
      },
      "execution_count": null,
      "outputs": []
    }
  ]
}